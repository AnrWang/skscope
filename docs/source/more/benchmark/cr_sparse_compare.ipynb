{
 "cells": [
  {
   "cell_type": "markdown",
   "metadata": {},
   "source": [
    "# Comparison with `cr-sparse`"
   ]
  },
  {
   "cell_type": "markdown",
   "metadata": {},
   "source": [
    "In this notebook, we compare the performance of different implemention of common sparse constrained optimization algorithms in `skscope` and `cr-sparse`:\n",
    "\n",
    "- IHT: Iterative Hard Thresholding\n",
    "- OMP: Orthogonal Matching Pursuit\n",
    "- HTP: Hard Thresholding Pursuit\n",
    "- Grasp or CoSaMP: Compressive Sampling Matching Pursuit."
   ]
  },
  {
   "cell_type": "code",
   "execution_count": 2,
   "metadata": {},
   "outputs": [],
   "source": [
    "import numpy as np\n",
    "import pandas as pd\n",
    "import time\n",
    "import jax.numpy as jnp\n",
    "from skscope.solver import *\n",
    "import cr.sparse.dict as crdict\n",
    "from cr.sparse.pursuit import iht, omp, htp, cosamp\n",
    "from abess.datasets import make_glm_data"
   ]
  },
  {
   "cell_type": "markdown",
   "metadata": {},
   "source": [
    "The following function generate synthetic data and solve the sparse constrained least-square problem.\n",
    "\n",
    "The algorithm implemented in `skscope` and `cr-sparse` libraries are compared and the recovery accuracy and computation time are reported."
   ]
  },
  {
   "cell_type": "code",
   "execution_count": 3,
   "metadata": {},
   "outputs": [],
   "source": [
    "def test(n=500, p=1000, s=5, random_state=None):\n",
    "    print('='*20 + f'  n={n}, p={p}, s={s}  ' + '='*20 )\n",
    "    rng = np.random.default_rng(random_state)\n",
    "    true_support_set = rng.choice(np.arange(p), size=s, replace=False)\n",
    "    real_coef = np.zeros(p)\n",
    "    real_coef[true_support_set] = rng.choice(np.arange(1, 4), size=s) * rng.choice([1, -1], size=s)\n",
    "    data = make_glm_data(n=n, p=p, k=s, family='gaussian', coef_=real_coef)\n",
    "    X, y = data.x, data.y\n",
    "\n",
    "    iterables = [['OMP', 'IHT', 'HTP', 'Grasp'], ['cr-sparse', 'skscope']]\n",
    "    index = pd.MultiIndex.from_product(iterables, names=['Algorithm', 'Package'])\n",
    "    res = pd.DataFrame(columns=['Accuracy', 'Time'], index = index)\n",
    "\n",
    "    def objective(params):\n",
    "        loss = jnp.mean((y - X @ params) ** 2)\n",
    "        return loss\n",
    "\n",
    "    for algo in iterables[0]:\n",
    "        if algo == 'OMP':\n",
    "            solver = OMPSolver(p, sparsity=s)\n",
    "            model = omp\n",
    "        elif algo == 'IHT':\n",
    "            solver = IHTSolver(p, sparsity=s)\n",
    "            model = iht\n",
    "        elif algo == 'HTP':\n",
    "            solver = HTPSolver(p, sparsity=s)\n",
    "            model = htp\n",
    "        elif algo == 'Grasp':\n",
    "            solver = GraspSolver(p, sparsity=s)\n",
    "            model = cosamp\n",
    "\n",
    "        # cr-sparse\n",
    "        t_begin = time.time()\n",
    "        solution = model.matrix_solve(jnp.array(X), y, s)\n",
    "        t_cr = time.time() - t_begin\n",
    "        acc_cr = len(set(solution.I.tolist()) & set(true_support_set)) / s\n",
    "        res.loc[(algo, 'cr-sparse')] = [acc_cr, np.round(t_cr, 4)]\n",
    "        \n",
    "        # skscope\n",
    "        t_begin = time.time()\n",
    "        params = solver.solve(objective, jit=True)\n",
    "        t_skscope = time.time() - t_begin\n",
    "        acc_skscope = len(set(np.nonzero(params)[0]) & set(np.nonzero(data.coef_)[0])) / s\n",
    "        res.loc[(algo, 'skscope')] = [acc_skscope, np.round(t_skscope, 4)]\n",
    "\n",
    "    print(res)"
   ]
  },
  {
   "cell_type": "markdown",
   "metadata": {},
   "source": [
    "The results are shown in the following three tables and each correspons to a specific data dimension.\n",
    "\n",
    "Both recovery accuracy and computation time show the superiority of `skscope` over `cr-sparse` for all the above algorithms."
   ]
  },
  {
   "cell_type": "code",
   "execution_count": 4,
   "metadata": {},
   "outputs": [
    {
     "name": "stdout",
     "output_type": "stream",
     "text": [
      "====================  n=500, p=1000, s=5  ====================\n",
      "                    Accuracy    Time\n",
      "Algorithm Package                   \n",
      "OMP       cr-sparse      0.2  1.9142\n",
      "          skscope        1.0   0.198\n",
      "IHT       cr-sparse      0.0  0.4089\n",
      "          skscope        0.8  0.1685\n",
      "HTP       cr-sparse      0.4  0.5739\n",
      "          skscope        0.8   0.166\n",
      "Grasp     cr-sparse      1.0  0.8989\n",
      "          skscope        1.0  0.1799\n",
      "====================  n=2000, p=5000, s=10  ====================\n",
      "                    Accuracy     Time\n",
      "Algorithm Package                    \n",
      "OMP       cr-sparse      0.1    2.647\n",
      "          skscope        1.0   1.8372\n",
      "IHT       cr-sparse      0.6   3.4628\n",
      "          skscope        1.0   1.2507\n",
      "HTP       cr-sparse      0.6  42.7856\n",
      "          skscope        1.0    1.257\n",
      "Grasp     cr-sparse      1.0  43.2662\n",
      "          skscope        1.0   1.5364\n",
      "====================  n=5000, p=10000, s=10  ====================\n",
      "                    Accuracy      Time\n",
      "Algorithm Package                     \n",
      "OMP       cr-sparse      0.1    2.5915\n",
      "          skscope        1.0    8.4356\n",
      "IHT       cr-sparse      0.7    8.3954\n",
      "          skscope        1.0    6.1218\n",
      "HTP       cr-sparse      0.3  590.8998\n",
      "          skscope        1.0    6.1951\n",
      "Grasp     cr-sparse      1.0  603.0331\n",
      "          skscope        1.0    6.5937\n"
     ]
    }
   ],
   "source": [
    "settings = [\n",
    "    (500, 1000, 5),\n",
    "    (2000, 5000, 10),\n",
    "    (5000, 10000, 10),\n",
    "]\n",
    "for setting in settings:\n",
    "    n, p, s = setting\n",
    "    test(n=n, p=p, s=s)"
   ]
  }
 ],
 "metadata": {
  "kernelspec": {
   "display_name": "skscope",
   "language": "python",
   "name": "python3"
  },
  "language_info": {
   "codemirror_mode": {
    "name": "ipython",
    "version": 3
   },
   "file_extension": ".py",
   "mimetype": "text/x-python",
   "name": "python",
   "nbconvert_exporter": "python",
   "pygments_lexer": "ipython3",
   "version": "3.9.18"
  }
 },
 "nbformat": 4,
 "nbformat_minor": 2
}
