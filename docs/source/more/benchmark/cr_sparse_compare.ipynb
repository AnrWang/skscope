{
 "cells": [
  {
   "cell_type": "markdown",
   "metadata": {},
   "source": [
    "# Comparison with `cr-sparse`"
   ]
  },
  {
   "cell_type": "markdown",
   "metadata": {},
   "source": [
    "In this notebook, we compare the performance of different implemention of common sparse constrained optimization algorithms in `skscope` and `cr-sparse`:\n",
    "\n",
    "- IHT: Iterative Hard Thresholding\n",
    "- OMP: Orthogonal Matching Pursuit\n",
    "- HTP: Hard Thresholding Pursuit\n",
    "- Grasp or CoSaMP: Compressive Sampling Matching Pursuit."
   ]
  },
  {
   "cell_type": "code",
   "execution_count": 7,
   "metadata": {},
   "outputs": [],
   "source": [
    "import numpy as np\n",
    "import pandas as pd\n",
    "import time\n",
    "import jax.numpy as jnp\n",
    "from skscope.solver import *\n",
    "import cr.sparse.dict as crdict\n",
    "from cr.sparse.pursuit import iht, omp, htp, cosamp\n",
    "from abess.datasets import make_glm_data"
   ]
  },
  {
   "cell_type": "markdown",
   "metadata": {},
   "source": [
    "The following function generate synthetic data and solve the sparse constrained least-square problem.\n",
    "\n",
    "The algorithm implemented in `skscope` and `cr-sparse` libraries are compared and the recovery accuracy and computation time are reported."
   ]
  },
  {
   "cell_type": "code",
   "execution_count": 8,
   "metadata": {},
   "outputs": [],
   "source": [
    "def test(n=500, p=1000, s=5, random_state=None, rep=1):\n",
    "    print('='*20 + f'  n={n}, p={p}, s={s}  ' + '='*20 )\n",
    "    # rng = np.random.default_rng(random_state)\n",
    "    # true_support_set = rng.choice(np.arange(p), size=s, replace=False)\n",
    "    # real_coef = np.zeros(p)\n",
    "    # real_coef[true_support_set] = rng.choice(np.arange(1, 4), size=s) * rng.choice([1, -1], size=s)\n",
    "    # data = make_glm_data(n=n, p=p, k=s, family='gaussian', coef_=real_coef)\n",
    "    # X, y = data.x, data.y\n",
    "\n",
    "    # iterables = [['OMP', 'IHT', 'HTP', 'Grasp'], ['cr-sparse', 'skscope']]\n",
    "    # index = pd.MultiIndex.from_product(iterables, names=['Algorithm', 'Package'])\n",
    "    # res = pd.DataFrame(columns=['Accuracy', 'Time'], index = index)\n",
    "    res = pd.DataFrame(columns=['Algorithm', 'Package', 'Accuracy', 'Time'])\n",
    "\n",
    "    def objective(params):\n",
    "        loss = jnp.mean((y - X @ params) ** 2)\n",
    "        return loss\n",
    "\n",
    "    for i in range(rep):\n",
    "        rng = np.random.default_rng(i)\n",
    "        true_support_set = rng.choice(np.arange(p), size=s, replace=False)\n",
    "        real_coef = np.zeros(p)\n",
    "        real_coef[true_support_set] = rng.choice(np.arange(1, 4), size=s) * rng.choice([1, -1], size=s)\n",
    "        data = make_glm_data(n=n, p=p, k=s, family='gaussian', coef_=real_coef)\n",
    "        X, y = data.x, data.y\n",
    "\n",
    "        for algo in ['OMP', 'IHT', 'HTP', 'Grasp']:\n",
    "            if algo == 'OMP':\n",
    "                solver = OMPSolver(p, sparsity=s)\n",
    "                model = omp\n",
    "            elif algo == 'IHT':\n",
    "                solver = IHTSolver(p, sparsity=s)\n",
    "                model = iht\n",
    "            elif algo == 'HTP':\n",
    "                solver = HTPSolver(p, sparsity=s)\n",
    "                model = htp\n",
    "            elif algo == 'Grasp':\n",
    "                solver = GraspSolver(p, sparsity=s)\n",
    "                model = cosamp\n",
    "\n",
    "            # cr-sparse\n",
    "            t_begin = time.time()\n",
    "            solution = model.matrix_solve(jnp.array(X), y, s)\n",
    "            t_cr = time.time() - t_begin\n",
    "            acc_cr = len(set(solution.I.tolist()) & set(true_support_set)) / s\n",
    "            # res.loc[(algo, 'cr-sparse')] = [acc_cr, np.round(t_cr, 4)]\n",
    "            res.loc[len(res)] = [algo, 'cr-sparse', acc_cr, t_cr]\n",
    "            \n",
    "            # skscope\n",
    "            t_begin = time.time()\n",
    "            params = solver.solve(objective, jit=True)\n",
    "            t_skscope = time.time() - t_begin\n",
    "            acc_skscope = len(set(np.nonzero(params)[0]) & set(np.nonzero(data.coef_)[0])) / s\n",
    "            # res.loc[(algo, 'skscope')] = [acc_skscope, np.round(t_skscope, 4)]\n",
    "            res.loc[len(res)] = [algo, 'skscope', acc_skscope, t_skscope]\n",
    "\n",
    "    res_mean = res.groupby(['Algorithm', 'Package']).mean()\n",
    "    res_std = res.groupby(['Algorithm', 'Package']).std()\n",
    "    res_mean['Accuracy'] = res_mean['Accuracy'].map(lambda x: f'{x:.2f}') \n",
    "    res_mean['Time'] = res_mean['Time'].map(lambda x: f'{x:.2f}') \n",
    "    res_std['Accuracy'] = res_std['Accuracy'].map(lambda x: f' ({x:.2f})') \n",
    "    res_std['Time'] = res_std['Time'].map(lambda x: f' ({x:.2f})') \n",
    "    res_all = res_mean + res_std\n",
    "    print(res_all)\n",
    "    return res_all"
   ]
  },
  {
   "cell_type": "markdown",
   "metadata": {},
   "source": [
    "The results are shown in the following three tables and each correspons to a specific data dimension.\n",
    "\n",
    "Both recovery accuracy and computation time show the superiority of `skscope` over `cr-sparse` for all the above algorithms."
   ]
  },
  {
   "cell_type": "code",
   "execution_count": 9,
   "metadata": {},
   "outputs": [
    {
     "name": "stdout",
     "output_type": "stream",
     "text": [
      "====================  n=500, p=1000, s=10  ====================\n",
      "                        Accuracy         Time\n",
      "Algorithm Package                            \n",
      "Grasp     cr-sparse  1.00 (0.00)  1.68 (0.95)\n",
      "          skscope    1.00 (0.00)  0.47 (0.25)\n",
      "HTP       cr-sparse  0.51 (0.14)  1.11 (0.66)\n",
      "          skscope    0.84 (0.10)  0.26 (0.18)\n",
      "IHT       cr-sparse  0.34 (0.24)  0.33 (0.16)\n",
      "          skscope    0.83 (0.09)  0.33 (0.19)\n",
      "OMP       cr-sparse  0.10 (0.00)  0.05 (0.03)\n",
      "          skscope    1.00 (0.00)  0.49 (0.29)\n",
      "====================  n=2500, p=5000, s=50  ====================\n",
      "                        Accuracy            Time\n",
      "Algorithm Package                               \n",
      "Grasp     cr-sparse  1.00 (0.00)  190.02 (29.06)\n",
      "          skscope    1.00 (0.00)     6.25 (2.44)\n",
      "HTP       cr-sparse  0.81 (0.03)  157.74 (27.27)\n",
      "          skscope    0.89 (0.05)     5.13 (1.42)\n",
      "IHT       cr-sparse  0.33 (0.18)    12.83 (3.10)\n",
      "          skscope    0.86 (0.04)     4.53 (1.56)\n",
      "OMP       cr-sparse  0.02 (0.00)     4.18 (2.84)\n",
      "          skscope    1.00 (0.00)    13.59 (4.54)\n",
      "====================  n=5000, p=10000, s=100  ====================\n",
      "                        Accuracy             Time\n",
      "Algorithm Package                                \n",
      "Grasp     cr-sparse  1.00 (0.00)  952.16 (470.47)\n",
      "          skscope    1.00 (0.00)     11.27 (7.43)\n",
      "HTP       cr-sparse  0.81 (0.03)  797.22 (400.70)\n",
      "          skscope    0.91 (0.04)      9.05 (4.53)\n",
      "IHT       cr-sparse  0.00 (0.00)     11.33 (8.57)\n",
      "          skscope    0.85 (0.03)      9.30 (7.41)\n",
      "OMP       cr-sparse  0.01 (0.00)    22.49 (28.15)\n",
      "          skscope    1.00 (0.00)    47.42 (28.42)\n"
     ]
    }
   ],
   "source": [
    "settings = [\n",
    "    (500, 1000, 10),\n",
    "    (2500, 5000, 50),\n",
    "    (5000, 10000, 100),\n",
    "]\n",
    "\n",
    "for setting in settings:\n",
    "    n, p, s = setting\n",
    "    res = test(n=n, p=p, s=s, rep=10)"
   ]
  }
 ],
 "metadata": {
  "kernelspec": {
   "display_name": "skscope",
   "language": "python",
   "name": "python3"
  },
  "language_info": {
   "codemirror_mode": {
    "name": "ipython",
    "version": 3
   },
   "file_extension": ".py",
   "mimetype": "text/x-python",
   "name": "python",
   "nbconvert_exporter": "python",
   "pygments_lexer": "ipython3",
   "version": "3.9.18"
  }
 },
 "nbformat": 4,
 "nbformat_minor": 2
}
