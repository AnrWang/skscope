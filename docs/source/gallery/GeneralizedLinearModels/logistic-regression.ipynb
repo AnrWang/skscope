{
 "cells": [
  {
   "attachments": {},
   "cell_type": "markdown",
   "id": "7f5e5d54",
   "metadata": {},
   "source": [
    "\n",
    "Logistic Regressions\n",
    "------------\n",
    "\n",
    "We would like to use an example to show how the sparse-constrained optimization for logistic regression works in our program."
   ]
  },
  {
   "attachments": {},
   "cell_type": "markdown",
   "id": "e8486656",
   "metadata": {},
   "source": [
    "### Introduction\n",
    "\n",
    "Logistic regression is an important model to solve classification problem, which is expressed specifically as:\n",
    "$$\n",
    "\\begin{aligned}\n",
    "& P(y=1 \\mid x)=\\frac{1}{1+\\exp \\left(-x^T \\beta\\right)}, \\\\\n",
    "& P(y=0 \\mid x)=\\frac{1}{1+\\exp \\left(x^T \\beta\\right)},\n",
    "\\end{aligned}\n",
    "$$\n",
    "where $\\beta$ is an unknown parameter vector that to be estimated. Since we expect only a few explanatory variables contributing to predicting $y$, we assume $\\beta$ is sparse vector with sparsity level $s$.\n",
    "\n",
    "With $n$ independent data of the explanatory variables $x$ and the response variable $y$, we can estimate $\\beta$ by minimizing the negative log-likelihood function under sparsity constraint:\n",
    "\n",
    "<a id='loss'></a>\n",
    "$$\n",
    "\\arg \\min _{\\beta \\in R^p} L(\\beta):=-\\frac{1}{n} \\sum_{i=1}^n\\left\\{y_i x_i^T \\beta-\\log \\left(1+\\exp \\left(x_i^T \\beta\\right)\\right)\\right\\}, \\text { s.t. }\\|\\beta\\|_0 \\leq s \\tag{1}\n",
    "$$ "
   ]
  },
  {
   "attachments": {},
   "cell_type": "markdown",
   "id": "c6ce97f7",
   "metadata": {},
   "source": [
    "### Import necessary packages"
   ]
  },
  {
   "cell_type": "code",
   "execution_count": 2,
   "id": "4020f0a5",
   "metadata": {},
   "outputs": [],
   "source": [
    "import jax.numpy as jnp\n",
    "import numpy as np\n",
    "from skscope import ScopeSolver\n",
    "import numpy as np"
   ]
  },
  {
   "attachments": {},
   "cell_type": "markdown",
   "id": "ec16df9f",
   "metadata": {},
   "source": [
    "### Set a seed"
   ]
  },
  {
   "cell_type": "code",
   "execution_count": 13,
   "id": "b49ef6ca",
   "metadata": {},
   "outputs": [],
   "source": [
    "np.random.seed(123)"
   ]
  },
  {
   "attachments": {},
   "cell_type": "markdown",
   "id": "8e3318e9",
   "metadata": {},
   "source": [
    "### Generate the data\n",
    "\n",
    "Firstly, we define a data generator function to provide a way to generate suitable dataset for this task.\n",
    "\n",
    "The model:\n",
    "\n",
    "* $\\beta^*_i$ ~ U(1, 2), $\\forall i \\in supp(\\beta^*)$\n",
    "* $x = (x_1, \\cdots, x_p)^T$, $x_{i+1}=\\rho x_i+\\sqrt{1-\\rho^2}z_i$, where $x_1, z_i$ ~ N(0, 1)\n",
    "* $y\\in\\{0,1\\}$, $P(y=0)=\\frac{1}{1+\\exp^{x^T\\beta^*+c}}$"
   ]
  },
  {
   "cell_type": "code",
   "execution_count": 4,
   "id": "61c642e1",
   "metadata": {},
   "outputs": [],
   "source": [
    "def make_logistic_data(n, p, s, rho, random_state=None):\n",
    "    np.random.seed(random_state)\n",
    "    # beta\n",
    "    beta = np.zeros(p)\n",
    "    true_support_set = np.random.choice(p, s, replace=False)\n",
    "    beta[true_support_set] = np.random.uniform(1, 2, s)\n",
    "    # X\n",
    "    X = np.empty((n, p))\n",
    "    X[:, 0] = np.random.normal(0, 1, n)\n",
    "    for j in range(1, p):\n",
    "        X[:, j] = rho * X[:, j - 1] + np.sqrt(1-rho**2) * np.random.normal(0, 1, n)\n",
    "    # y\n",
    "    xbeta = np.clip(X @ beta, -30, 30)\n",
    "    p = 1 / (1 + np.exp(-xbeta))\n",
    "    y = np.random.binomial(1, p)\n",
    "\n",
    "    return X, y, beta, true_support_set"
   ]
  },
  {
   "attachments": {},
   "cell_type": "markdown",
   "id": "a42df91d",
   "metadata": {},
   "source": [
    "We then use this function to generate a data set containg 500 observations and set only 5 of the 500 variables to have effect on the expectation of the response."
   ]
  },
  {
   "cell_type": "code",
   "execution_count": 5,
   "id": "da82b90a",
   "metadata": {},
   "outputs": [
    {
     "name": "stdout",
     "output_type": "stream",
     "text": [
      "The predictor variables of the first five samples: \n",
      " [[ 0.69737282  0.03450501  0.42336761 -1.0105109   0.80309684]\n",
      " [-1.73742924 -0.93030375  1.17768213 -0.20897476 -0.45380626]\n",
      " [ 0.1158557   0.88898011  1.84867083  0.89752944  1.0140089 ]\n",
      " ...\n",
      " [-0.72372136  0.93656552  0.50196949 -0.46074581 -1.01287755]\n",
      " [ 1.7275667   0.66641827  0.58307715 -0.26071243 -0.93833324]\n",
      " [ 0.05005725 -0.19198389  1.03978649 -2.95108931 -1.18655014]]\n",
      "The first five noisy observations: \n",
      " [0 1 1 1 1]\n"
     ]
    }
   ],
   "source": [
    "n, p, s, rho = 500, 500, 5, 0.0\n",
    "X, y, true_params, true_support_set = make_logistic_data(n, p, s, rho , 0)\n",
    "\n",
    "print(\"The predictor variables of the first five samples:\",'\\n',X[:,:5])\n",
    "print(\"The first five noisy observations:\", '\\n', y[:5])"
   ]
  },
  {
   "attachments": {},
   "cell_type": "markdown",
   "id": "61544564",
   "metadata": {},
   "source": [
    "### Define function to calculate negative log-likelihood of logistic regression\n",
    "\n",
    "Secondly, we define the loss function `logistic_loss` accorting to [1](#loss) that matches the data generating function `make_logistic_data`."
   ]
  },
  {
   "cell_type": "code",
   "execution_count": 6,
   "id": "29c7bf03",
   "metadata": {},
   "outputs": [],
   "source": [
    "def logistic_loss(params):\n",
    "    xbeta = jnp.clip(X @ params, -30, 30)\n",
    "    return jnp.mean(jnp.log(1 + jnp.exp(xbeta)) - y * xbeta)"
   ]
  },
  {
   "attachments": {},
   "cell_type": "markdown",
   "id": "415b29a7",
   "metadata": {},
   "source": [
    "### Use skscope to solve the sparse logistic regression problem\n",
    "\n",
    "After defining the data generation and loss function, we can call `ScopeSolver` to solve the sparse-constrained optimization problem."
   ]
  },
  {
   "cell_type": "code",
   "execution_count": 7,
   "id": "50bcfc21",
   "metadata": {
    "scrolled": true
   },
   "outputs": [],
   "source": [
    "solver = ScopeSolver(p, s)\n",
    "params = solver.solve(logistic_loss, jit=True)"
   ]
  },
  {
   "attachments": {},
   "cell_type": "markdown",
   "id": "5981a88e",
   "metadata": {},
   "source": [
    "Now the `solver.params` contains the coefficients of logistic model with no more than 5 variables. That is, those variables with a coefficient 0 is unused in the model:"
   ]
  },
  {
   "cell_type": "code",
   "execution_count": 8,
   "id": "4472f505",
   "metadata": {
    "scrolled": true
   },
   "outputs": [
    {
     "name": "stdout",
     "output_type": "stream",
     "text": [
      "[0.         0.         0.         0.         0.         0.\n",
      " 0.         0.         0.         0.         0.         0.\n",
      " 0.         0.         0.         0.         0.         0.\n",
      " 0.         0.         0.         0.         0.         0.\n",
      " 0.         0.         0.         0.         0.         0.\n",
      " 0.         0.         0.         0.         0.         0.\n",
      " 0.         0.         0.         0.         0.         0.\n",
      " 0.         0.         0.         0.         0.         0.\n",
      " 0.         0.         0.         0.         0.         0.\n",
      " 0.         0.         0.         0.         0.         0.\n",
      " 0.         0.         0.         0.         0.         0.\n",
      " 0.         0.         0.         0.         0.         0.\n",
      " 0.         0.         0.         0.         0.         0.\n",
      " 0.         0.         0.         0.         0.         0.\n",
      " 0.         0.         0.         0.         0.         0.\n",
      " 1.28832619 0.         0.         0.         0.         0.\n",
      " 0.         0.         0.         0.         0.         0.\n",
      " 0.         0.         0.         0.         0.         0.\n",
      " 0.         0.         0.         0.         0.         0.\n",
      " 0.         0.         0.         0.         0.         0.\n",
      " 0.         0.         0.         0.         0.         0.\n",
      " 0.         0.         0.         0.         0.         0.\n",
      " 0.         0.         0.         0.         0.         0.\n",
      " 0.         0.         0.         0.         0.         0.\n",
      " 0.         0.         0.         0.         0.         0.\n",
      " 0.         0.         0.         0.         0.         0.\n",
      " 0.         0.         0.         0.         0.         0.\n",
      " 0.         0.         0.         0.         0.         0.\n",
      " 0.         0.         0.         0.         0.         0.\n",
      " 0.         0.         0.         0.         0.         0.\n",
      " 0.         0.         0.         0.         0.         0.\n",
      " 0.         0.         0.         0.         0.         0.\n",
      " 0.         0.         0.         0.         0.         0.\n",
      " 0.         0.         0.         0.         0.         0.\n",
      " 0.         0.         0.         0.         0.         0.\n",
      " 0.         0.         0.         0.         0.         0.\n",
      " 0.         0.         0.         0.         0.         0.\n",
      " 0.         0.         0.         0.         0.         0.\n",
      " 0.         0.         0.         0.         0.         0.\n",
      " 0.         0.         0.         0.         0.         0.\n",
      " 0.         0.         0.         0.         0.         0.\n",
      " 0.         0.         0.         0.         0.         0.\n",
      " 0.         0.         1.25065104 0.         0.         0.\n",
      " 0.         0.         0.         0.         0.         0.\n",
      " 0.         0.         0.         0.         0.         0.\n",
      " 0.         0.         0.         0.         0.         0.\n",
      " 0.         0.         0.         0.         0.         0.\n",
      " 0.         1.80884759 0.         0.         0.         0.\n",
      " 0.         0.         0.         0.         0.         0.\n",
      " 0.         0.         0.         0.         0.         0.\n",
      " 0.         0.         0.         0.         0.         0.\n",
      " 0.         0.         0.         0.         0.         0.\n",
      " 0.         0.         0.         0.         0.         0.\n",
      " 0.         0.         0.         0.         0.         0.\n",
      " 0.         0.         0.         0.         0.         0.\n",
      " 0.         0.         0.         0.         0.         0.\n",
      " 0.         0.         0.         0.         0.         0.\n",
      " 0.         0.         0.         0.         0.         0.\n",
      " 0.         0.         0.         0.         0.         0.\n",
      " 0.         0.         0.         0.         0.         0.\n",
      " 0.         0.         0.         0.         0.         0.\n",
      " 0.         0.         0.         0.         0.         0.\n",
      " 0.         0.         0.         0.         0.         0.\n",
      " 0.         0.         0.         0.         0.         0.\n",
      " 0.         0.         0.         0.         0.         0.\n",
      " 0.         0.         0.         0.         0.         0.\n",
      " 0.         0.         0.         0.         0.         0.\n",
      " 0.         0.         0.         0.         0.         0.\n",
      " 0.         0.         0.         0.         0.         0.\n",
      " 0.         0.         0.         0.         0.         0.\n",
      " 0.         0.         0.         0.         0.         0.\n",
      " 0.         0.         0.         0.         0.         0.\n",
      " 0.         0.         0.         0.         0.         0.\n",
      " 0.         0.         0.         0.         0.         0.\n",
      " 0.         1.11876537 0.         0.         0.         0.\n",
      " 0.         0.         0.         0.         0.         0.\n",
      " 0.         0.         0.         0.         0.         1.44894047\n",
      " 0.         0.         0.         0.         0.         0.\n",
      " 0.         0.         0.         0.         0.         0.\n",
      " 0.         0.         0.         0.         0.         0.\n",
      " 0.         0.         0.         0.         0.         0.\n",
      " 0.         0.         0.         0.         0.         0.\n",
      " 0.         0.         0.         0.         0.         0.\n",
      " 0.         0.        ]\n"
     ]
    }
   ],
   "source": [
    "print(solver.params)"
   ]
  },
  {
   "attachments": {},
   "cell_type": "markdown",
   "id": "7352ee5e",
   "metadata": {},
   "source": [
    "We can further compare the coefficients estimated by `skscope` and the real coefficients in three-fold:\n",
    "\n",
    "* The true support set and the estimated support set\n",
    "\n",
    "* The true nonzero parameters and the estimated nonzero parameters\n",
    "\n",
    "* The true loss value and the estimated values"
   ]
  },
  {
   "cell_type": "code",
   "execution_count": 9,
   "id": "6b080ad7",
   "metadata": {},
   "outputs": [
    {
     "name": "stdout",
     "output_type": "stream",
     "text": [
      "True support set:  [ 90 254 283 445 461]\n",
      "Estimated support set:  [ 90 254 283 445 461]\n"
     ]
    }
   ],
   "source": [
    "print(\"True support set: \", (true_support_set))\n",
    "print(\"Estimated support set: \", (solver.support_set))"
   ]
  },
  {
   "cell_type": "code",
   "execution_count": 10,
   "id": "35c717e8",
   "metadata": {},
   "outputs": [
    {
     "name": "stdout",
     "output_type": "stream",
     "text": [
      "True parameters:  [1.45985588 1.0446123  1.79979588 1.07695645 1.51883515]\n",
      "Estimated parameters:  [1.28832619 1.25065104 1.80884759 1.11876537 1.44894047]\n"
     ]
    }
   ],
   "source": [
    "print(\"True parameters: \", true_params[true_support_set])\n",
    "print(\"Estimated parameters: \", solver.params[solver.support_set])"
   ]
  },
  {
   "cell_type": "code",
   "execution_count": 11,
   "id": "5ec381f6",
   "metadata": {},
   "outputs": [
    {
     "name": "stdout",
     "output_type": "stream",
     "text": [
      "True loss value:  0.34673184\n",
      "Estimated loss value:  0.3428498\n"
     ]
    }
   ],
   "source": [
    "print(\"True loss value: \", logistic_loss(true_params))\n",
    "print(\"Estimated loss value: \", logistic_loss(solver.params))"
   ]
  },
  {
   "attachments": {},
   "cell_type": "markdown",
   "id": "71960a6d",
   "metadata": {},
   "source": [
    "### More on the results\n",
    "\n",
    "We can plot the sparse signal recovering from the noisy observations to visualize the results."
   ]
  },
  {
   "cell_type": "code",
   "execution_count": 12,
   "id": "95bab082",
   "metadata": {},
   "outputs": [
    {
     "data": {
      "image/png": "[encoded data removed]",
      "text/plain": [
       "<Figure size 700x700 with 2 Axes>"
      ]
     },
     "metadata": {},
     "output_type": "display_data"
    }
   ],
   "source": [
    "import matplotlib.pyplot as plt\n",
    "(inx_true,) =  true_params.nonzero()\n",
    "(inx_est,) =  solver.params.nonzero()\n",
    "\n",
    "# plot the sparse signal\n",
    "plt.figure(figsize=(7, 7))\n",
    "plt.subplot(2, 1, 1)\n",
    "plt.stem(inx_true, true_params[inx_true], markerfmt='o', basefmt='k-')\n",
    "plt.plot([0, 500], [0, 0], 'r-', lw=2)\n",
    "plt.xlim(0, 500)\n",
    "plt.title(\"Sparse signal\")\n",
    "#plt.plot(inx_true, true_params[inx_true], drawstyle='steps-post')\n",
    "\n",
    "# plot the noisy reconstruction\n",
    "plt.subplot(2, 1, 2)\n",
    "plt.stem(inx_est, solver.params[inx_est], markerfmt='o', basefmt='k-')\n",
    "plt.plot([0, 500], [0, 0], 'r-', lw=2)\n",
    "plt.xlim(0, 500)\n",
    "plt.title(\"Recovered signal from noisy observations\")\n",
    "#plt.plot(inx_est, solver.params[inx_est], drawstyle='steps-post')\n",
    "\n",
    "plt.show()"
   ]
  },
  {
   "cell_type": "code",
   "execution_count": null,
   "id": "7378de06",
   "metadata": {},
   "outputs": [],
   "source": []
  }
 ],
 "metadata": {
  "kernelspec": {
   "display_name": "p38",
   "language": "python",
   "name": "p38"
  },
  "language_info": {
   "codemirror_mode": {
    "name": "ipython",
    "version": 3
   },
   "file_extension": ".py",
   "mimetype": "text/x-python",
   "name": "python",
   "nbconvert_exporter": "python",
   "pygments_lexer": "ipython3",
   "version": "3.8.13"
  }
 },
 "nbformat": 4,
 "nbformat_minor": 5
}
