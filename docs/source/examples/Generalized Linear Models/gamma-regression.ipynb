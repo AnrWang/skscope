{
 "cells": [
  {
   "cell_type": "code",
   "execution_count": 1,
   "id": "c2a702d8",
   "metadata": {},
   "outputs": [],
   "source": [
    "%matplotlib inline"
   ]
  },
  {
   "cell_type": "markdown",
   "id": "7f5e5d54",
   "metadata": {},
   "source": [
    "\n",
    "# Generalized Linear Model\n"
   ]
  },
  {
   "cell_type": "markdown",
   "id": "55dcc923",
   "metadata": {},
   "source": [
    "## Gamma Regression\n",
    "Gamma regression can be used when you have positive continuous response variables such as payments for insurance claims,\n",
    "or the lifetime of a redundant system.\n",
    "It is well known that the density of Gamma distribution can be represented as a function of\n",
    "a mean parameter ($\\mu$) and a shape parameter ($\\alpha$), respectively,\n",
    "$$\n",
    "\\begin{align}f(y \\mid \\mu, \\alpha)=\\frac{1}{y \\Gamma(\\alpha)}\\left(\\frac{\\alpha y}{\\mu}\\right)^{\\alpha} e^{-\\alpha y / \\mu} {I}_{(0, \\infty)}(y),\\end{align}\n",
    "$$\n",
    "where $I(\\cdot)$ denotes the indicator function. In the Gamma regression model,\n",
    "response variables are assumed to follow Gamma distributions. Specifically,\n",
    "\n",
    "\\begin{align}y_i \\sim Gamma(\\mu_i, \\alpha),\\end{align}\n",
    "\n",
    "\n",
    "where $1/\\mu_i = x_i^T\\beta$.\n",
    "\n",
    "With $n$ independent data of the explanatory variables $x$ and the response variable $y$, we can estimate $\\beta$ by minimizing the negative log-likelihood function under sparsity constraint:\n",
    "$$\n",
    "\\arg \\min _{\\beta \\in R^p} L(\\beta):=-\\frac{1}{n} \\sum_{i=1}^n\\left\\{-\\alpha \\left( y_i x_i^T \\beta - \\log \\left(x_i^T \\beta\\right)\\right) + \\alpha \\log \\alpha + \\left(\\alpha - 1\\right) \\log y - \\log \\Gamma \\left(\\alpha\\right) \\right\\}, \\text { s.t. }\\|\\beta\\|_0 \\leq s .\n",
    "$$\n",
    "\n",
    "Here is Python code for solving sparse gamma regression problem:\n"
   ]
  },
  {
   "cell_type": "markdown",
   "id": "2a3dae62",
   "metadata": {},
   "source": [
    "### Import necessary packages "
   ]
  },
  {
   "cell_type": "code",
   "execution_count": 2,
   "id": "e0543a73",
   "metadata": {},
   "outputs": [],
   "source": [
    "import numpy as np\n",
    "from abess.datasets import make_glm_data\n",
    "import jax.numpy as jnp\n",
    "from scope import ScopeSolver, HTPSolver, GraspSolver\n",
    "from scope.numeric_solver import convex_solver_nlopt"
   ]
  },
  {
   "cell_type": "markdown",
   "id": "c325811b",
   "metadata": {},
   "source": [
    "### Set a seed for experimental reproduction"
   ]
  },
  {
   "cell_type": "code",
   "execution_count": 3,
   "id": "170d8d8c",
   "metadata": {},
   "outputs": [],
   "source": [
    "np.random.seed(123)"
   ]
  },
  {
   "cell_type": "markdown",
   "id": "36c71007",
   "metadata": {},
   "source": [
    "### Generate the data"
   ]
  },
  {
   "cell_type": "code",
   "execution_count": 8,
   "id": "9ae245de",
   "metadata": {},
   "outputs": [],
   "source": [
    "n = 500\n",
    "p = 500\n",
    "s = 5\n",
    "data = make_glm_data(n=n, p=p, k=s, family=\"gamma\")\n",
    "X = np.hstack((np.ones((n, 1)), data.x))\n",
    "y = data.y\n",
    "true_params = np.hstack(([0.0], data.coef_))"
   ]
  },
  {
   "cell_type": "markdown",
   "id": "e74f586f",
   "metadata": {},
   "source": [
    "### Define function to calculate negative log-likelihood of Gamma regression"
   ]
  },
  {
   "cell_type": "code",
   "execution_count": 9,
   "id": "8ba5303d",
   "metadata": {},
   "outputs": [],
   "source": [
    "def gamma_loss(params):\n",
    "    xbeta = jnp.clip(X @ params, -30, 30)\n",
    "    return jnp.mean(y * xbeta - jnp.log(xbeta)) \n",
    "\n",
    "def convex_solver_gamma(\n",
    "    loss_fn,\n",
    "    value_and_grad,\n",
    "    params,\n",
    "    optim_variable_set,\n",
    "    data,\n",
    "):\n",
    "    \"\"\"\n",
    "    change the initial value of the parameters to let X @ params > 0\n",
    "    \"\"\"\n",
    "    m = np.min(X @ params)\n",
    "    if m <= 0.0:\n",
    "        params[0] -= m\n",
    "    return convex_solver_nlopt(loss_fn, value_and_grad, params, optim_variable_set, data)\n"
   ]
  },
  {
   "cell_type": "markdown",
   "id": "56f9e16e",
   "metadata": {},
   "source": [
    "### Use scope to solve the sparse gamma regression problem"
   ]
  },
  {
   "cell_type": "code",
   "execution_count": 10,
   "id": "95501b69",
   "metadata": {},
   "outputs": [
    {
     "name": "stdout",
     "output_type": "stream",
     "text": [
      "True support set:  [ 36 242 387 469 479]\n",
      "Estimated support set:  [ 14  53 242 387 479]\n",
      "Estimated loss value:  -2.2741227\n"
     ]
    }
   ],
   "source": [
    "solver = ScopeSolver(p+1, s+1, always_select=[0], numeric_solver=convex_solver_gamma)\n",
    "solver.solve(gamma_loss, init_params=np.hstack(([1.0], np.zeros(p))), jit=True)\n",
    "\n",
    "print(\"True support set: \", np.nonzero(true_params)[0])\n",
    "#print(\"True parameters: \", true_params[1:])\n",
    "#print(\"True loss value: \", gamma_loss(true_params))\n",
    "print(\"Estimated support set: \", np.sort(solver.support_set)[1:])\n",
    "#print(\"Estimated parameters: \", solver.params[1:])\n",
    "print(\"Estimated loss value: \", gamma_loss(solver.params))"
   ]
  },
  {
   "cell_type": "markdown",
   "id": "ad64d6ca",
   "metadata": {},
   "source": [
    "### More on the results\n",
    "\n",
    "We can plot the sparse signal recovering from the noisy observations to visualize the results."
   ]
  },
  {
   "cell_type": "code",
   "execution_count": 11,
   "id": "f711e241",
   "metadata": {},
   "outputs": [
    {
     "data": {
      "image/png": "[encoded data removed]",
      "text/plain": [
       "<Figure size 700x700 with 2 Axes>"
      ]
     },
     "metadata": {},
     "output_type": "display_data"
    }
   ],
   "source": [
    "import matplotlib.pyplot as plt\n",
    "(inx_true,) =  data.coef_.nonzero()\n",
    "(inx_est,) =  solver.params.nonzero()\n",
    "\n",
    "# plot the sparse signal\n",
    "plt.figure(figsize=(7, 7))\n",
    "plt.subplot(2, 1, 1)\n",
    "plt.stem(inx_true, data.coef_[inx_true], markerfmt='o', basefmt='k-')\n",
    "plt.plot([0, 500], [0, 0], 'r-', lw=2)\n",
    "plt.xlim(0, 500)\n",
    "plt.title(\"Sparse signal\")\n",
    "#plt.plot(inx_true, true_params[inx_true], drawstyle='steps-post')\n",
    "\n",
    "# plot the noisy reconstruction\n",
    "plt.subplot(2, 1, 2)\n",
    "plt.stem(inx_est, solver.params[inx_est], markerfmt='o', basefmt='k-')\n",
    "plt.plot([0, 500], [0, 0], 'r-', lw=2)\n",
    "plt.xlim(0, 500)\n",
    "plt.title(\"Recovered signal from noisy observations\")\n",
    "#plt.plot(inx_est, solver.params[inx_est], drawstyle='steps-post')\n",
    "\n",
    "plt.show()"
   ]
  },
  {
   "cell_type": "code",
   "execution_count": null,
   "id": "36c8c77d",
   "metadata": {},
   "outputs": [],
   "source": []
  }
 ],
 "metadata": {
  "kernelspec": {
   "display_name": "p38",
   "language": "python",
   "name": "p38"
  },
  "language_info": {
   "codemirror_mode": {
    "name": "ipython",
    "version": 3
   },
   "file_extension": ".py",
   "mimetype": "text/x-python",
   "name": "python",
   "nbconvert_exporter": "python",
   "pygments_lexer": "ipython3",
   "version": "3.8.13"
  }
 },
 "nbformat": 4,
 "nbformat_minor": 5
}
