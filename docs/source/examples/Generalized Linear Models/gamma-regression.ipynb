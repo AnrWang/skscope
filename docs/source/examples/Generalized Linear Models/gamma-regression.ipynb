{
 "cells": [
  {
   "cell_type": "code",
   "execution_count": 1,
   "id": "c2a702d8",
   "metadata": {},
   "outputs": [],
   "source": [
    "%matplotlib inline"
   ]
  },
  {
   "cell_type": "markdown",
   "id": "7f5e5d54",
   "metadata": {},
   "source": [
    "\n",
    "# Generalized Linear Model\n"
   ]
  },
  {
   "cell_type": "markdown",
   "id": "55dcc923",
   "metadata": {},
   "source": [
    "## Gamma Regression\n",
    "Gamma regression can be used when you have positive continuous response variables such as payments for insurance claims,\n",
    "or the lifetime of a redundant system.\n",
    "It is well known that the density of Gamma distribution can be represented as a function of\n",
    "a mean parameter ($\\mu$) and a shape parameter ($\\alpha$), respectively,\n",
    "$$\n",
    "\\begin{align}f(y \\mid \\mu, \\alpha)=\\frac{1}{y \\Gamma(\\alpha)}\\left(\\frac{\\alpha y}{\\mu}\\right)^{\\alpha} e^{-\\alpha y / \\mu} {I}_{(0, \\infty)}(y),\\end{align}\n",
    "$$\n",
    "where $I(\\cdot)$ denotes the indicator function. In the Gamma regression model,\n",
    "response variables are assumed to follow Gamma distributions. Specifically,\n",
    "\n",
    "\\begin{align}y_i \\sim Gamma(\\mu_i, \\alpha),\\end{align}\n",
    "\n",
    "\n",
    "where $1/\\mu_i = x_i^T\\beta$.\n",
    "\n",
    "With $n$ independent data of the explanatory variables $x$ and the response variable $y$, we can estimate $\\beta$ by minimizing the negative log-likelihood function under sparsity constraint:\n",
    "$$\n",
    "\\arg \\min _{\\beta \\in R^p} L(\\beta):=-\\frac{1}{n} \\sum_{i=1}^n\\left\\{-\\alpha \\left( y_i x_i^T \\beta - \\log \\left(x_i^T \\beta\\right)\\right) + \\alpha \\log \\alpha + \\left(\\alpha - 1\\right) \\log y - \\log \\Gamma \\left(\\alpha\\right) \\right\\}, \\text { s.t. }\\|\\beta\\|_0 \\leq s .\n",
    "$$\n",
    "\n",
    "Here is Python code for solving sparse gamma regression problem:\n"
   ]
  },
  {
   "cell_type": "code",
   "execution_count": 6,
   "id": "9ae245de",
   "metadata": {},
   "outputs": [
    {
     "name": "stdout",
     "output_type": "stream",
     "text": [
      "True support set:  [1 7 9]\n",
      "True parameters:  [11.82346289  0.          0.          0.          0.          0.\n",
      " 19.56456813  0.         23.29703584  0.        ]\n",
      "Estimated support set:  [1 7 9]\n",
      "Estimated parameters:  [10.25436016  0.          0.          0.          0.          0.\n",
      " 21.66317082  0.         19.96831658  0.        ]\n",
      "Estimated loss value:  -1.8518866\n"
     ]
    }
   ],
   "source": [
    "import numpy as np\n",
    "from abess.datasets import make_glm_data\n",
    "import jax.numpy as jnp\n",
    "from scope import ScopeSolver, HTPSolver, GraspSolver\n",
    "from scope.numeric_solver import convex_solver_nlopt\n",
    "np.random.seed(123)\n",
    "\n",
    "n = 1000\n",
    "p = 10\n",
    "s = 3\n",
    "data = make_glm_data(n=n, p=p, k=s, family=\"gamma\")\n",
    "X = np.hstack((np.ones((n, 1)), data.x))\n",
    "y = data.y\n",
    "true_params = np.hstack(([0.0], data.coef_))\n",
    "\n",
    "# Define function to calculate negative log-likelihood of Gamma regression\n",
    "def gamma_loss(params):\n",
    "    xbeta = jnp.clip(X @ params, -30, 30)\n",
    "    return jnp.mean(y * xbeta - jnp.log(xbeta)) \n",
    "\n",
    "def convex_solver_gamma(\n",
    "    loss_fn,\n",
    "    value_and_grad,\n",
    "    params,\n",
    "    optim_variable_set,\n",
    "    data,\n",
    "):\n",
    "    \"\"\"\n",
    "    change the initial value of the parameters to let X @ params > 0\n",
    "    \"\"\"\n",
    "    m = np.min(X @ params)\n",
    "    if m <= 0.0:\n",
    "        params[0] -= m\n",
    "    return convex_solver_nlopt(loss_fn, value_and_grad, params, optim_variable_set, data)\n",
    "\n",
    "    \n",
    "\n",
    "solver = ScopeSolver(p+1, s+1, always_select=[0], convex_solver=convex_solver_gamma)\n",
    "solver.solve(gamma_loss, init_params=np.hstack(([1.0], np.zeros(p))), jit=True)\n",
    "\n",
    "print(\"True support set: \", np.nonzero(true_params)[0])\n",
    "print(\"True parameters: \", true_params[1:])\n",
    "#print(\"True loss value: \", gamma_loss(true_params))\n",
    "print(\"Estimated support set: \", np.sort(solver.support_set)[1:])\n",
    "print(\"Estimated parameters: \", solver.params[1:])\n",
    "print(\"Estimated loss value: \", gamma_loss(solver.params))"
   ]
  }
 ],
 "metadata": {
  "kernelspec": {
   "display_name": "Python 3 (ipykernel)",
   "language": "python",
   "name": "python3"
  },
  "language_info": {
   "codemirror_mode": {
    "name": "ipython",
    "version": 3
   },
   "file_extension": ".py",
   "mimetype": "text/x-python",
   "name": "python",
   "nbconvert_exporter": "python",
   "pygments_lexer": "ipython3",
   "version": "3.10.9"
  }
 },
 "nbformat": 4,
 "nbformat_minor": 5
}
