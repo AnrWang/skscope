{
 "cells": [
  {
   "cell_type": "code",
   "execution_count": 1,
   "id": "27136bd7",
   "metadata": {},
   "outputs": [],
   "source": [
    "%matplotlib inline"
   ]
  },
  {
   "cell_type": "markdown",
   "id": "9d7a7cae",
   "metadata": {},
   "source": [
    "\n",
    "# Generalized Linear Model\n"
   ]
  },
  {
   "cell_type": "markdown",
   "id": "e9f957ec",
   "metadata": {},
   "source": [
    "## Inverse Gaussian Regression\n",
    "The inverse Gaussian distribution is a continuous probability distribution with probability density function:\n",
    "$$\n",
    "f(y|\\mu,\\lambda) = \\sqrt{\\frac{\\lambda}{2\\pi y^3}}\\exp\\left(-\\frac{\\lambda(y-\\mu)^2}{2\\mu^2y}\\right)\n",
    "$$\n",
    "where $y>0$, mean $\\mu>0$, and dispersion parameter $\\lambda>0$. In fact, the inverse Gaussian distribution can also use the variance $\\sigma^{2}$ to represent the shape parameter, and the relationship between the two is $\\lambda = 1/\\sigma^{2}$. We then use $\\sigma^{2}$ to reparameterize the probability density function of the inverse Gaussian distribution:\n",
    "$$\n",
    "f\\left(y ; \\mu, \\sigma^2\\right)=\\frac{1}{\\sqrt{2 \\pi y^3 \\sigma^2}} \\exp \\left\\{-\\frac{(y-\\mu)^2}{2(\\mu \\sigma)^2 y}\\right\\}\n",
    "$$\n",
    "\n",
    "In inverse Gaussian regression, we assume that the response variable $yi$ follows an inverse Gaussian distribution with mean $\\mu_i$ and variance parameter $\\sigma^{2}$. In GLM, we model the mean $\\mu_i$ as $\\frac{1}{2 \\mu_i^2}=x_i^T\\beta$.\n",
    "\n",
    "where $\\beta$ is a vector of unknown regression coefficients, and $x_i$ is a vector of predictor variables for the $i$th observation.\n",
    "\n",
    "With $n$ independent data of the explanatory variables $x$ and the response variable $y$, we can estimate $\\beta$ by minimizing the negative log-likelihood function under sparsity constraint:\n",
    "$$\n",
    "\\arg \\min _{\\beta \\in R^p} L(\\beta):=-\\frac{1}{n} \\sum_{i=1}^n \\left\\{\\frac{y_i x_i^T\\beta-\\sqrt{2 x_i^T\\beta}}{-\\sigma^2}-\\frac{1}{2 y_i \\sigma^2}-\\frac{1}{2} \\ln \\left(2 \\pi y_i^3 \\sigma^2\\right)\\right\\}, \\text { s.t. }\\|\\beta\\|_0 \\leq s .\n",
    "$$\n",
    "\n",
    "Here is Python code for solving sparse Inverse Gaussian Regression problem:"
   ]
  },
  {
   "cell_type": "code",
   "execution_count": 2,
   "id": "c6b29840",
   "metadata": {},
   "outputs": [
    {
     "name": "stderr",
     "output_type": "stream",
     "text": [
      "/Users/zhujin/miniforge3/envs/convex-solver/lib/python3.9/site-packages/jax/_src/lib/__init__.py:33: UserWarning: JAX on Mac ARM machines is experimental and minimally tested. Please see https://github.com/google/jax/issues/5501 in the event of problems.\n",
      "  warnings.warn(\"JAX on Mac ARM machines is experimental and minimally tested. \"\n"
     ]
    }
   ],
   "source": [
    "import jax.numpy as jnp\n",
    "import numpy as np\n",
    "from scope import ScopeSolver\n",
    "import numpy as np"
   ]
  },
  {
   "cell_type": "code",
   "execution_count": 3,
   "id": "9d02b1ba",
   "metadata": {},
   "outputs": [],
   "source": [
    "np.random.seed(4)"
   ]
  },
  {
   "cell_type": "code",
   "execution_count": 4,
   "id": "ee45d72d",
   "metadata": {},
   "outputs": [],
   "source": [
    "import numpy as np\n",
    "from scipy.stats import invgauss\n",
    "\n",
    "def simulate_inverse_gaussian_regression_data(n, p, s, lambda_):\n",
    "    # Generate predictor variables\n",
    "    X = np.random.normal(size=(n, p))\n",
    "    \n",
    "    beta = np.zeros(p)\n",
    "    true_support_set = np.random.choice(p, s, replace=False)\n",
    "    beta[true_support_set] = np.random.normal(0, 1, s)\n",
    "    \n",
    "    # Compute mean for each observation\n",
    "    mu = np.exp(np.dot(X, beta))\n",
    "    \n",
    "    # Generate response variables\n",
    "    y = invgauss.rvs(mu=mu, scale=lambda_/mu)\n",
    "    \n",
    "    return X, y, beta, true_support_set\n",
    "\n",
    "n = 200\n",
    "p = 10\n",
    "s = 3\n",
    "lambda_ = 1\n",
    "X, y, true_params, true_support_set = simulate_inverse_gaussian_regression_data(n, p, s, lambda_)"
   ]
  },
  {
   "cell_type": "code",
   "execution_count": 5,
   "id": "0710c568",
   "metadata": {},
   "outputs": [
    {
     "name": "stdout",
     "output_type": "stream",
     "text": [
      "True support set:  [2 4 9]\n",
      "Estimated support set:  [1 2 6]\n",
      "True parameters:  [ 0.          0.         -0.23149863  0.          0.25948346  0.\n",
      "  0.          0.          0.          1.36526277]\n",
      "True loss value:  8.164849\n",
      "Estimated parameters:  [0.         0.17128891 0.10860098 0.         0.         0.\n",
      " 0.14299648 0.         0.         0.        ]\n",
      "Estimated loss value:  -0.453147\n"
     ]
    }
   ],
   "source": [
    "#def inverse_gaussian_regression_loss(params):\n",
    " #   xbeta = jnp.clip(X @ params, -30, 30)\n",
    "  #  return jnp.mean(jnp.sqrt(2*xbeta) - y * xbeta)\n",
    "\n",
    "def inverse_gaussian_regression_loss(params):\n",
    "    xbeta = jnp.clip(X @ params, -30, 30)\n",
    "    return jnp.mean(y/(2*jnp.exp(2*xbeta))-jnp.exp(-xbeta))\n",
    "\n",
    "solver = ScopeSolver(p, s)\n",
    "solver.solve(inverse_gaussian_regression_loss, jit=True)\n",
    "\n",
    "print(\"True support set: \", np.sort(true_support_set))\n",
    "print(\"Estimated support set: \", np.sort(solver.support_set))\n",
    "print(\"True parameters: \", true_params)\n",
    "print(\"True loss value: \", inverse_gaussian_regression_loss(true_params))\n",
    "print(\"Estimated parameters: \", solver.params)\n",
    "print(\"Estimated loss value: \", inverse_gaussian_regression_loss(solver.params))"
   ]
  },
  {
   "cell_type": "code",
   "execution_count": null,
   "id": "b78ea459",
   "metadata": {},
   "outputs": [],
   "source": []
  }
 ],
 "metadata": {
  "kernelspec": {
   "display_name": "convex-solver",
   "language": "python",
   "name": "python3"
  },
  "language_info": {
   "codemirror_mode": {
    "name": "ipython",
    "version": 3
   },
   "file_extension": ".py",
   "mimetype": "text/x-python",
   "name": "python",
   "nbconvert_exporter": "python",
   "pygments_lexer": "ipython3",
   "version": "3.9.12"
  }
 },
 "nbformat": 4,
 "nbformat_minor": 5
}
