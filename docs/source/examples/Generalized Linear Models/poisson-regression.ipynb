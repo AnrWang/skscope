{
 "cells": [
  {
   "cell_type": "code",
   "execution_count": 1,
   "id": "c2a702d8",
   "metadata": {},
   "outputs": [],
   "source": [
    "%matplotlib inline"
   ]
  },
  {
   "cell_type": "markdown",
   "id": "7f5e5d54",
   "metadata": {},
   "source": [
    "\n",
    "# Generalized Linear Model\n"
   ]
  },
  {
   "cell_type": "markdown",
   "id": "5c72ce9b",
   "metadata": {},
   "source": [
    "We would like to use an example to show how the sparse-constrained optimization for poisson regression works in our program."
   ]
  },
  {
   "cell_type": "markdown",
   "id": "c509eeb3",
   "metadata": {},
   "source": [
    "## Introduction to poisson regression\n",
    "Poisson Regression involves regression models in which the response variable is in the form of counts.\n",
    "For example, the count of number of car accidents or number of customers in line at a reception desk.\n",
    "The response variables is assumed to follow a Poisson distribution.\n",
    "\n",
    "The general mathematical equation for Poisson regression is\n",
    "\n",
    "<a id='generation'></a>\n",
    "$$\n",
    "\\begin{align}\\log(E(y)) = \\beta_0 + \\beta_1 X_1+\\beta_2 X_2+\\dots+\\beta_p X_p.\\end{align} \\tag{1}\n",
    "$$\n",
    "\n",
    "With $n$ independent data of the explanatory variables $x$ and the response variable $y$, we can estimate $\\beta$ by minimizing the negative log-likelihood function under sparsity constraint:\n",
    "\n",
    "<a id='loss'></a>\n",
    "$$\n",
    "\\arg \\min _{\\beta \\in R^p} L(\\beta):=-\\frac{1}{n} \\sum_{i=1}^n\\left\\{y_i x_i^T \\beta-\\exp \\left(x_i^T \\beta\\right)-\\log  \\left(y!\\right)\\right\\}, \\text { s.t. }\\|\\beta\\|_0 \\leq s .\\tag{2}\n",
    "$$\n",
    "\n",
    "Here is Python code for solving sparse poisson regression problem:"
   ]
  },
  {
   "cell_type": "markdown",
   "id": "830c41f0",
   "metadata": {},
   "source": [
    "### Import necessary packages"
   ]
  },
  {
   "cell_type": "code",
   "execution_count": 2,
   "id": "1bf0126d",
   "metadata": {},
   "outputs": [],
   "source": [
    "import numpy as np\n",
    "from abess.datasets import make_glm_data\n",
    "import jax.numpy as jnp\n",
    "from scope import ScopeSolver"
   ]
  },
  {
   "cell_type": "markdown",
   "id": "c3fa3cdd",
   "metadata": {},
   "source": [
    "### Set a seed"
   ]
  },
  {
   "cell_type": "code",
   "execution_count": 3,
   "id": "7625f698",
   "metadata": {},
   "outputs": [],
   "source": [
    "np.random.seed(123)"
   ]
  },
  {
   "cell_type": "markdown",
   "id": "631fa39e",
   "metadata": {},
   "source": [
    "### Generate the data\n",
    "\n",
    "Firstly, we generate some artificial data using logic [1](#generation). Consider a dataset containing n=500 observations with p=500 variables. The `make_glm_data` function allows us to generate simulated data by specifying the `family=\"poisson\"`. By specifying k = 5, we set only 5 of the 500 variables to have effect on the expectation of the response."
   ]
  },
  {
   "cell_type": "code",
   "execution_count": 4,
   "id": "00f6b74a",
   "metadata": {},
   "outputs": [
    {
     "name": "stdout",
     "output_type": "stream",
     "text": [
      "The first 5 x observation:\n",
      " [[ 0.09600233 -0.03994146 -0.0349905  ... -0.13339626 -0.06864823\n",
      "  -0.00362435]\n",
      " [-0.1022829   0.00154895 -0.05209999 ... -0.0005665   0.02165318\n",
      "  -0.01390639]\n",
      " [-0.00940902 -0.15288256  0.03033626 ... -0.00915983  0.11700274\n",
      "  -0.08647483]\n",
      " [ 0.07684115 -0.02137192 -0.01879096 ... -0.0527822   0.03978687\n",
      "   0.08170928]\n",
      " [ 0.0287065   0.01281823 -0.02994294 ... -0.00994214  0.04239522\n",
      "  -0.0176029 ]]\n",
      "The first 5 y observation:\n",
      " [0 0 0 2 0]\n"
     ]
    }
   ],
   "source": [
    "np.random.seed(1)\n",
    "\n",
    "n = 500\n",
    "p = 500\n",
    "s = 5\n",
    "\n",
    "data = make_glm_data(n=n, p=p, k=s, family=\"poisson\")\n",
    "X = data.x\n",
    "y = data.y\n",
    "\n",
    "print(\"The first 5 x observation:\\n\", X[0:5, ])\n",
    "print(\"The first 5 y observation:\\n\", y[0:5])"
   ]
  },
  {
   "cell_type": "markdown",
   "id": "d83de717",
   "metadata": {},
   "source": [
    "### Define function to calculate negative log-likelihood of poisson regression to serve as the loss to solve\n",
    "\n",
    "Secondly, we define the loss function `poisson_loss` accorting to [2](#loss) that matches the data generating function `make_glm_data`."
   ]
  },
  {
   "cell_type": "code",
   "execution_count": 5,
   "id": "3a46cfb1",
   "metadata": {},
   "outputs": [],
   "source": [
    "def poisson_loss(params):\n",
    "    xbeta = jnp.clip(X @ params, -30, 30)\n",
    "    return jnp.mean(jnp.exp(xbeta) - y * xbeta) #omit \\log y! term"
   ]
  },
  {
   "cell_type": "markdown",
   "id": "63814549",
   "metadata": {
    "scrolled": true
   },
   "source": [
    "### Use scope to solve the sparse possion regression problem\n",
    "\n",
    "After defining the data generation and loss function, we can call `ScopeSolver` to solve the sparse-constrained optimization problem."
   ]
  },
  {
   "cell_type": "code",
   "execution_count": 6,
   "id": "c2f17545",
   "metadata": {
    "scrolled": true
   },
   "outputs": [],
   "source": [
    "solver = ScopeSolver(p, s)\n",
    "params = solver.solve(poisson_loss, jit=True)"
   ]
  },
  {
   "cell_type": "markdown",
   "id": "f5d313ed",
   "metadata": {},
   "source": [
    "Now the `solver.params` contains the coefficients of poisson model with no more than 5 variables. That is, those variables with a coefficient 0 is unused in the model:"
   ]
  },
  {
   "cell_type": "code",
   "execution_count": 7,
   "id": "8dc22a18",
   "metadata": {
    "scrolled": true
   },
   "outputs": [
    {
     "name": "stdout",
     "output_type": "stream",
     "text": [
      "[0.         0.         0.         0.         0.         0.\n",
      " 0.         0.         0.         0.         0.         0.\n",
      " 0.         0.         0.         0.         0.         0.\n",
      " 0.         0.         0.         0.         0.         0.\n",
      " 0.         0.         0.         0.         0.         0.\n",
      " 0.         0.         0.         0.         0.         0.\n",
      " 0.         0.         0.         0.         0.         0.\n",
      " 0.         0.         0.         0.         0.         0.\n",
      " 0.         0.         0.         0.         0.         0.\n",
      " 0.         0.         0.         0.         0.         0.\n",
      " 0.         0.         0.         0.         0.         0.\n",
      " 0.         0.         0.         0.         0.         0.\n",
      " 0.         0.         0.         0.         0.         0.\n",
      " 0.         0.         0.         0.         0.         0.\n",
      " 0.         0.         0.         0.         0.         0.\n",
      " 0.         0.         0.         0.         0.         0.\n",
      " 0.         0.         0.         0.         0.         0.\n",
      " 0.         0.         0.         0.         0.         0.\n",
      " 0.         0.         0.         2.46268901 0.         0.\n",
      " 0.         0.         0.         0.         0.         0.\n",
      " 0.         0.         0.         0.         0.         0.\n",
      " 0.         0.         0.         0.         0.         0.\n",
      " 0.         0.         0.         0.         0.         0.\n",
      " 0.         0.         0.         0.         0.         0.\n",
      " 0.         0.         0.         0.         0.         0.\n",
      " 0.         0.         0.         0.         0.         0.\n",
      " 0.         0.         0.         0.         0.         0.\n",
      " 0.         0.         0.         0.         0.         0.\n",
      " 0.         0.         0.         0.         0.         0.\n",
      " 0.         0.         0.         0.         0.         0.\n",
      " 0.         0.         0.         0.         0.         0.\n",
      " 0.         0.         0.         4.07112904 0.         0.\n",
      " 0.         0.         0.         0.         0.         0.\n",
      " 0.         0.         0.         0.         0.         0.\n",
      " 0.         0.         0.         0.         0.         0.\n",
      " 0.         0.         0.         0.         0.         0.\n",
      " 0.         0.         0.         0.         0.         0.\n",
      " 0.         0.         0.         0.         0.         0.\n",
      " 0.         0.         0.         0.         0.         0.\n",
      " 0.         0.         0.         0.         0.         0.\n",
      " 0.         0.         0.         0.         0.         0.\n",
      " 0.         0.         0.         0.         0.         0.\n",
      " 0.         0.         0.         0.         0.         0.\n",
      " 0.         0.         0.         0.         0.         0.\n",
      " 0.         0.         0.         0.         0.         0.\n",
      " 0.         0.         0.         0.         0.         0.\n",
      " 0.         0.         0.         0.         0.         0.\n",
      " 0.         0.         0.         0.         0.         0.\n",
      " 0.         0.         0.         0.         0.         0.\n",
      " 0.         0.         0.         0.         0.         0.\n",
      " 0.         0.         0.         0.         0.         0.\n",
      " 0.         0.         0.         0.         0.         0.\n",
      " 0.         0.         0.         0.         0.         0.\n",
      " 0.         0.         0.         0.         0.         0.\n",
      " 0.         0.         0.         0.         0.         0.\n",
      " 0.         0.         0.         0.         0.         0.\n",
      " 0.         0.         0.         0.         0.         0.\n",
      " 0.         0.         0.         0.         0.         0.\n",
      " 0.         0.         0.         0.         0.         0.\n",
      " 0.         0.         0.         0.         0.         0.\n",
      " 2.86969217 0.         0.         0.         0.         0.\n",
      " 0.         0.         0.         0.         0.         0.\n",
      " 0.         0.         0.         0.         0.         0.\n",
      " 0.         0.         0.         0.         0.         0.\n",
      " 0.         0.         0.         0.         0.         0.\n",
      " 0.         0.         0.         0.         0.         0.\n",
      " 0.         0.         0.         0.         0.         0.\n",
      " 0.         0.         0.         0.         0.         0.\n",
      " 0.         0.         0.         0.         0.         0.\n",
      " 0.         0.         0.         0.         0.         0.\n",
      " 0.         0.         0.         0.         0.         0.\n",
      " 0.         0.         0.         0.         0.         0.\n",
      " 0.         5.24157465 0.         7.80686747 0.         0.\n",
      " 0.         0.         0.         0.         0.         0.\n",
      " 0.         0.         0.         0.         0.         0.\n",
      " 0.         0.         0.         0.         0.         0.\n",
      " 0.         0.         0.         0.         0.         0.\n",
      " 0.         0.         0.         0.         0.         0.\n",
      " 0.         0.         0.         0.         0.         0.\n",
      " 0.         0.         0.         0.         0.         0.\n",
      " 0.         0.         0.         0.         0.         0.\n",
      " 0.         0.         0.         0.         0.         0.\n",
      " 0.         0.         0.         0.         0.         0.\n",
      " 0.         0.        ]\n"
     ]
    }
   ],
   "source": [
    "print(solver.params)"
   ]
  },
  {
   "cell_type": "markdown",
   "id": "71469a9c",
   "metadata": {},
   "source": [
    "We can further compare the coefficients estimated by `scope` and the real coefficients in three-fold:\n",
    "\n",
    "* The true support set and the estimated support set\n",
    "\n",
    "* The true nonzero parameters and the estimated nonzero parameters\n",
    "\n",
    "* The true loss value and the estimated values"
   ]
  },
  {
   "cell_type": "code",
   "execution_count": 8,
   "id": "0d1a49bb",
   "metadata": {},
   "outputs": [
    {
     "name": "stdout",
     "output_type": "stream",
     "text": [
      "True support set:  [  4 189 360 433 435]\n",
      "Estimated support set:  [111 189 360 433 435]\n"
     ]
    }
   ],
   "source": [
    "true_support_set = np.nonzero(data.coef_)[0]\n",
    "estimated_support_set = solver.support_set\n",
    "print(\"True support set: \", true_support_set)\n",
    "print(\"Estimated support set: \", estimated_support_set)"
   ]
  },
  {
   "cell_type": "code",
   "execution_count": 9,
   "id": "3270a39a",
   "metadata": {},
   "outputs": [
    {
     "name": "stdout",
     "output_type": "stream",
     "text": [
      "True parameters:  [2.19224112 4.07074072 2.57632915 5.56121611 7.40111469]\n",
      "Estimated parameters:  [2.46268901 4.07112904 2.86969217 5.24157465 7.80686747]\n"
     ]
    }
   ],
   "source": [
    "print(\"True parameters: \", data.coef_[true_support_set])\n",
    "print(\"Estimated parameters: \", solver.params[estimated_support_set])"
   ]
  },
  {
   "cell_type": "code",
   "execution_count": 10,
   "id": "0159e431",
   "metadata": {
    "scrolled": true
   },
   "outputs": [
    {
     "name": "stdout",
     "output_type": "stream",
     "text": [
      "True loss value:  0.7049176\n",
      "Estimated loss value:  0.6987839\n"
     ]
    }
   ],
   "source": [
    "print(\"True loss value: \", poisson_loss(data.coef_))\n",
    "print(\"Estimated loss value: \", poisson_loss(solver.params))"
   ]
  },
  {
   "cell_type": "markdown",
   "id": "3636a885",
   "metadata": {},
   "source": [
    "## More on the results\n",
    "\n",
    "We can plot the sparse signal recovering from the noisy observations to visualize the results."
   ]
  },
  {
   "cell_type": "code",
   "execution_count": 11,
   "id": "bb1727ff",
   "metadata": {},
   "outputs": [
    {
     "data": {
      "image/png": "[encoded data removed]",
      "text/plain": [
       "<Figure size 700x700 with 2 Axes>"
      ]
     },
     "metadata": {},
     "output_type": "display_data"
    }
   ],
   "source": [
    "import matplotlib.pyplot as plt\n",
    "(inx_true,) =  data.coef_.nonzero()\n",
    "(inx_est,) =  solver.params.nonzero()\n",
    "\n",
    "# plot the sparse signal\n",
    "plt.figure(figsize=(7, 7))\n",
    "plt.subplot(2, 1, 1)\n",
    "plt.stem(inx_true, data.coef_[inx_true], markerfmt='o', basefmt='k-')\n",
    "plt.plot([0, 500], [0, 0], 'r-', lw=2)\n",
    "plt.xlim(0, 500)\n",
    "plt.title(\"Sparse signal\")\n",
    "#plt.plot(inx_true, true_params[inx_true], drawstyle='steps-post')\n",
    "\n",
    "# plot the noisy reconstruction\n",
    "plt.subplot(2, 1, 2)\n",
    "plt.stem(inx_est, solver.params[inx_est], markerfmt='o', basefmt='k-')\n",
    "plt.plot([0, 500], [0, 0], 'r-', lw=2)\n",
    "plt.xlim(0, 500)\n",
    "plt.title(\"Recovered signal from noisy observations\")\n",
    "#plt.plot(inx_est, solver.params[inx_est], drawstyle='steps-post')\n",
    "\n",
    "plt.show()"
   ]
  },
  {
   "cell_type": "code",
   "execution_count": null,
   "id": "f08ba96e",
   "metadata": {},
   "outputs": [],
   "source": []
  }
 ],
 "metadata": {
  "kernelspec": {
   "display_name": "p38",
   "language": "python",
   "name": "p38"
  },
  "language_info": {
   "codemirror_mode": {
    "name": "ipython",
    "version": 3
   },
   "file_extension": ".py",
   "mimetype": "text/x-python",
   "name": "python",
   "nbconvert_exporter": "python",
   "pygments_lexer": "ipython3",
   "version": "3.8.13"
  }
 },
 "nbformat": 4,
 "nbformat_minor": 5
}
