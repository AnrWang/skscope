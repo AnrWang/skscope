{
 "cells": [
  {
   "cell_type": "code",
   "execution_count": 1,
   "metadata": {},
   "outputs": [],
   "source": [
    "%matplotlib inline"
   ]
  },
  {
   "cell_type": "markdown",
   "metadata": {},
   "source": [
    "Multiple linear regression is also known as multi output linear regression, multivariate linear regression, or multidimensional linear regression, which is used to predict multiple dependent variables using a linear combination of multiple independent variables. This is different from simple linear regression, which is used to predict a single dependent variable using a single independent variable.\n",
    "\n",
    "The model is expressed as:\n",
    "$$\n",
    "    y = B^* x + \\epsilon,\n",
    "$$\n",
    "where $y$ is an $m$-dimensional response variable, $x$ is $p$-dimensional predictors, $B \\in R^{m \\times p}$ is the sparse coefficient matrix, $\\epsilon$ is an $m$-dimensional random noise variable with zero mean.\n",
    "\n",
    "With $n$ independent data of the explanatory variables $X$ and the response variable $Y$, we can estimate $B^* $ by minimizing the objective function under sparsity constraint:\n",
    "$$ arg\\min_{B}L(B) := ||Y-B X||^2, s.t.  || B ||_ {0,2} \\leq s, $$\n",
    "where $|| B ||_ {0, 2}$ is the number of non-zero rows of $B$.\n",
    "\n",
    "Here is Python code for solving sparse multiple linear regression problem:\n"
   ]
  },
  {
   "cell_type": "markdown",
   "metadata": {},
   "source": [
    "### Import necessary packages "
   ]
  },
  {
   "cell_type": "code",
   "execution_count": 4,
   "metadata": {},
   "outputs": [],
   "source": [
    "from scope import ScopeSolver\n",
    "import jax.numpy as jnp\n",
    "import numpy as np\n",
    "from sklearn.datasets import make_regression"
   ]
  },
  {
   "cell_type": "markdown",
   "metadata": {},
   "source": [
    "### Set a seed for experimental reproduction"
   ]
  },
  {
   "cell_type": "code",
   "execution_count": 5,
   "metadata": {},
   "outputs": [],
   "source": [
    "np.random.seed(5)"
   ]
  },
  {
   "cell_type": "markdown",
   "metadata": {},
   "source": [
    "### Generate the data"
   ]
  },
  {
   "cell_type": "code",
   "execution_count": 6,
   "metadata": {},
   "outputs": [],
   "source": [
    "n, p, k, m = 10, 5, 3, 2\n",
    "x, y, coef = make_regression(n_samples=n, n_features=p, n_informative=k, n_targets=m, coef=True)"
   ]
  },
  {
   "cell_type": "markdown",
   "metadata": {},
   "source": [
    "### Define inverse gaussian regression loss"
   ]
  },
  {
   "cell_type": "code",
   "execution_count": 7,
   "metadata": {},
   "outputs": [],
   "source": [
    "def multi_linear_objective(params):\n",
    "    return jnp.sum(jnp.square(y - jnp.matmul(x, params.reshape((p, m)))))"
   ]
  },
  {
   "cell_type": "markdown",
   "metadata": {},
   "source": [
    "### Use scope to solve the sparse multiple response linear regression problem"
   ]
  },
  {
   "cell_type": "code",
   "execution_count": 10,
   "metadata": {},
   "outputs": [
    {
     "name": "stdout",
     "output_type": "stream",
     "text": [
      "Estimated parameter:\n",
      " [[54.63583377 79.61427562]\n",
      " [ 0.          0.        ]\n",
      " [ 0.          0.        ]\n",
      " [36.54777739 24.42908797]\n",
      " [ 5.11427902 18.86677609]]\n",
      "True parameter:\n",
      " [[54.63583485 79.61427209]\n",
      " [ 0.          0.        ]\n",
      " [ 0.          0.        ]\n",
      " [36.54777679 24.4290867 ]\n",
      " [ 5.11428031 18.86677358]]\n"
     ]
    }
   ],
   "source": [
    "solver = ScopeSolver(p * m, k, group=[i for i in range(p) for j in range(m)])\n",
    "solver.solve(multi_linear_objective)\n",
    "\n",
    "print(\"Estimated parameter:\\n\", solver.params.reshape((p, m)))\n",
    "print(\"True parameter:\\n\", coef)"
   ]
  },
  {
   "cell_type": "code",
   "execution_count": null,
   "metadata": {},
   "outputs": [],
   "source": []
  }
 ],
 "metadata": {
  "kernelspec": {
   "display_name": "p38",
   "language": "python",
   "name": "p38"
  },
  "language_info": {
   "codemirror_mode": {
    "name": "ipython",
    "version": 3
   },
   "file_extension": ".py",
   "mimetype": "text/x-python",
   "name": "python",
   "nbconvert_exporter": "python",
   "pygments_lexer": "ipython3",
   "version": "3.8.13"
  },
  "vscode": {
   "interpreter": {
    "hash": "4b3267657c2ca56fed6d7fdb7edada955d98b24e50acd65b198d3fe30cfd65ff"
   }
  }
 },
 "nbformat": 4,
 "nbformat_minor": 2
}
