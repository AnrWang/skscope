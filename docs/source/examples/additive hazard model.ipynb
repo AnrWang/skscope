{
 "cells": [
  {
   "attachments": {},
   "cell_type": "markdown",
   "metadata": {},
   "source": [
    "An additive hazards model is a statistical model used to analyze the time-to-event data, such as the survival of patients with a certain disease or the failure time of mechanical systems. It studies the risk factors which affect the survival time and their risk contributions, and also offer great flexibility due to its semi-parametric nature.\n",
    "\n",
    "The hazard function for the survival time $T$ associated with a $p$-vector of possibly time-varying covariates $\\mathbf{Z}(\\cdot)$ takes the form \n",
    "$$\\lambda(t\\mid \\mathbf{Z})=\\lambda_0(t) + \\boldsymbol{\\beta}^{\\prime}\\mathbf{Z}(t)$$\n",
    "under the  additive hazards model. \n",
    "\n",
    "For many reasons not all survival time are fullly observed, we only consider the right-censoring situation here and let $C$ be the censoring time. Denote the observed time by $X=\\min\\{T,C\\}$ and the censoring indicator by $\\delta=I(T\\leq C)$. Define the observed-failure counting process $N(t)=I(X\\leq t,\\delta=1)$ which registers whether an uncensored failure has occurred by time $t$ and the corresponding at-risk indicator $Y(t)=I(X\\geq t)$. Without loss of generality, denote 1 as the terminal time of observation and there are $n$ independent data $\\{(X_i,\\delta_i,\\mathbf{Z}_i): i=1,2,\\cdots,n\\}$.\n",
    "\n",
    "The least squares-type loss function of additive hazards model is \n",
    "$$L_1(\\boldsymbol{\\beta})=\\frac{1}{2}\\boldsymbol{\\beta}^{\\prime}V\\boldsymbol{\\beta}-\\mathbf{b}^{\\prime}\\boldsymbol{\\beta},$$\n",
    "where $\\overline{\\mathbf{Z}}(t)=\\sum_{j=1}^n Y_j(t) \\mathbf{Z}_j(t) / \\sum_{j=1}^n Y_j(t)$, $\\mathbf{b}=\\frac{1}{n}\\sum_{i=1}^{n}\\int_0^1 \\mathbf{Z}_i(t)-\\overline{\\mathbf{Z}}(t) \\mathrm{d} N_i(t)$ and $\\mathbf{V}=\\frac{1}{n} \\sum_{i=1}^n \\int_0^1 Y_i(t)\\left\\{\\mathbf{Z}_i(t)-\\overline{\\mathbf{Z}}(t)\\right\\}^{\\otimes 2} \\mathrm{d} t$. We can estimate $\\boldsymbol{\\beta}$ by minimizing the loss function under sparsity constraint:\n",
    "$$arg\\min_{\\beta \\in R^p}L_1(\\beta) , s.t.  || \\beta ||_0 \\leq s.$$"
   ]
  },
  {
   "cell_type": "code",
   "execution_count": null,
   "metadata": {},
   "outputs": [],
   "source": [
    "# generate additive hazard model data\n",
    "import numpy as np\n",
    "import numpy.random as rd\n",
    "import random\n",
    "\n",
    "def make_ahad_data(n, coef_, c=0.5, rho=0):\n",
    "    lam = 1\n",
    "    p = coef_.shape[0]\n",
    "    mu = np.zeros(p)\n",
    "    Sigma = np.power(rho, np.abs(np.reshape(np.array([i-j for i in np.arange(1,p+1) for j in np.arange(1,p+1)]) ,newshape=(p,p))))\n",
    "    x = rd.multivariate_normal(mu, Sigma, (10*n,))    # variables\n",
    "    x = x[np.matmul(x,coef_)>-1,]\n",
    "    x = x[0:n,]\n",
    "\n",
    "    xcoef = np.matmul(x,coef_)\n",
    "    #lam = np.maximum(1, np.ceil(np.max(-xcoef[xcoef<0])) )\n",
    "    T = -np.log(rd.uniform(0,1, (n,)))/(lam + xcoef)    # survival time\n",
    "    U = rd.uniform(0,c, (n,))           # censoring time\n",
    "    delta = (T<=U)*1           # censoring indicator\n",
    "    print(\"censoring rate:\", np.sum(1-delta)/n )\n",
    "    return x, np.minimum(T,U), delta"
   ]
  },
  {
   "attachments": {},
   "cell_type": "markdown",
   "metadata": {},
   "source": [
    "Here is Python code for solving sparse additive hazards model:  "
   ]
  },
  {
   "cell_type": "code",
   "execution_count": 2,
   "metadata": {},
   "outputs": [
    {
     "name": "stdout",
     "output_type": "stream",
     "text": [
      "censoring rate: 0.56\n",
      "Estimated parameter: [0.         0.         0.         0.         0.         0.\n",
      " 0.         2.90210568 0.         2.37168955] objective: -84.62509155273438\n",
      "True parameter: [0.        0.        0.        0.        0.        0.        0.\n",
      " 2.5291107 0.        2.4299368] objective: -82.85272\n"
     ]
    }
   ],
   "source": [
    "import jax.numpy as jnp\n",
    "from scope import ScopeSolver\n",
    "\n",
    "n, p, k = 200, 10, 2\n",
    "beta = np.zeros(p)\n",
    "supportset = random.sample(range(0,p),k)\n",
    "beta[supportset] = rd.uniform(2, 5, k)\n",
    "x, y, delta = make_ahad_data(n,beta)\n",
    "\n",
    "xsort = x[np.argsort(y),:]\n",
    "ysort = y[np.argsort(y)]\n",
    "deltasort = delta[np.argsort(y)]\n",
    "ydiff = np.append(ysort[0],np.diff(ysort))\n",
    "xbar = np.empty(shape=(n,p))\n",
    "for i in range(0,n):\n",
    "    xbar[i,:] = np.mean(xsort[i:n,:],axis=0)\n",
    "b = np.matmul(deltasort, xsort-xbar)\n",
    "V = np.empty(shape=(p,p))\n",
    "#print(np.dot((x[1,:]-xbar[0:(1+1),:]).T,(x[1,:]-xbar[0:2,:])))\n",
    "for i in range(n):\n",
    "    V += ((xsort[i,:]-xbar[0:(i+1),:]).T) @ np.diag(ydiff[0:(i+1)]) @ (xsort[i,:]-xbar[0:(i+1),:])\n",
    "\n",
    "def ahazard_objective(params):\n",
    "    return jnp.dot(jnp.dot(V,params),params)/2 - jnp.dot(params,b) \n",
    "\n",
    "solver = ScopeSolver(p, k)\n",
    "solver.solve(ahazard_objective, jit=True)\n",
    "print(\"Estimated parameter:\", solver.get_result()[\"params\"], \"objective:\",solver.get_result()[\"value_of_objective\"])\n",
    "print(\"True parameter:\", beta, \"objective:\",ahazard_objective(beta))"
   ]
  }
 ],
 "metadata": {
  "kernelspec": {
   "display_name": "scopedev",
   "language": "python",
   "name": "python3"
  },
  "language_info": {
   "codemirror_mode": {
    "name": "ipython",
    "version": 3
   },
   "file_extension": ".py",
   "mimetype": "text/x-python",
   "name": "python",
   "nbconvert_exporter": "python",
   "pygments_lexer": "ipython3",
   "version": "3.9.15"
  },
  "orig_nbformat": 4,
  "vscode": {
   "interpreter": {
    "hash": "2e94100132c34e335c27dec6a60d632ac7632eaaaea7172d16e9a059965b0a61"
   }
  }
 },
 "nbformat": 4,
 "nbformat_minor": 2
}
