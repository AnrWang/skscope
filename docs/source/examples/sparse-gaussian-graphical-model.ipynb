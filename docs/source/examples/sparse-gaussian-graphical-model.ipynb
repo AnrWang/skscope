{
 "cells": [
  {
   "cell_type": "code",
   "execution_count": 9,
   "metadata": {},
   "outputs": [],
   "source": [
    "from scope import GraspSolver\n",
    "import jax.numpy as jnp\n",
    "import numpy as np\n",
    "from sklearn.datasets import make_sparse_spd_matrix\n",
    "import cvxpy as cp\n",
    "import matplotlib.pyplot as plt\n",
    "import seaborn as sns"
   ]
  },
  {
   "cell_type": "code",
   "execution_count": 10,
   "metadata": {},
   "outputs": [],
   "source": [
    "n, p = 150, 30\n",
    "prng = np.random.RandomState(1)\n",
    "prec = make_sparse_spd_matrix(p, alpha=0.98, smallest_coef=0.3, largest_coef=0.5, random_state=prng)\n",
    "cov = np.linalg.inv(prec)\n",
    "d = np.sqrt(np.diag(cov))\n",
    "cov /= d\n",
    "cov /= d[:, np.newaxis]\n",
    "prec *= d\n",
    "prec *= d[:, np.newaxis]\n",
    "X = prng.multivariate_normal(np.zeros(p), cov, size=n)\n",
    "X -= X.mean(axis=0)\n",
    "X /= X.std(axis=0)\n",
    "\n",
    "# sample covariance and precision matrix\n",
    "cov_sample = np.cov(X.T)\n",
    "prec_sample = np.linalg.inv(cov_sample)"
   ]
  },
  {
   "cell_type": "code",
   "execution_count": 11,
   "metadata": {},
   "outputs": [],
   "source": [
    "def graphical_guassian_loss(params, sample_covariance_matrix):\n",
    "    p = sample_covariance_matrix.shape[0]\n",
    "    Omega = jnp.zeros((p, p))\n",
    "    Omega = Omega.at[np.triu_indices(p)].set(params)\n",
    "    Omega = jnp.where(Omega, Omega, Omega.T)\n",
    "    return jnp.sum(sample_covariance_matrix * Omega) - jnp.linalg.slogdet(Omega)[1]\n",
    "\n",
    "\n",
    "class Graphical_Guassian_Solver(GraspSolver):\n",
    "    def _cache_nlopt(\n",
    "        self,\n",
    "        loss_fn,\n",
    "        value_and_grad,\n",
    "        init_params,\n",
    "        optim_variable_idx,\n",
    "        data,\n",
    "        background_params=None,\n",
    "    ):\n",
    "        \"\"\"\n",
    "        use cvxpy to solve the problem: min_{x} f(params) s.t. vec_to_mat(params) is PSD\n",
    "        where params = (x, y), the index of x is `optim_variable_idx`, y $\\equiv$ `background_params[~optim_variable_idx]`\n",
    "        here, `background_params` is all-zeros\n",
    "        \"\"\"\n",
    "        p = data.shape[0]\n",
    "        dim = int(p * (p + 1) / 2)\n",
    "        s = len(optim_variable_idx)\n",
    "\n",
    "        opt_mark_vec = np.zeros(dim, dtype=bool)\n",
    "        opt_mark_vec[optim_variable_idx] = True\n",
    "        opt_indices_mat = (\n",
    "            np.triu_indices(p)[0][opt_mark_vec],\n",
    "            np.triu_indices(p)[1][opt_mark_vec],\n",
    "        )\n",
    "        non_opt_indices_mat = (\n",
    "            np.triu_indices(p)[0][~opt_mark_vec],\n",
    "            np.triu_indices(p)[1][~opt_mark_vec],\n",
    "        )\n",
    "\n",
    "        Omega = cp.Variable((p, p), PSD=True)\n",
    "\n",
    "        constraints = [\n",
    "            Omega[non_opt_indices_mat] == np.zeros(dim - s),\n",
    "        ]\n",
    "\n",
    "        graphical_guassian_loss = cp.sum(cp.multiply(data, Omega)) - cp.log_det(Omega)\n",
    "\n",
    "        prob = cp.Problem(cp.Minimize(graphical_guassian_loss), constraints)\n",
    "        prob.solve()\n",
    "\n",
    "        return Omega.value[opt_indices_mat], graphical_guassian_loss.value"
   ]
  },
  {
   "cell_type": "code",
   "execution_count": 12,
   "metadata": {},
   "outputs": [],
   "source": [
    "solver = Graphical_Guassian_Solver(\n",
    "    dimensionality=int(p * (p + 1) / 2),\n",
    "    sparsity=np.count_nonzero(prec[np.triu_indices(p)]),\n",
    "    always_select=np.where(np.triu_indices(p)[0] == np.triu_indices(p)[1])[0],\n",
    ")\n",
    "\n",
    "solver.solve(\n",
    "    graphical_guassian_loss,\n",
    "    init_params=np.eye(p)[np.triu_indices(p)],\n",
    "    data=cov_sample,\n",
    ")\n",
    "\n",
    "prec_ = np.zeros((p, p))\n",
    "prec_[np.triu_indices(p)] = solver.params\n",
    "prec_ = np.where(\n",
    "    prec_, prec_, prec_.T\n",
    ")"
   ]
  },
  {
   "cell_type": "code",
   "execution_count": 13,
   "metadata": {},
   "outputs": [
    {
     "name": "stdout",
     "output_type": "stream",
     "text": [
      "Grasp:  1.1697053536661652\n",
      "Empirical:  4.434463471396554\n"
     ]
    }
   ],
   "source": [
    "print('Grasp: ', np.linalg.norm(prec - prec_, ord='fro'))\n",
    "print('Empirical: ', np.linalg.norm(prec - prec_sample, ord='fro')) "
   ]
  },
  {
   "cell_type": "code",
   "execution_count": 14,
   "metadata": {},
   "outputs": [
    {
     "data": {
      "image/png": "[encoded data removed]",
      "text/plain": [
       "<Figure size 1200x300 with 6 Axes>"
      ]
     },
     "metadata": {},
     "output_type": "display_data"
    }
   ],
   "source": [
    "fig, axes = plt.subplots(1, 3, figsize=(12, 3))\n",
    "\n",
    "sns.heatmap(prec, vmin=-1, vmax=1, ax=axes[0])\n",
    "axes[0].set_xticks([])\n",
    "axes[0].set_yticks([])\n",
    "axes[0].set_title('True precision')\n",
    "\n",
    "sns.heatmap(prec_sample, vmin=-1, vmax=1, ax=axes[1])\n",
    "axes[1].set_xticks([])\n",
    "axes[1].set_yticks([])\n",
    "axes[1].set_title('Sample precision')\n",
    "\n",
    "sns.heatmap(prec_, vmin=-1, vmax=1, ax=axes[2])\n",
    "axes[2].set_xticks([])\n",
    "axes[2].set_yticks([])\n",
    "axes[2].set_title('Grasp precision')\n",
    "\n",
    "plt.show()"
   ]
  },
  {
   "cell_type": "code",
   "execution_count": null,
   "metadata": {},
   "outputs": [],
   "source": []
  }
 ],
 "metadata": {
  "kernelspec": {
   "display_name": "Python 3 (ipykernel)",
   "language": "python",
   "name": "python3"
  },
  "language_info": {
   "codemirror_mode": {
    "name": "ipython",
    "version": 3
   },
   "file_extension": ".py",
   "mimetype": "text/x-python",
   "name": "python",
   "nbconvert_exporter": "python",
   "pygments_lexer": "ipython3",
   "version": "3.9.0"
  },
  "varInspector": {
   "cols": {
    "lenName": 16,
    "lenType": 16,
    "lenVar": 40
   },
   "kernels_config": {
    "python": {
     "delete_cmd_postfix": "",
     "delete_cmd_prefix": "del ",
     "library": "var_list.py",
     "varRefreshCmd": "print(var_dic_list())"
    },
    "r": {
     "delete_cmd_postfix": ") ",
     "delete_cmd_prefix": "rm(",
     "library": "var_list.r",
     "varRefreshCmd": "cat(var_dic_list()) "
    }
   },
   "types_to_exclude": [
    "module",
    "function",
    "builtin_function_or_method",
    "instance",
    "_Feature"
   ],
   "window_display": false
  }
 },
 "nbformat": 4,
 "nbformat_minor": 2
}
