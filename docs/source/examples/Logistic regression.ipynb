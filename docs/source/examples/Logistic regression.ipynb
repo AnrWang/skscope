{
 "cells": [
  {
   "cell_type": "code",
   "execution_count": 1,
   "id": "c2a702d8",
   "metadata": {},
   "outputs": [],
   "source": [
    "%matplotlib inline"
   ]
  },
  {
   "cell_type": "markdown",
   "id": "7f5e5d54",
   "metadata": {},
   "source": [
    "\n",
    "# Generalized Linear Model\n"
   ]
  },
  {
   "cell_type": "markdown",
   "id": "e8486656",
   "metadata": {},
   "source": [
    "## Logistic Regressions\n",
    "\n",
    "Logistic regression is a important model to solve classification problem, which is expressed specifically as:\n",
    "$$\n",
    "\\begin{aligned}\n",
    "& P(y=1 \\mid x)=\\frac{1}{1+\\exp \\left(-x^T \\beta\\right)}, \\\\\n",
    "& P(y=0 \\mid x)=\\frac{1}{1+\\exp \\left(x^T \\beta\\right)},\n",
    "\\end{aligned}\n",
    "$$\n",
    "where $\\beta$ is an unknown parameter vector that to be estimated. Since we expect only a few explanatory variables contribute for predicting $y$, we assume $\\beta$ is sparse vector with sparsity level $s$.\n",
    "\n",
    "With $n$ independent data of the explanatory variables $x$ and the response variable $y$, we can estimate $\\beta$ by minimizing the negative log-likelihood function under sparsity constraint:\n",
    "$$\n",
    "\\arg \\min _{\\beta \\in R^p} L(\\beta):=-\\frac{1}{n} \\sum_{i=1}^n\\left\\{y_i x_i^T \\beta-\\log \\left(1+\\exp \\left(x_i^T \\beta\\right)\\right)\\right\\}, \\text { s.t. }\\|\\beta\\|_0 \\leq s\n",
    "$$"
   ]
  },
  {
   "cell_type": "code",
   "execution_count": 1,
   "id": "5ec381f6",
   "metadata": {},
   "outputs": [
    {
     "name": "stdout",
     "output_type": "stream",
     "text": [
      "True support set:  [2 4 8]\n",
      "Estimated support set:  [2 7 8]\n",
      "True parameters:  [ 0.          0.          0.95008842  0.         -0.10321885  0.\n",
      "  0.          0.         -0.15135721  0.        ]\n",
      "True loss value:  0.6396969\n",
      "Estimated parameters:  [ 0.          0.          0.86563358  0.          0.          0.\n",
      "  0.         -0.32055541  0.2376089   0.        ]\n",
      "Estimated loss value:  0.60980713\n"
     ]
    }
   ],
   "source": [
    "import jax.numpy as jnp\n",
    "import numpy as np\n",
    "from scope import ScopeSolver\n",
    "import numpy as np\n",
    "np.random.seed(0)\n",
    "\n",
    "def data_generator(n, p, s, rho, random_state=None):\n",
    "    \"\"\"\n",
    "    * $\\beta^*_i$ ~ N(0, 1), $\\forall i \\in supp(\\beta^*)$\n",
    "    * $x = (x_1, \\cdots, x_p)^T$, $x_{i+1}=\\rho x_i+\\sqrt{1-\\rho^2}z_i$, where $x_1, z_i$ ~ N(0, 1)\n",
    "    * $y\\in\\{0,1\\}$, $P(y=0)=\\frac{1}{1+\\exp^{x^T\\beta^*+c}}$\n",
    "    \"\"\"\n",
    "    np.random.seed(random_state)\n",
    "    # beta\n",
    "    beta = np.zeros(p)\n",
    "    true_support_set = np.random.choice(p, s, replace=False)\n",
    "    beta[true_support_set] = np.random.normal(0, 1, s)\n",
    "    # X\n",
    "    X = np.empty((n, p))\n",
    "    X[:, 0] = np.random.normal(0, 1, n)\n",
    "    for j in range(1, p):\n",
    "        X[:, j] = rho * X[:, j - 1] + np.sqrt(1-rho**2) * np.random.normal(0, 1, n)\n",
    "    # y\n",
    "    xbeta = np.clip(X @ beta, -30, 30)\n",
    "    p = 1 / (1 + np.exp(-xbeta))\n",
    "    y = np.random.binomial(1, p)\n",
    "\n",
    "    return X, y, beta, true_support_set\n",
    "\n",
    "n, p, s, rho = 100, 10, 3, 0.0\n",
    "X, y, true_params, true_support_set = data_generator(n, p, s, rho , 0)\n",
    "# Define function to calculate negative log-likelihood of logistic regression\n",
    "def logistic_loss(params):\n",
    "    xbeta = jnp.clip(X @ params, -30, 30)\n",
    "    return jnp.mean(jnp.log(1 + jnp.exp(xbeta)) - y * xbeta)\n",
    "\n",
    "solver = ScopeSolver(p, s)\n",
    "solver.solve(logistic_loss, jit=True)\n",
    "\n",
    "print(\"True support set: \", np.sort(true_support_set))\n",
    "print(\"Estimated support set: \", np.sort(solver.support_set))\n",
    "print(\"True parameters: \", true_params)\n",
    "print(\"True loss value: \", logistic_loss(true_params))\n",
    "print(\"Estimated parameters: \", solver.params)\n",
    "print(\"Estimated loss value: \", logistic_loss(solver.params))\n",
    "\n"
   ]
  }
 ],
 "metadata": {
  "kernelspec": {
   "display_name": "Python 3 (ipykernel)",
   "language": "python",
   "name": "python3"
  },
  "language_info": {
   "codemirror_mode": {
    "name": "ipython",
    "version": 3
   },
   "file_extension": ".py",
   "mimetype": "text/x-python",
   "name": "python",
   "nbconvert_exporter": "python",
   "pygments_lexer": "ipython3",
   "version": "3.9.12"
  }
 },
 "nbformat": 4,
 "nbformat_minor": 5
}
