{
 "cells": [
  {
   "cell_type": "code",
   "execution_count": 1,
   "id": "c2a702d8",
   "metadata": {},
   "outputs": [],
   "source": [
    "%matplotlib inline"
   ]
  },
  {
   "cell_type": "markdown",
   "id": "7f5e5d54",
   "metadata": {},
   "source": [
    "\n",
    "# Generalized Linear Model\n"
   ]
  },
  {
   "cell_type": "markdown",
   "id": "c509eeb3",
   "metadata": {},
   "source": [
    "## Poisson Regression\n",
    "Poisson Regression involves regression models in which the response variable is in the form of counts.\n",
    "For example, the count of number of car accidents or number of customers in line at a reception desk.\n",
    "The response variables is assumed to follow a Poisson distribution.\n",
    "\n",
    "The general mathematical equation for Poisson regression is\n",
    "\n",
    "\\begin{align}\\log(E(y)) = \\beta_0 + \\beta_1 X_1+\\beta_2 X_2+\\dots+\\beta_p X_p.\\end{align}\n",
    "\n",
    "With $n$ independent data of the explanatory variables $x$ and the response variable $y$, we can estimate $\\beta$ by minimizing the negative log-likelihood function under sparsity constraint:\n",
    "$$\n",
    "\\arg \\min _{\\beta \\in R^p} L(\\beta):=-\\frac{1}{n} \\sum_{i=1}^n\\left\\{y_i x_i^T \\beta-\\exp \\left(x_i^T \\beta\\right)-\\log  \\left(y!\\right)\\right\\}, \\text { s.t. }\\|\\beta\\|_0 \\leq s .\n",
    "$$\n",
    "\n",
    "Here is Python code for solving sparse poisson regression problem:"
   ]
  },
  {
   "cell_type": "code",
   "execution_count": 3,
   "id": "0159e431",
   "metadata": {},
   "outputs": [
    {
     "name": "stdout",
     "output_type": "stream",
     "text": [
      "True support set:  [0 5 9]\n",
      "True parameters:  [4.70030694 0.         0.         0.         0.         8.30570366\n",
      " 0.         0.         0.         3.78436768]\n",
      "True loss value:  0.5956122\n",
      "Estimated support set:  [3 5 9]\n",
      "Estimated parameters:  [ 0.          0.          0.         -3.99304304  0.          8.65190727\n",
      "  0.          0.          0.          4.95582619]\n",
      "Estimated loss value:  0.5782885\n"
     ]
    }
   ],
   "source": [
    "import numpy as np\n",
    "from abess.datasets import make_glm_data\n",
    "import jax.numpy as jnp\n",
    "from scope import ScopeSolver\n",
    "np.random.seed(1)\n",
    "\n",
    "n = 100\n",
    "p = 10\n",
    "s = 3\n",
    "data = make_glm_data(n=n, p=p, k=s, family=\"poisson\")\n",
    "X = data.x\n",
    "y = data.y\n",
    "# Define function to calculate negative log-likelihood of poisson regression\n",
    "def poisson_loss(params):\n",
    "    xbeta = jnp.clip(X @ params, -30, 30)\n",
    "    return jnp.mean(jnp.exp(xbeta) - y * xbeta) #omit \\log y! term\n",
    "\n",
    "\n",
    "solver = ScopeSolver(p, s)\n",
    "solver.solve(poisson_loss, jit=True)\n",
    "\n",
    "print(\"True support set: \", np.nonzero(data.coef_)[0])\n",
    "print(\"True parameters: \", data.coef_)\n",
    "print(\"True loss value: \", poisson_loss(data.coef_))\n",
    "print(\"Estimated support set: \", np.sort(solver.support_set))\n",
    "print(\"Estimated parameters: \", solver.params)\n",
    "print(\"Estimated loss value: \", poisson_loss(solver.params))"
   ]
  }
 ],
 "metadata": {
  "kernelspec": {
   "display_name": "Python 3 (ipykernel)",
   "language": "python",
   "name": "python3"
  },
  "language_info": {
   "codemirror_mode": {
    "name": "ipython",
    "version": 3
   },
   "file_extension": ".py",
   "mimetype": "text/x-python",
   "name": "python",
   "nbconvert_exporter": "python",
   "pygments_lexer": "ipython3",
   "version": "3.9.12"
  }
 },
 "nbformat": 4,
 "nbformat_minor": 5
}
