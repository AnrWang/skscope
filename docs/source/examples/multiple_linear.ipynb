{
 "cells": [
  {
   "attachments": {},
   "cell_type": "markdown",
   "metadata": {},
   "source": [
    "Multiple linear regression is also known as multi output linear regression, multivariate linear regression, or multidimensional linear regression, which is used to predict multiple dependent variables using a linear combination of multiple independent variables. This is different from simple linear regression, which is used to predict a single dependent variable using a single independent variable.\n",
    "\n",
    "The model is expressed as:\n",
    "$$\n",
    "    y = B^* x + \\epsilon,\n",
    "$$\n",
    "where $y$ is an $m$-dimensional response variable, $x$ is $p$-dimensional predictors, $B \\in R^{m \\times p}$ is the sparse coefficient matrix, $\\epsilon$ is an $m$-dimensional random noise variable with zero mean.\n",
    "\n",
    "With $n$ independent data of the explanatory variables $X$ and the response variable $Y$, we can estimate $B^* $ by minimizing the loss function under sparsity constraint:\n",
    "$$ arg\\min_{B}L(B) := ||Y-B X||^2, s.t.  || B ||_ {0,2} \\leq s, $$\n",
    "where $|| B ||_ {0, 2}$ is the number of non-zero rows of $B$.\n",
    "\n",
    "Here is Python code for solving sparse multiple linear regression problem:\n"
   ]
  },
  {
   "cell_type": "code",
   "execution_count": 2,
   "metadata": {},
   "outputs": [
    {
     "name": "stdout",
     "output_type": "stream",
     "text": [
      "Estimated parameter:\n",
      " [[35.71403298 88.78090329]\n",
      " [ 0.          0.        ]\n",
      " [ 0.          0.        ]\n",
      " [70.74618577  3.66011248]\n",
      " [62.16419429  7.0035477 ]]\n",
      "True parameter:\n",
      " [[35.71403294 88.78090529]\n",
      " [ 0.          0.        ]\n",
      " [ 0.          0.        ]\n",
      " [70.74619082  3.66011168]\n",
      " [62.16419561  7.00354776]]\n"
     ]
    }
   ],
   "source": [
    "from scope import ConvexSparseSolver\n",
    "import jax.numpy as jnp\n",
    "from sklearn.datasets import make_regression\n",
    "\n",
    "n, p, k, m = 10, 5, 3, 2\n",
    "x, y, coef = make_regression(n_samples=n, n_features=p, n_informative=k, n_targets=m, coef=True)\n",
    "\n",
    "def multi_linear_loss(para):\n",
    "    return jnp.sum(jnp.square(y - jnp.matmul(x, para.reshape((p, m)))))\n",
    "\n",
    "solver = ConvexSparseSolver(p * m, k, group=[i for i in range(p) for j in range(m)])\n",
    "solver.solve(multi_linear_loss)\n",
    "\n",
    "print(\"Estimated parameter:\\n\", solver.get_parameters().reshape((p, m)))\n",
    "print(\"True parameter:\\n\", coef)"
   ]
  }
 ],
 "metadata": {
  "kernelspec": {
   "display_name": "abess-dev",
   "language": "python",
   "name": "python3"
  },
  "language_info": {
   "codemirror_mode": {
    "name": "ipython",
    "version": 3
   },
   "file_extension": ".py",
   "mimetype": "text/x-python",
   "name": "python",
   "nbconvert_exporter": "python",
   "pygments_lexer": "ipython3",
   "version": "3.10.4"
  },
  "orig_nbformat": 4,
  "vscode": {
   "interpreter": {
    "hash": "4b3267657c2ca56fed6d7fdb7edada955d98b24e50acd65b198d3fe30cfd65ff"
   }
  }
 },
 "nbformat": 4,
 "nbformat_minor": 2
}
