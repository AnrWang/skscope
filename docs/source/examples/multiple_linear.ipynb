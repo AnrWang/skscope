{
 "cells": [
  {
   "attachments": {},
   "cell_type": "markdown",
   "metadata": {},
   "source": [
    "Multiple linear regression is also known as multi output linear regression, multivariate linear regression, or multidimensional linear regression, which is used to predict multiple dependent variables using a linear combination of multiple independent variables. This is different from simple linear regression, which is used to predict a single dependent variable using a single independent variable.\n",
    "\n",
    "The model is expressed as:\n",
    "$$\n",
    "    y = B^* x + \\epsilon,\n",
    "$$\n",
    "where $y$ is an $m$-dimensional response variable, $x$ is $p$-dimensional predictors, $B \\in R^{m \\times p}$ is the sparse coefficient matrix, $\\epsilon$ is an $m$-dimensional random noise variable with zero mean.\n",
    "\n",
    "With $n$ independent data of the explanatory variables $X$ and the response variable $Y$, we can estimate $B^* $ by minimizing the loss function under sparsity constraint:\n",
    "$$ arg\\min_{B}L(B) := ||Y-B X||^2, s.t.  || B ||_ {0,2} \\leq s, $$\n",
    "where $|| B ||_ {0, 2}$ is the number of non-zero rows of $B$.\n",
    "\n",
    "Here is Python code for solving sparse multiple linear regression problem:\n"
   ]
  },
  {
   "cell_type": "code",
   "execution_count": null,
   "metadata": {},
   "outputs": [],
   "source": [
    "from scope import ConvexSparseSolver, make_multivariate_glm_data\n",
    "import jax.numpy as jnp\n",
    "\n",
    "n, p, k, m = 10, 5, 3, 2\n",
    "data = make_multivariate_glm_data(n=n, p=p, k=k, M=m, family=\"multigaussian\", standardize=True)\n",
    "def multi_linear_loss(para):\n",
    "    para.reshape((p, m))\n",
    "    return jnp.sum(jnp.square(data.y - jnp.matmul(data.x, para)))\n",
    "\n",
    "solver = ConvexSparseSolver(p * m, k, group=[i for i in range(p) for j in range(m)])\n",
    "solver.solve(multi_linear_loss)\n",
    "\n",
    "print(\"Estimated parameter: \", solver.get_parameters(), \"True parameter: \", data.coef_)"
   ]
  }
 ],
 "metadata": {
  "kernelspec": {
   "display_name": "abess-dev",
   "language": "python",
   "name": "python3"
  },
  "language_info": {
   "name": "python",
   "version": "3.9.12 | packaged by conda-forge | (main, Mar 24 2022, 23:18:12) [MSC v.1929 64 bit (AMD64)]"
  },
  "orig_nbformat": 4,
  "vscode": {
   "interpreter": {
    "hash": "273b8292185c28d2e73355e253a0bda12652b0ac73960b2cf37cdb7a14400dd6"
   }
  }
 },
 "nbformat": 4,
 "nbformat_minor": 2
}
