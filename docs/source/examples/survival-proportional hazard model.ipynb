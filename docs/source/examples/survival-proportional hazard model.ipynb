{
 "cells": [
  {
   "attachments": {},
   "cell_type": "markdown",
   "metadata": {},
   "source": [
    "Cox's proportional hazards model is widely used in medical research and other fields to identify risk factors associated with an outcome of interest, and to estimate how these risk factors affect the time to the outcome while controlling for other variables. Which also offer great flexibility due to its semi-parametric nature.\n",
    "\n",
    "The hazard function for the survival time $T$ associated with a $p$-vector of possibly time-varying covariates $\\mathbf{Z}(\\cdot)$ takes the form \n",
    "$$\\lambda(t\\mid \\mathbf{Z})=\\lambda_0(t)\\exp^{\\boldsymbol{\\beta}^{\\prime}\\mathbf{Z}(t)}$$\n",
    "under the proportional hazards model, where $\\boldsymbol{\\beta}$ is $p$-vector of regression parameters and $\\lambda_0(\\cdot)$ is baseline hazard function. \n",
    "\n",
    "For many reasons not all survival time are fullly observed, we only consider the right-censoring situation here and let $C$ be the censoring time. Denote the observed time by $X=\\min\\{T,C\\}$ and the censoring indicator by $\\delta=I(T\\leq C)$. Define the observed-failure counting process $N(t)=I(X\\leq t,\\delta=1)$ which registers whether an uncensored failure has occurred by time $t$ and the corresponding at-risk indicator $Y(t)=I(X\\geq t)$. Without loss of generality, denote 1 as the terminal time of observation and there are $n$ independent data $\\{(X_i,\\delta_i,\\mathbf{Z}_i): i=1,2,\\cdots,n\\}$.\n",
    "\n",
    "The negative log partial likelihood function of proportional hazards model is\n",
    "$$L_2(\\boldsymbol{\\beta})=-\\sum_{i=1}^{n}\\int_0^1 \\boldsymbol{\\beta}^{\\prime}\\mathbf{Z}_i - \\log \\left(\\sum_{j=1}^n Y_j(t)\\exp(\\boldsymbol{\\beta}^{\\prime}\\mathbf{Z}_j)\\right) \\mathrm{d} N_i(t).$$\n",
    "We can estimate $\\boldsymbol{\\beta}$ by minimizing the negative log partial likelihood function under sparsity constraint:\n",
    "$$arg\\min_{\\beta \\in R^p}L_2(\\beta) , s.t.  || \\beta ||_0 \\leq s.$$"
   ]
  },
  {
   "attachments": {},
   "cell_type": "markdown",
   "metadata": {},
   "source": [
    "Here is Python code for solving sparse proportional hazards model:"
   ]
  },
  {
   "cell_type": "code",
   "execution_count": 4,
   "metadata": {},
   "outputs": [
    {
     "name": "stdout",
     "output_type": "stream",
     "text": [
      "censoring rate:0.355\n",
      "Estimated parameter: [0.         0.         0.         0.         5.25791676 0.\n",
      " 0.         0.         5.45310829 0.        ] objective: 1.5464740991592407\n",
      "True parameter: [0.         0.         0.         0.         4.63711743 0.\n",
      " 0.         0.         4.59908961 0.        ] objective: 1.5630498\n"
     ]
    }
   ],
   "source": [
    "from abess.datasets import make_glm_data\n",
    "import jax.numpy as jnp\n",
    "from scope import ScopeSolver\n",
    "\n",
    "n, p, k = 200, 10, 2\n",
    "data = make_glm_data(n, p, k, family=\"cox\", c = 3)\n",
    "\n",
    "def phazard_objective(params):\n",
    "    Xbeta = jnp.matmul(data.x, params)\n",
    "    logsum = jnp.zeros_like(Xbeta)\n",
    "    for i in range(0,n):\n",
    "        logsum = logsum.at[i].set(jnp.log(jnp.dot(data.y[:,0] >= data.y[:,0][i], jnp.exp(Xbeta))))\n",
    "    return jnp.dot(data.y[:,1],logsum)/n-jnp.dot(data.y[:,1], Xbeta)/n\n",
    "\n",
    "\n",
    "solver = ScopeSolver(p, k)\n",
    "solver.solve(phazard_objective, jit=True)\n",
    "\n",
    "#print(\"Estimated parameter:\", solver.get_result()[\"params\"], \"objective:\",solver.get_result()[\"value_of_objective\"])\n",
    "print(\"Estimated parameter:\", solver.get_result()[\"params\"], \"objective:\",solver.get_result()[\"value_of_objective\"])\n",
    "print(\"True parameter:\", data.coef_, \"objective:\",phazard_objective(data.coef_))"
   ]
  }
 ],
 "metadata": {
  "kernelspec": {
   "display_name": "scopedev",
   "language": "python",
   "name": "python3"
  },
  "language_info": {
   "codemirror_mode": {
    "name": "ipython",
    "version": 3
   },
   "file_extension": ".py",
   "mimetype": "text/x-python",
   "name": "python",
   "nbconvert_exporter": "python",
   "pygments_lexer": "ipython3",
   "version": "3.9.15"
  },
  "orig_nbformat": 4,
  "vscode": {
   "interpreter": {
    "hash": "2e94100132c34e335c27dec6a60d632ac7632eaaaea7172d16e9a059965b0a61"
   }
  }
 },
 "nbformat": 4,
 "nbformat_minor": 2
}
