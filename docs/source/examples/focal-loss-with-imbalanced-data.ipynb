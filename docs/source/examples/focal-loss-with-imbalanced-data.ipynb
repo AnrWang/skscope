{
 "cells": [
  {
   "attachments": {},
   "cell_type": "markdown",
   "metadata": {},
   "source": [
    "In the usual binary classification task, the loss is usually defined w.r.t. the predicted probability $p=\\frac{1}{1+\\exp(-\\beta^{\\top}x)}$ as the following cross entropy\n",
    "$$\n",
    "\\text{CrossEntropy}(p)=\\left\\{\n",
    "\\begin{aligned}\n",
    "&-\\log(p), &y=1 \\\\\n",
    "&-\\log(1-p), &y=0 \\\\\n",
    "\\end{aligned}\n",
    "\\right.\n",
    "$$\n",
    "However, in the setteing where positive and negative class are extremly imbalanced, an alternative is the following focal loss\n",
    "$$\n",
    "\\text{FocalLoss}(p;\\alpha,\\gamma)=\\left\\{\n",
    "\\begin{aligned}\n",
    "&-\\alpha (1-p)^{\\gamma}\\log(p), &y=1 \\\\\n",
    "&-(1-\\alpha) p^{\\gamma}\\log(1-p), &y=0 \\\\\n",
    "\\end{aligned}\n",
    "\\right.\n",
    "$$\n",
    "Here, we show how to perform a sparse imbalanced binary classification task using ``focal loss`` and ``scope``."
   ]
  },
  {
   "cell_type": "code",
   "execution_count": 1,
   "metadata": {},
   "outputs": [],
   "source": [
    "import numpy as np\n",
    "np.random.seed(123)\n",
    "import jax.numpy as jnp\n",
    "import matplotlib.pyplot as plt\n",
    "from scope import ScopeSolver\n",
    "\n",
    "from sklearn.datasets import load_breast_cancer\n",
    "from sklearn.model_selection import train_test_split\n",
    "from sklearn.metrics import f1_score"
   ]
  },
  {
   "cell_type": "code",
   "execution_count": 2,
   "metadata": {},
   "outputs": [
    {
     "name": "stdout",
     "output_type": "stream",
     "text": [
      "X shape:  (399, 100)\n",
      "Imbalanced ratio:  8.5\n"
     ]
    }
   ],
   "source": [
    "X, y = load_breast_cancer(return_X_y=True)\n",
    "idx_drop = np.where(y==0)[0][:170]  \n",
    "# rng = np.random.default_rng(0)\n",
    "X, y = np.delete(X, idx_drop, axis=0), np.delete(y, idx_drop)  # drop some samples of class 1 to make an imbalanced dataset\n",
    "X = (X - X.mean(0)) / X.std(0)  # standardize X \n",
    "X = np.hstack((X, np.random.randn(X.shape[0], 100-X.shape[1])))  # append some noise features\n",
    "X_train, X_test, y_train, y_test = train_test_split(X, y, test_size=0.3)\n",
    "\n",
    "print('X shape: ', X.shape)\n",
    "print('Imbalanced ratio: ', np.round((y==1).sum() / (y==0).sum(), 3))"
   ]
  },
  {
   "cell_type": "code",
   "execution_count": 3,
   "metadata": {},
   "outputs": [
    {
     "name": "stdout",
     "output_type": "stream",
     "text": [
      "F1 score of cross entropy:  0.865\n"
     ]
    }
   ],
   "source": [
    "def cross_entropy(params):\n",
    "    prob = 1 / (1 + jnp.exp(- X_train @ params))\n",
    "    loss = jnp.mean(jnp.piecewise(prob, \n",
    "                                 [y_train==1, y_train==0], \n",
    "                                 [lambda x: -jnp.log(x), lambda x: -jnp.log(1-x)]\n",
    "                    )\n",
    "            )\n",
    "    return loss\n",
    "\n",
    "solver = ScopeSolver(dimensionality=X_train.shape[1], sparsity=8)\n",
    "params = solver.solve(cross_entropy)\n",
    "\n",
    "y_pred = ((1 / (1 + jnp.exp(- X_test @ params))) >= 0.5).astype(int)\n",
    "print('F1 score of cross entropy: ', f1_score(y_test, y_pred).round(3))"
   ]
  },
  {
   "cell_type": "code",
   "execution_count": 4,
   "metadata": {},
   "outputs": [
    {
     "name": "stdout",
     "output_type": "stream",
     "text": [
      "F1 score of focal loss:  0.941\n"
     ]
    }
   ],
   "source": [
    "def focal_loss(params):\n",
    "    alpha, gamma = 0.1, 2\n",
    "    prob = 1 / (1 + jnp.exp(- X_train @ params))\n",
    "    loss = jnp.mean(jnp.piecewise(prob, \n",
    "                                 [y_train==1, y_train==0], \n",
    "                                 [lambda x: - alpha * (1-x)**gamma * jnp.log(x), lambda x: - (1-alpha) * x**gamma * jnp.log(1-x)]\n",
    "                    )\n",
    "            )\n",
    "    return loss\n",
    "\n",
    "solver = ScopeSolver(dimensionality=X_train.shape[1], sparsity=8)\n",
    "params = solver.solve(focal_loss)\n",
    "\n",
    "y_pred = ((1 / (1 + jnp.exp(- X_test @ params))) >= 0.5).astype(int)\n",
    "print('F1 score of focal loss: ', f1_score(y_test, y_pred).round(3))"
   ]
  }
 ],
 "metadata": {
  "kernelspec": {
   "display_name": "scope-env",
   "language": "python",
   "name": "python3"
  },
  "language_info": {
   "codemirror_mode": {
    "name": "ipython",
    "version": 3
   },
   "file_extension": ".py",
   "mimetype": "text/x-python",
   "name": "python",
   "nbconvert_exporter": "python",
   "pygments_lexer": "ipython3",
   "version": "3.9.0"
  },
  "orig_nbformat": 4
 },
 "nbformat": 4,
 "nbformat_minor": 2
}
