{
 "cells": [
  {
   "attachments": {},
   "cell_type": "markdown",
   "metadata": {},
   "source": [
    "Logistic regression is a important model to solve classification problem, which is expressed specifically as:\n",
    "\n",
    "$$\n",
    "\tP(y = 1 | x) = \\frac{1}{1+\\exp(-x^T \\beta)},\n",
    "$$  \n",
    "$$\n",
    "\tP(y = 0 | x) = \\frac{1}{1+\\exp(x^T \\beta)},\n",
    "$$\n",
    "where $\\beta$ is an unknown parameter vector that to be estimated. Since we expect only a few explanatory variables contribute for predicting $y$, we assume $\\beta$ is sparse vector with sparsity level $s$.\n",
    "\n",
    "With $n$ independent data of the explanatory variables $x$ and the response variable $y$, we can estimate $\\beta$ by minimizing the negative log-likelihood function under sparsity constraint:\n",
    "\n",
    "$$\n",
    "\targ\\min_{\\beta \\in R^p}L(\\beta) := -\\frac{1}{n}\\sum_{i=1}^{n}\\{y_{i} x_{i}^{T} \\beta-\\log (1+\\exp(x_{i}^{T} \\beta))\\}, s.t.  || \\beta ||_0 \\leq s.\n",
    "$$\n",
    "\n",
    "Here is Python code for solving sparse logistic regression problem:"
   ]
  },
  {
   "cell_type": "code",
   "execution_count": 9,
   "metadata": {},
   "outputs": [
    {
     "name": "stdout",
     "output_type": "stream",
     "text": [
      "Estimated parameter: [-5.23171096  0.         -2.14117606  0.          5.28620856] loss: 18.812378\n",
      "True parameter: [-7.97067675  0.         -2.94882107  0.          7.50542041] loss: 20.827606\n"
     ]
    }
   ],
   "source": [
    "from scope import ConvexSparseSolver, make_glm_data\n",
    "import jax.numpy as jnp\n",
    "\n",
    "n, p, k = 100, 5, 3\n",
    "data = make_glm_data(n=n, p=p, k=k, family=\"binomial\", standardize=True)\n",
    "\n",
    "def logistic_loss(para):\n",
    "    Xbeta = jnp.matmul(data.x, para)\n",
    "    zero_vec = jnp.zeros_like(Xbeta)\n",
    "    return jnp.sum(jnp.logaddexp(zero_vec, Xbeta)) - jnp.dot(data.y, Xbeta)\n",
    "\n",
    "solver = ConvexSparseSolver(p, k)\n",
    "solver.solve(logistic_loss)\n",
    "\n",
    "print(\"Estimated parameter:\", solver.get_parameters(), \"loss:\",logistic_loss(solver.get_parameters()))\n",
    "print(\"True parameter:\", data.coef_, \"loss:\",logistic_loss(data.coef_))"
   ]
  }
 ],
 "metadata": {
  "kernelspec": {
   "display_name": "abess-dev",
   "language": "python",
   "name": "python3"
  },
  "language_info": {
   "codemirror_mode": {
    "name": "ipython",
    "version": 3
   },
   "file_extension": ".py",
   "mimetype": "text/x-python",
   "name": "python",
   "nbconvert_exporter": "python",
   "pygments_lexer": "ipython3",
   "version": "3.10.4"
  },
  "orig_nbformat": 4,
  "vscode": {
   "interpreter": {
    "hash": "4b3267657c2ca56fed6d7fdb7edada955d98b24e50acd65b198d3fe30cfd65ff"
   }
  }
 },
 "nbformat": 4,
 "nbformat_minor": 2
}
