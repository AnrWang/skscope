{
 "cells": [
  {
   "attachments": {},
   "cell_type": "markdown",
   "metadata": {},
   "source": [
    "Logistic regression is a important model to solve classification problem, which is expressed specifically as:\n",
    "\n",
    "$$\n",
    "\tP(y = 1 | x) = \\frac{1}{1+\\exp(-x^T \\beta)},\n",
    "$$  \n",
    "$$\n",
    "\tP(y = 0 | x) = \\frac{1}{1+\\exp(x^T \\beta)},\n",
    "$$\n",
    "where $\\beta$ is an unknown parameter vector that to be estimated. Since we expect only a few explanatory variables contribute for predicting $y$, we assume $\\beta$ is sparse vector with sparsity level $s$.\n",
    "\n",
    "With $n$ independent data of the explanatory variables $x$ and the response variable $y$, we can estimate $\\beta$ by minimizing the negative log-likelihood function under sparsity constraint:\n",
    "\n",
    "$$\n",
    "\targ\\min_{\\beta \\in R^p}L(\\beta) := -\\frac{1}{n}\\sum_{i=1}^{n}\\{y_{i} x_{i}^{T} \\beta-\\log (1+\\exp(x_{i}^{T} \\beta))\\}, s.t.  || \\beta ||_0 \\leq s.\n",
    "$$\n",
    "\n",
    "Here is Python code for solving sparse logistic regression problem:"
   ]
  },
  {
   "cell_type": "code",
   "execution_count": null,
   "metadata": {},
   "outputs": [],
   "source": [
    "\"\"\"\n",
    "from scope import ConvexSparseSolver, make_glm_data\n",
    "import jax.numpy as jnp\n",
    "\n",
    "n, p, k = 10, 5, 3\n",
    "data = make_glm_data(n=n, p=p, k=k, family=\"binomial\", standardize=True)\n",
    "def logistic_loss(para):\n",
    "    Xbeta = jnp.matmul(data.x, para)\n",
    "    # avoid overflow\n",
    "    return sum(\n",
    "        [x if x > 100 else 0.0 if x < -100 else log(1 + exp(x)) for x in Xbeta]\n",
    "    ) - jnp.dot(data.y, Xbeta)\n",
    "\n",
    "solver = ConvexSparseSolver(p, k)\n",
    "solver.solve(logistic_loss)\n",
    "\n",
    "print(\"Estimated parameter: \", solver.get_parameters(), \"True parameter: \", data.coef_)\n",
    "print(\"Estimated sparsity level: \", solver.get_sparsity_level(), \"True sparsity level: \", k)\n",
    "\"\"\""
   ]
  }
 ],
 "metadata": {
  "kernelspec": {
   "display_name": "abess-dev",
   "language": "python",
   "name": "python3"
  },
  "language_info": {
   "codemirror_mode": {
    "name": "ipython",
    "version": 3
   },
   "file_extension": ".py",
   "mimetype": "text/x-python",
   "name": "python",
   "nbconvert_exporter": "python",
   "pygments_lexer": "ipython3",
   "version": "3.9.12"
  },
  "orig_nbformat": 4,
  "vscode": {
   "interpreter": {
    "hash": "273b8292185c28d2e73355e253a0bda12652b0ac73960b2cf37cdb7a14400dd6"
   }
  }
 },
 "nbformat": 4,
 "nbformat_minor": 2
}
