{
 "cells": [
  {
   "attachments": {},
   "cell_type": "markdown",
   "metadata": {},
   "source": [
    "Suppose we collect $n$ independent observations for a response variable and $p$ explanatory variables, say $y \\in R^n$ and $X \\in R^{n\\times p}$. Let $\\epsilon_1, \\ldots, \\epsilon_n$ be i.i.d zero-mean random noises and $\\epsilon = (\\epsilon_1, \\ldots, \\epsilon_n)$, the linear model has a form:\n",
    "\n",
    "$$y=X \\beta^{*} +\\epsilon.$$\n",
    "\n",
    "First, we need to define a objective function as the optimization objective. "
   ]
  },
  {
   "cell_type": "code",
   "execution_count": 1,
   "metadata": {},
   "outputs": [],
   "source": [
    "import numpy as np\n",
    "import jax.numpy as jnp\n",
    "import matplotlib.pyplot as plt\n",
    "import seaborn as sns\n",
    "from scope import ScopeSolver\n",
    "\n",
    "import warnings\n",
    "warnings.filterwarnings('ignore')"
   ]
  },
  {
   "cell_type": "code",
   "execution_count": 2,
   "metadata": {},
   "outputs": [],
   "source": [
    "n, p = 500, 100\n",
    "rng = np.random.default_rng(0)\n",
    "X = rng.normal(0, 1, (n, p))\n",
    "beta = np.zeros(p)\n",
    "beta[:3] = [1, 2, 3]\n",
    "y = X @ beta + rng.normal(0, 1, n)"
   ]
  },
  {
   "cell_type": "code",
   "execution_count": 3,
   "metadata": {},
   "outputs": [
    {
     "name": "stdout",
     "output_type": "stream",
     "text": [
      "Square-Loss Error:  0.001\n"
     ]
    }
   ],
   "source": [
    "def ols_loss(params):\n",
    "    loss = jnp.mean((y - X @ params)**2)\n",
    "    return loss\n",
    "\n",
    "solver = ScopeSolver(p, sparsity=3)\n",
    "params = solver.solve(ols_loss)\n",
    "print('Square-Loss Error: ', np.sum((params-beta)**2).round(3))\n"
   ]
  }
 ],
 "metadata": {
  "kernelspec": {
   "display_name": "scope-env",
   "language": "python",
   "name": "python3"
  },
  "language_info": {
   "codemirror_mode": {
    "name": "ipython",
    "version": 3
   },
   "file_extension": ".py",
   "mimetype": "text/x-python",
   "name": "python",
   "nbconvert_exporter": "python",
   "pygments_lexer": "ipython3",
   "version": "3.10.9"
  },
  "orig_nbformat": 4
 },
 "nbformat": 4,
 "nbformat_minor": 2
}
