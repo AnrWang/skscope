{
 "cells": [
  {
   "attachments": {},
   "cell_type": "markdown",
   "metadata": {},
   "source": [
    "Non-negative least squares\n",
    "--------\n",
    "\n",
    "### Introduction\n",
    "\n",
    "In mathematical optimization, the problem of non-negative least squares (NNLS) is a type of constrained least squares problem where the coefficients are not allowed to become negative. It is very helpful in practice because non-negativity constraints occur naturally in diverse fields. As pointed out in [[1]](#refer-1), non-negativity constraints appears in acoustics, genomics, astronomical imaging, hyperspectral imaging, proteomics, and so on. Here we provide a typical examples:\n",
    "\n",
    "> When processing geodetic data, knowledge on an appropriate covariance matrix of observations is a prerequisite for sub-consequent statistical analysis. The unknown covariance components are to be estimated to properly weight the contribution of different data sets to the final estimates. Non-negativity constraints can be used when estimating the variance components; it is well known that the variances are to be estimated as non-negative numbers [[3]](#refer-3). \n",
    "\n",
    "In this examples, it makes sense to respect the non-negativity so as to avoid physically absurd and unpredictable results.\n",
    "\n",
    "Due to importance of non-negativity, we turn to give a mathematical formulation for non-negative least squares. Suppose we collect $n$ independent observations for a response variable and $p$ explanatory variables, say $y \\in R^n$ and $X \\in R^{n\\times p}$. Let $\\epsilon_1, \\ldots, \\epsilon_n$ be i.i.d zero-mean random noises and $\\epsilon = (\\epsilon_1, \\ldots, \\epsilon_n)$, the linear model has a form $y=X \\beta +\\epsilon$. The non-negative least-squares (NNLS) estimator is given by:\n",
    "\n",
    "$$ \\hat{\\beta} \\leftarrow \\arg\\min_{\\beta}\\| y - X \\beta \\|^2_2 \\;\\; \\textup{s.t.} \\;\\; \\beta_i \\geq 0 \\;\\; \\textup{(for $i = 1, \\ldots, p$)}.$$\n",
    "\n",
    "Another equivalent formulation can be:\n",
    "\n",
    "$$ \\tilde{\\beta} \\leftarrow \\arg\\min_{\\beta}\\| y - X |\\beta| \\|^2_2,$$\n",
    "\n",
    "where $|\\cdot|$ is a element-wise absolute operator, and $|\\tilde{\\beta}|$ is the solution of NNLS. "
   ]
  },
  {
   "attachments": {},
   "cell_type": "markdown",
   "metadata": {},
   "source": [
    "\n",
    "Interestingly, it is reported that the solution of NNLS is sparse [[1]](#refer-1) when $X$ satisfies certain properties. However, the NNLS cannot exactly control the sparsity of the solution. For instance, although user is interested in a $s$-sparse NNLS estimator, the NNLS may just return a $s'$-sparse solution where $s \\neq s'$. We exemplify this via a synthetic dataset. In this dataset, $X$ is drawn from a multivariate gaussian distribution $N(\\textbf{0}, \\Sigma)$ where $\\Sigma_{ij} = 0.8^{|i-j|}$ and $\\beta$ is a sparse vector whose non-zero elements are equiv-spaced in $0, \\ldots, 299$ with values 10. \n",
    "The noises come from the standard normal distribution. The code for generating this dataset is presented below. "
   ]
  },
  {
   "cell_type": "code",
   "execution_count": 84,
   "metadata": {},
   "outputs": [],
   "source": [
    "import numpy as np\n",
    "np.random.seed(123)\n",
    "num, p = 100, 300\n",
    "rho = 0.8\n",
    "k = 5\n",
    "X = np.random.multivariate_normal(mean=np.zeros(p), \n",
    "                                  cov=np.power(rho, np.abs(np.arange(p) - np.arange(p).reshape(p, 1))), \n",
    "                                  size=num)\n",
    "\n",
    "beta = np.zeros(p)\n",
    "beta[np.linspace(0, p - 1, k, dtype=int)] = [10 for _ in range(k)]\n",
    "y = X @ beta + np.random.normal(0, 1, num)"
   ]
  },
  {
   "attachments": {},
   "cell_type": "markdown",
   "metadata": {},
   "source": [
    "The `LinearRegression` in `sklearn.linear_model` can fit standard the NNLS:"
   ]
  },
  {
   "cell_type": "code",
   "execution_count": 85,
   "metadata": {},
   "outputs": [
    {
     "data": {
      "text/html": [
       "<style>#sk-container-id-1 {color: black;background-color: white;}#sk-container-id-1 pre{padding: 0;}#sk-container-id-1 div.sk-toggleable {background-color: white;}#sk-container-id-1 label.sk-toggleable__label {cursor: pointer;display: block;width: 100%;margin-bottom: 0;padding: 0.3em;box-sizing: border-box;text-align: center;}#sk-container-id-1 label.sk-toggleable__label-arrow:before {content: \"▸\";float: left;margin-right: 0.25em;color: #696969;}#sk-container-id-1 label.sk-toggleable__label-arrow:hover:before {color: black;}#sk-container-id-1 div.sk-estimator:hover label.sk-toggleable__label-arrow:before {color: black;}#sk-container-id-1 div.sk-toggleable__content {max-height: 0;max-width: 0;overflow: hidden;text-align: left;background-color: #f0f8ff;}#sk-container-id-1 div.sk-toggleable__content pre {margin: 0.2em;color: black;border-radius: 0.25em;background-color: #f0f8ff;}#sk-container-id-1 input.sk-toggleable__control:checked~div.sk-toggleable__content {max-height: 200px;max-width: 100%;overflow: auto;}#sk-container-id-1 input.sk-toggleable__control:checked~label.sk-toggleable__label-arrow:before {content: \"▾\";}#sk-container-id-1 div.sk-estimator input.sk-toggleable__control:checked~label.sk-toggleable__label {background-color: #d4ebff;}#sk-container-id-1 div.sk-label input.sk-toggleable__control:checked~label.sk-toggleable__label {background-color: #d4ebff;}#sk-container-id-1 input.sk-hidden--visually {border: 0;clip: rect(1px 1px 1px 1px);clip: rect(1px, 1px, 1px, 1px);height: 1px;margin: -1px;overflow: hidden;padding: 0;position: absolute;width: 1px;}#sk-container-id-1 div.sk-estimator {font-family: monospace;background-color: #f0f8ff;border: 1px dotted black;border-radius: 0.25em;box-sizing: border-box;margin-bottom: 0.5em;}#sk-container-id-1 div.sk-estimator:hover {background-color: #d4ebff;}#sk-container-id-1 div.sk-parallel-item::after {content: \"\";width: 100%;border-bottom: 1px solid gray;flex-grow: 1;}#sk-container-id-1 div.sk-label:hover label.sk-toggleable__label {background-color: #d4ebff;}#sk-container-id-1 div.sk-serial::before {content: \"\";position: absolute;border-left: 1px solid gray;box-sizing: border-box;top: 0;bottom: 0;left: 50%;z-index: 0;}#sk-container-id-1 div.sk-serial {display: flex;flex-direction: column;align-items: center;background-color: white;padding-right: 0.2em;padding-left: 0.2em;position: relative;}#sk-container-id-1 div.sk-item {position: relative;z-index: 1;}#sk-container-id-1 div.sk-parallel {display: flex;align-items: stretch;justify-content: center;background-color: white;position: relative;}#sk-container-id-1 div.sk-item::before, #sk-container-id-1 div.sk-parallel-item::before {content: \"\";position: absolute;border-left: 1px solid gray;box-sizing: border-box;top: 0;bottom: 0;left: 50%;z-index: -1;}#sk-container-id-1 div.sk-parallel-item {display: flex;flex-direction: column;z-index: 1;position: relative;background-color: white;}#sk-container-id-1 div.sk-parallel-item:first-child::after {align-self: flex-end;width: 50%;}#sk-container-id-1 div.sk-parallel-item:last-child::after {align-self: flex-start;width: 50%;}#sk-container-id-1 div.sk-parallel-item:only-child::after {width: 0;}#sk-container-id-1 div.sk-dashed-wrapped {border: 1px dashed gray;margin: 0 0.4em 0.5em 0.4em;box-sizing: border-box;padding-bottom: 0.4em;background-color: white;}#sk-container-id-1 div.sk-label label {font-family: monospace;font-weight: bold;display: inline-block;line-height: 1.2em;}#sk-container-id-1 div.sk-label-container {text-align: center;}#sk-container-id-1 div.sk-container {/* jupyter's `normalize.less` sets `[hidden] { display: none; }` but bootstrap.min.css set `[hidden] { display: none !important; }` so we also need the `!important` here to be able to override the default hidden behavior on the sphinx rendered scikit-learn.org. See: https://github.com/scikit-learn/scikit-learn/issues/21755 */display: inline-block !important;position: relative;}#sk-container-id-1 div.sk-text-repr-fallback {display: none;}</style><div id=\"sk-container-id-1\" class=\"sk-top-container\"><div class=\"sk-text-repr-fallback\"><pre>LinearRegression(fit_intercept=False, positive=True)</pre><b>In a Jupyter environment, please rerun this cell to show the HTML representation or trust the notebook. <br />On GitHub, the HTML representation is unable to render, please try loading this page with nbviewer.org.</b></div><div class=\"sk-container\" hidden><div class=\"sk-item\"><div class=\"sk-estimator sk-toggleable\"><input class=\"sk-toggleable__control sk-hidden--visually\" id=\"sk-estimator-id-1\" type=\"checkbox\" checked><label for=\"sk-estimator-id-1\" class=\"sk-toggleable__label sk-toggleable__label-arrow\">LinearRegression</label><div class=\"sk-toggleable__content\"><pre>LinearRegression(fit_intercept=False, positive=True)</pre></div></div></div></div></div>"
      ],
      "text/plain": [
       "LinearRegression(fit_intercept=False, positive=True)"
      ]
     },
     "execution_count": 85,
     "metadata": {},
     "output_type": "execute_result"
    }
   ],
   "source": [
    "from sklearn.linear_model import LinearRegression\n",
    "lr = LinearRegression(positive=True, fit_intercept=False)\n",
    "lr.fit(X, y)"
   ]
  },
  {
   "attachments": {},
   "cell_type": "markdown",
   "metadata": {},
   "source": [
    "Then, we plot the estimated regression coefficient. For comparison, we also plot the true regression coefficient below.   "
   ]
  },
  {
   "cell_type": "code",
   "execution_count": 86,
   "metadata": {},
   "outputs": [
    {
     "data": {
      "text/plain": [
       "<matplotlib.legend.Legend at 0x1511a6a90>"
      ]
     },
     "execution_count": 86,
     "metadata": {},
     "output_type": "execute_result"
    },
    {
     "data": {
      "image/png": "[encoded data removed]",
      "text/plain": [
       "<Figure size 700x300 with 1 Axes>"
      ]
     },
     "metadata": {},
     "output_type": "display_data"
    }
   ],
   "source": [
    "import matplotlib.pyplot as plt\n",
    "(inx_true,) =  beta.nonzero()\n",
    "(inx_est,) =  lr.coef_.nonzero()\n",
    "plt.figure(figsize=(7, 3))\n",
    "plt.stem(inx_true, beta[inx_true], markerfmt='o', basefmt='k-', linefmt=\"-.\", label=\"true signal\")\n",
    "plt.stem(inx_est, lr.coef_[inx_est], markerfmt='g', basefmt='k-', linefmt=\":\", label=\"NNLS signal\")\n",
    "plt.plot([0, p], [0, 0], 'r-', lw=2)\n",
    "plt.xlim(-10, p+10)\n",
    "plt.legend(loc='best', bbox_to_anchor=(0.75, 1.18), ncol=2)"
   ]
  },
  {
   "attachments": {},
   "cell_type": "markdown",
   "metadata": {},
   "source": [
    "From the above figure, we can see the NNLS estimator can identify the true signal but it also incorrectly selects many ineffective variables. Thus, the NNLS is not suitable for learning the exact sparse non-negative regression coefficients. "
   ]
  },
  {
   "attachments": {},
   "cell_type": "markdown",
   "metadata": {},
   "source": [
    "Fortunately, with `skscope`, we can exactly control the sparsity of NNLS."
   ]
  },
  {
   "attachments": {},
   "cell_type": "markdown",
   "metadata": {},
   "source": [
    "### Sparse NNLS\n",
    "\n",
    "Next, we describe the formulation of $s$-sparse NNLS:\n",
    "\n",
    "$$ \\tilde{\\beta} \\leftarrow \\arg\\min_{\\beta}\\| y - X |\\beta| \\|^2_2, \\;\\; \\textup{s.t.} \\;\\; \\|\\beta\\|_0 \\leq s,$$\n",
    "\n",
    "then $|\\tilde{\\beta}|$ is the solution of $s$-sparse NNLS. \n",
    "\n",
    "With `skscope`, a few line of code can solve the sparse NNLS estimator described above. "
   ]
  },
  {
   "cell_type": "code",
   "execution_count": 87,
   "metadata": {},
   "outputs": [],
   "source": [
    "import jax.numpy as jnp\n",
    "from scope import ScopeSolver\n",
    "\n",
    "def nnls(params):\n",
    "    return jnp.mean((y - X @ jnp.abs(params))**2)\n",
    "\n",
    "solver = ScopeSolver(p, sparsity=k)\n",
    "params = np.abs(solver.solve(nnls))"
   ]
  },
  {
   "attachments": {},
   "cell_type": "markdown",
   "metadata": {},
   "source": [
    "Again, we plot the estimated coefficient returned by `skscope` and compare with the true one. From the below figure, we notice that the sparse NNLS exactly select the true signal and the estimated coefficients are very closed to the true. "
   ]
  },
  {
   "cell_type": "code",
   "execution_count": 88,
   "metadata": {},
   "outputs": [
    {
     "data": {
      "text/plain": [
       "<matplotlib.legend.Legend at 0x1510b95e0>"
      ]
     },
     "execution_count": 88,
     "metadata": {},
     "output_type": "execute_result"
    },
    {
     "data": {
      "image/png": "[encoded data removed]",
      "text/plain": [
       "<Figure size 700x300 with 1 Axes>"
      ]
     },
     "metadata": {},
     "output_type": "display_data"
    }
   ],
   "source": [
    "(inx_est,) =  params.nonzero()\n",
    "plt.figure(figsize=(7, 3))\n",
    "plt.stem(inx_true, beta[inx_true], markerfmt='o', basefmt='k-', linefmt=\"-.\", label=\"true signal\")\n",
    "plt.stem(inx_est, params[inx_est], markerfmt='g', basefmt='k-', linefmt=\":\", label=\"sparse NNLS signal\")\n",
    "plt.plot([0, p], [0, 0], 'r-', lw=2)\n",
    "plt.xlim(-10, p+10)\n",
    "plt.legend(loc='best', bbox_to_anchor=(0.75, 1.18), ncol=2)"
   ]
  },
  {
   "attachments": {},
   "cell_type": "markdown",
   "metadata": {},
   "source": [
    "We also quantitatively compare the estimation error NNLS and the sparse NNLS in terms of $\\ell_2$-norm: "
   ]
  },
  {
   "cell_type": "code",
   "execution_count": 89,
   "metadata": {},
   "outputs": [
    {
     "name": "stdout",
     "output_type": "stream",
     "text": [
      "Square Error of sparse NNLS:  0.119\n",
      "Square Error of NNLS:  1.695\n"
     ]
    }
   ],
   "source": [
    "print('Square Error of sparse NNLS: ', np.sum((params-beta)**2).round(3))\n",
    "print('Square Error of NNLS: ', np.sum((lr.coef_- beta)**2).round(3))"
   ]
  },
  {
   "attachments": {},
   "cell_type": "markdown",
   "metadata": {},
   "source": [
    "From the above result, we can conclude the sparse NNLS gives a more accurate estimator. "
   ]
  },
  {
   "attachments": {},
   "cell_type": "markdown",
   "metadata": {},
   "source": [
    "### Reference\n",
    "\n",
    "<div id=\"refer-1\"></div>\n",
    "\n",
    "- [1] Martin Slawski. Matthias Hein. \"Non-negative least squares for high-dimensional linear models: Consistency and sparse recovery without regularization.\" Electron. J. Statist. 7 3004 - 3056, 2013. https://doi.org/10.1214/13-EJS868\n",
    "\n",
    "<div id=\"refer-2\"></div>\n",
    "\n",
    "- [2] Amiri-Simkooei, A.R. Non-negative least-squares variance component estimation with application to GPS time series. J Geod 90, 451–466 (2016). https://doi.org/10.1007/s00190-016-0886-9"
   ]
  }
 ],
 "metadata": {
  "kernelspec": {
   "display_name": "scope-env",
   "language": "python",
   "name": "python3"
  },
  "language_info": {
   "codemirror_mode": {
    "name": "ipython",
    "version": 3
   },
   "file_extension": ".py",
   "mimetype": "text/x-python",
   "name": "python",
   "nbconvert_exporter": "python",
   "pygments_lexer": "ipython3",
   "version": "3.9.12"
  },
  "orig_nbformat": 4
 },
 "nbformat": 4,
 "nbformat_minor": 2
}
