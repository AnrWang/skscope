{
 "cells": [
  {
   "attachments": {},
   "cell_type": "markdown",
   "metadata": {},
   "source": [
    "In the presence of outliers, an alternative to the mean square loss is the Huber loss w.r.t. the residual $r=y-X\\beta$ defined as follows\n",
    "$$\n",
    "\\text{Huber}(r;M)=\\left\\{\n",
    "\\begin{aligned}\n",
    "&r^2, &|r|<M \\\\\n",
    "&2M|r|-M^2, &|r|\\geq M .\\\\\n",
    "\\end{aligned}\n",
    "\\right.\n",
    "$$\n",
    "Here, we show an example to perform a Huber regression with ``scope``."
   ]
  },
  {
   "cell_type": "code",
   "execution_count": 5,
   "metadata": {},
   "outputs": [],
   "source": [
    "import numpy as np\n",
    "import jax.numpy as jnp\n",
    "import matplotlib.pyplot as plt\n",
    "import seaborn as sns\n",
    "from scope import ScopeSolver\n",
    "\n",
    "import warnings\n",
    "warnings.filterwarnings('ignore')"
   ]
  },
  {
   "cell_type": "code",
   "execution_count": 6,
   "metadata": {},
   "outputs": [],
   "source": [
    "n, p = 500, 100\n",
    "rng = np.random.default_rng(0)\n",
    "X = rng.normal(0, 1, (n, p))\n",
    "beta = np.zeros(p)\n",
    "beta[:3] = [1, 2, 3]\n",
    "y = X @ beta + rng.normal(0, 1, n)\n",
    "\n",
    "# make outliers via flipping the sign of 20% response\n",
    "fliplist = rng.random(len(y))\n",
    "for i in range(len(y)):\n",
    "    if fliplist[i] < 0.2:\n",
    "        y[i] = - y[i]"
   ]
  },
  {
   "cell_type": "code",
   "execution_count": 7,
   "metadata": {},
   "outputs": [
    {
     "name": "stdout",
     "output_type": "stream",
     "text": [
      "Huber-Loss Error:  0.154\n"
     ]
    }
   ],
   "source": [
    "def huber_loss(params):\n",
    "    M = 1\n",
    "    r = y - jnp.matmul(X, params)\n",
    "    loss = jnp.sum(jnp.piecewise(r, \n",
    "                                 [(r>=-M)&(r<=M), r<-M, r>M], \n",
    "                                 [lambda r: r**2, lambda r: 2*M*jnp.abs(r)-M**2, lambda r: 2*M*jnp.abs(r)-M**2]\n",
    "                    )\n",
    "            )\n",
    "    return loss\n",
    "\n",
    "solver = ScopeSolver(p, sparsity=3)\n",
    "params = solver.solve(huber_loss)\n",
    "print('Huber-Loss Error: ', np.sum((params-beta)**2).round(3))"
   ]
  },
  {
   "cell_type": "code",
   "execution_count": 8,
   "metadata": {},
   "outputs": [
    {
     "name": "stdout",
     "output_type": "stream",
     "text": [
      "Suqare-Loss Error:  2.92\n"
     ]
    }
   ],
   "source": [
    "def ols_loss(params):\n",
    "    loss = jnp.mean((y - X @ params)**2)\n",
    "    return loss\n",
    "\n",
    "solver = ScopeSolver(p, sparsity=3)\n",
    "params = solver.solve(ols_loss)\n",
    "print('Suqare-Loss Error: ', np.sum((params-beta)**2).round(3))\n"
   ]
  }
 ],
 "metadata": {
  "kernelspec": {
   "display_name": "scope-env",
   "language": "python",
   "name": "python3"
  },
  "language_info": {
   "codemirror_mode": {
    "name": "ipython",
    "version": 3
   },
   "file_extension": ".py",
   "mimetype": "text/x-python",
   "name": "python",
   "nbconvert_exporter": "python",
   "pygments_lexer": "ipython3",
   "version": "3.9.0"
  },
  "orig_nbformat": 4
 },
 "nbformat": 4,
 "nbformat_minor": 2
}
