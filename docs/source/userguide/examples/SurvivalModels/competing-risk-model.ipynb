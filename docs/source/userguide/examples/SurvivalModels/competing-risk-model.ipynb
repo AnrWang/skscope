{
 "cells": [
  {
   "attachments": {},
   "cell_type": "markdown",
   "metadata": {},
   "source": [
    "Competing risk model\n",
    "--------------\n",
    "\n",
    "### Introduction\n",
    "\n",
    "A competing risk model is used to analyze the occurrence of multiple events. There are two or more possible outcomes that compete with each other for occurrence, and the probability of one outcome may affect the probability of another. When there are competitive risk events, the traditional survival analysis method will overestimate the risk of the disease, resulting in competitive risk bias. For example, a patient can die from breast cancer or from stroke, but he cannot die from both. \n",
    "\n",
    "Competing risk model aims to correctly estimate marginal probability of an event in the presence of competing events. The following figures illustrate the comparison of end events between the two processes."
   ]
  },
  {
   "attachments": {},
   "cell_type": "markdown",
   "metadata": {},
   "source": [
    "<table>\n",
    "<td> \n",
    "<img src=\"./Figure/tradition_survival.png\" style=\"width:100;height:200px;\"> <br>\n",
    "<center> Figure 1: Traditional survival analysis process<center>\n",
    "</td> \n",
    "<td> \n",
    "<img src=\"./Figure/competing_risk_model.png\" style=\"width:300;height:400px;\"> <br>\n",
    "<center> Figure 2: Competing risk process<center>\n",
    "</td> \n",
    "</table>"
   ]
  },
  {
   "attachments": {},
   "cell_type": "markdown",
   "metadata": {},
   "source": [
    "Let $T$ and $C$ be the failure and censoring times, and $\\epsilon\\in\\{1,\\ldots,K\\}$ be cause of failure. The observed time is $X=\\min\\{T, C\\}$, censoring indicator is $\\delta=I(T\\leq C)$. For the type $k$ failure, the subdistribution hazard is defined as following,\n",
    "$$\\lambda_k(t;\\boldsymbol{Z})=\\underset{\\Delta t\\to 0}{\\lim} \\frac{1}{\\Delta t} P(t\\leq T\\leq t+\\Delta t, \\epsilon=k| (T\\geq t)\\cup (T<t\\cap \\epsilon\\neq k), \\boldsymbol{Z}),$$\n",
    "where $\\epsilon\\in\\{1,\\ldots,K\\}$ is the cause of failure, $\\mathbf{Z}$ is the covariates and $\\boldsymbol{\\beta}$ is a vector of unknown regression parameters. It leads to the following log partial likelihoood,\n",
    "$$log(L(\\boldsymbol{\\beta}))=\\sum_{i=1}^n I(\\epsilon_i=k,\\delta_{i}=1)\\left\\{\\boldsymbol{\\beta}^{\\prime}\\boldsymbol{Z}_i-\\log\\left[\\sum_{j\\in R_i}\\exp(\\boldsymbol{\\beta}^{\\prime}\\boldsymbol{Z}_j)\\right]\\right\\},$$\n",
    "where $R_i=\\{j: (X_j\\geq T_i)\\cup (T_j\\leq T_i\\leq C_j \\cap \\epsilon_i\\neq k)\\}$ is the at risk set at time $X_i$"
   ]
  },
  {
   "attachments": {},
   "cell_type": "markdown",
   "metadata": {},
   "source": [
    "### Date generation\n",
    "\n",
    "In the simulation part, similar to [[1]](#refer-1), we only consider two types of failure. The vector of regression parameters for case 1 is $\\boldsymbol{\\beta}_1$, and for case 2 is $\\boldsymbol{\\beta}_2=-\\boldsymbol{\\beta}_1$. This suggests that the subdistributions for type 1 failures were given by\n",
    "$$P(T\\leq t,\\epsilon=1|\\boldsymbol{Z})=1-\\left[1-p(1-e^{-t})\\right]^{\\exp(\\boldsymbol{\\beta_1}^{\\prime}\\boldsymbol{Z})}.$$\n",
    "The case 2 failures are obtained by $P(\\epsilon=2|\\boldsymbol{Z})=1-P(\\epsilon=1|\\boldsymbol{Z})$ and then using an exponential distribution with rate $\\exp(\\boldsymbol{\\beta_2}^{\\prime}\\boldsymbol{Z})$. "
   ]
  },
  {
   "cell_type": "code",
   "execution_count": 6,
   "metadata": {},
   "outputs": [],
   "source": [
    "import numpy as np\n",
    "\n",
    "# generate the above data\n",
    "# mix: the value of p in the subdistribution\n",
    "# c: the censoring times generated from a uniform on [0,c]\n",
    "def make_data(n,beta,rho=0.5,mix=0.5,c=10):\n",
    "    p = len(beta)\n",
    "    Sigma = np.power(rho, np.abs(np.linspace(1, p, p) - np.linspace(1, p, p).reshape(p, 1)))\n",
    "    x = np.random.multivariate_normal(mean=np.zeros(p), cov=Sigma, size=(n,))\n",
    "    Xbeta = np.matmul(x, beta)\n",
    "    prob = 1 - np.power((1-mix), np.exp(Xbeta))\n",
    "    case =  np.random.binomial(1,prob)             # failure case\n",
    "    u = np.random.uniform(0, 1, n)\n",
    "    temp = -(1-mix)/mix+np.power((1-u+u*np.power((1-mix),np.exp(Xbeta))),np.exp(-Xbeta))/mix\n",
    "    time = case*(-np.log(temp))  + (1-case)*np.random.exponential(np.exp(-Xbeta),n)\n",
    "    ctime =  np.random.uniform(0, c, n)\n",
    "    delta = (time < ctime) * 1              # censoring indicator\n",
    "    censoringrate = 1 - sum(delta) / n\n",
    "    print(\"censoring rate:\" + str(censoringrate))\n",
    "    time = np.minimum(time,ctime)\n",
    "    y = np.hstack((time.reshape((-1, 1)), ctime.reshape((-1, 1))))\n",
    "    delta = np.hstack((delta.reshape((-1, 1)), case.reshape((-1,1))))\n",
    "    return(x,y,delta)"
   ]
  },
  {
   "attachments": {},
   "cell_type": "markdown",
   "metadata": {},
   "source": [
    "### Subset selection\n",
    "\n",
    "Under a sparse assumption, we can estimate $\\boldsymbol{\\beta}$ by minimizing the negative log partial likelihood function:\n",
    "$$\\arg\\min_{\\beta \\in R^p}~-log L(\\boldsymbol{\\beta}) , s.t.  || \\boldsymbol{\\beta}||_0 \\leq s.$$\n",
    "\n",
    "We generate a sample of size 200 as described above, where the number of covariates is 10 and only 2  are efficitive. To see the difference between the two events, we plot the Kaplan-Meier survival curves. And then, perform a log-rank test to compare the survival curves of the two groups."
   ]
  },
  {
   "cell_type": "code",
   "execution_count": 13,
   "metadata": {},
   "outputs": [
    {
     "name": "stdout",
     "output_type": "stream",
     "text": [
      "censoring rate:0.15500000000000003\n"
     ]
    },
    {
     "data": {
      "text/html": [
       "<div>\n",
       "<style scoped>\n",
       "    .dataframe tbody tr th:only-of-type {\n",
       "        vertical-align: middle;\n",
       "    }\n",
       "\n",
       "    .dataframe tbody tr th {\n",
       "        vertical-align: top;\n",
       "    }\n",
       "\n",
       "    .dataframe thead th {\n",
       "        text-align: right;\n",
       "    }\n",
       "</style>\n",
       "<table border=\"1\" class=\"dataframe\">\n",
       "  <tbody>\n",
       "    <tr>\n",
       "      <th>t_0</th>\n",
       "      <td>-1</td>\n",
       "    </tr>\n",
       "    <tr>\n",
       "      <th>null_distribution</th>\n",
       "      <td>chi squared</td>\n",
       "    </tr>\n",
       "    <tr>\n",
       "      <th>degrees_of_freedom</th>\n",
       "      <td>1</td>\n",
       "    </tr>\n",
       "    <tr>\n",
       "      <th>test_name</th>\n",
       "      <td>logrank_test</td>\n",
       "    </tr>\n",
       "  </tbody>\n",
       "</table>\n",
       "</div><table border=\"1\" class=\"dataframe\">\n",
       "  <thead>\n",
       "    <tr style=\"text-align: right;\">\n",
       "      <th></th>\n",
       "      <th>test_statistic</th>\n",
       "      <th>p</th>\n",
       "      <th>-log2(p)</th>\n",
       "    </tr>\n",
       "  </thead>\n",
       "  <tbody>\n",
       "    <tr>\n",
       "      <th>0</th>\n",
       "      <td>46.33</td>\n",
       "      <td>&lt;0.005</td>\n",
       "      <td>36.54</td>\n",
       "    </tr>\n",
       "  </tbody>\n",
       "</table>"
      ],
      "text/latex": [
       "\\begin{tabular}{lrrr}\n",
       " & test_statistic & p & -log2(p) \\\\\n",
       "0 & 46.33 & 0.00 & 36.54 \\\\\n",
       "\\end{tabular}\n"
      ],
      "text/plain": [
       "<lifelines.StatisticalResult: logrank_test>\n",
       "               t_0 = -1\n",
       " null_distribution = chi squared\n",
       "degrees_of_freedom = 1\n",
       "         test_name = logrank_test\n",
       "\n",
       "---\n",
       " test_statistic      p  -log2(p)\n",
       "          46.33 <0.005     36.54"
      ]
     },
     "metadata": {},
     "output_type": "display_data"
    },
    {
     "name": "stdout",
     "output_type": "stream",
     "text": [
      "None\n"
     ]
    },
    {
     "data": {
      "image/png": "[encoded data removed]",
      "text/plain": [
       "<Figure size 640x480 with 1 Axes>"
      ]
     },
     "metadata": {},
     "output_type": "display_data"
    }
   ],
   "source": [
    "from lifelines import KaplanMeierFitter\n",
    "from lifelines.statistics import logrank_test\n",
    "\n",
    "np.random.seed(123)\n",
    "n, p, k = 200, 10, 2\n",
    "beta = np.zeros(p)\n",
    "beta[np.linspace(0, p - 1, k, dtype=int)] = [1 for _ in range(k)]\n",
    "x,y,delta = make_data(n,beta)\n",
    "\n",
    "kmf = KaplanMeierFitter()\n",
    "for i in range(0, 2):\n",
    "    event_name = 'Event_' + str(i+1)\n",
    "    kmf.fit(y[delta[:,1]==i,0], delta[delta[:,1]==i,0], label=event_name, alpha=0.05)\n",
    "    kmf.plot()\n",
    "\n",
    "results = logrank_test(y[delta[:,1]==0,0], y[delta[:,1]==1,0], delta[delta[:,1]==0,0], delta[delta[:,1]==1,0])\n",
    "print(results.print_summary())"
   ]
  },
  {
   "attachments": {},
   "cell_type": "markdown",
   "metadata": {},
   "source": [
    "The two survival curves do not cross, and the p value of log rank test is much less than 0.05. The above results show that there is a significant difference between their survival times.\n",
    "\n",
    "A python code for solving such model is as following: "
   ]
  },
  {
   "cell_type": "code",
   "execution_count": 14,
   "metadata": {},
   "outputs": [
    {
     "name": "stdout",
     "output_type": "stream",
     "text": [
      "Estimated parameter: [0.98117704 0.         0.         0.         0.         0.\n",
      " 0.         0.         0.         1.02418439] objective: 2.1014227867126465\n",
      "True parameter: [1. 0. 0. 0. 0. 0. 0. 0. 0. 1.] objective: 2.1016417\n"
     ]
    }
   ],
   "source": [
    "import jax.numpy as jnp\n",
    "from skscope import ScopeSolver\n",
    "\n",
    "def competing_risk_objective(params):\n",
    "    Xbeta = jnp.matmul(x, params)\n",
    "    logsum = jnp.zeros_like(Xbeta)\n",
    "    for i in range(0,n):\n",
    "        riskset = ((y[:,0]>=y[i,0])|((delta[:,1]==0)&(delta[:,0]==1)&(y[:,0]<=y[i,0])&(y[:,1]>=y[i,0])))*1\n",
    "        logsum = logsum.at[i].set(jnp.log(jnp.dot(riskset, jnp.exp(Xbeta))))\n",
    "    return jnp.dot(delta[:,0]*delta[:,1],logsum)/n-jnp.dot(delta[:,0]*delta[:,1], Xbeta)/n\n",
    "\n",
    "\n",
    "solver = ScopeSolver(p, k)\n",
    "solver.solve(competing_risk_objective, jit=True)\n",
    "print(\"Estimated parameter:\", solver.get_result()[\"params\"], \"objective:\",solver.get_result()[\"value_of_objective\"])\n",
    "print(\"True parameter:\", beta, \"objective:\",competing_risk_objective(beta))"
   ]
  },
  {
   "attachments": {},
   "cell_type": "markdown",
   "metadata": {},
   "source": [
    "The algorithm has selected the correct variables, and the estimated coefficients and loss are very close to the true values."
   ]
  },
  {
   "attachments": {},
   "cell_type": "markdown",
   "metadata": {},
   "source": [
    "### Reference\n",
    "\n",
    "<div id=\"refer-1\"></div>\n",
    "\n",
    "- [1] Jason P. Fine & Robert J. Gray (1999) A Proportional Hazards Model for the Subdistribution of a Competing Risk, Journal of the American Statistical Association, 94:446, 496-509"
   ]
  }
 ],
 "metadata": {
  "kernelspec": {
   "display_name": "scope_env",
   "language": "python",
   "name": "python3"
  },
  "language_info": {
   "codemirror_mode": {
    "name": "ipython",
    "version": 3
   },
   "file_extension": ".py",
   "mimetype": "text/x-python",
   "name": "python",
   "nbconvert_exporter": "python",
   "pygments_lexer": "ipython3",
   "version": "3.9.15"
  },
  "orig_nbformat": 4
 },
 "nbformat": 4,
 "nbformat_minor": 2
}
