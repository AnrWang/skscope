{
 "cells": [
  {
   "cell_type": "markdown",
   "id": "88849ea2",
   "metadata": {},
   "source": [
    "Sparse Precision Matrix\n",
    "--------------------------------\n",
    "\n",
    "### Introduction\n",
    "\n",
    "In the field of data analysis and machine learning, estimating the precision matrix has always been an important problem. Traditional optimization problems based on Gaussian graphical models often use the loss function $L^{\\text{GGM}}(\\Omega)=\\text{tr}(S\\Omega)-\\log\\det \\Omega$ for solving. However, this optimization problem is not strongly convex and smooth, and may require additional steps and conditions to achieve the best results. Moreover, this method is essentially applicable only to multivariate Gaussian random vectors.\n",
    "\n",
    "However, in practical applications, the sample data often does not completely conform to the assumption of multivariate Gaussian distribution. Here are some more specific examples.\n",
    "\n",
    "- Social Network Analysis: Social networks, where nodes represent individuals and edges depict their social connections, often exhibit complex non-Gaussian distributions, such as power-law distributions.\n",
    "\n",
    "- Financial Market Networks: Financial market networks, with nodes representing different assets and edges denoting their interactions, typically demonstrate nonlinearity and non-Gaussian characteristics.\n",
    "\n",
    "- Large-scale Recommendation Systems: Graph-based recommendation systems, capturing user-item interactions, often involve complex distributions that deviate from multivariate Gaussian assumptions. These distributions can include long-tailed distributions, indicating that some items have significantly higher frequencies than others in user behavior data.\n",
    "\n",
    "In such cases, we would like to obtain a more general loss function for estimating the precision matrix. Since Since $\\Sigma^*\\Omega^*=1$, where $\\Sigma^*$ and $\\Omega^*$ are the true values of the covariance matrix and precision matrix respectively, we can consider the discrepancy between $\\Sigma\\Omega$ and the identity matrix $I_{p\\times p}$ in some sense, similar to [[1]](#refer-anchor-1), where $\\Sigma$ is the sample covariance matrix.\n",
    "\n",
    "Here, we consider to minimize another loss function for learning sparse precision matrix, i.e., \n",
    "$$\n",
    "\\begin{aligned}\n",
    "\\arg\\min & L(\\Omega)=\\| {\\Sigma}{\\Omega} - \\mathbf{I}_{p\\times p} \\|_F\n",
    "\\\\\n",
    "&\\text{subject to:} \\; \n",
    "\\Omega \\in \\mathcal{S}^{++} \\\\\n",
    "&\\qquad\\qquad\\| \\Omega \\|_0 \\leq s \\\\\n",
    "\\end{aligned}\n",
    "$$\n",
    "where $\\| \\Omega \\|_0$ is the number of non-zero entries on upper-diagonal matrix of $\\Omega$ and $\\mathcal{S}^{++}$ is the space of symmetric positive definite matrix. "
   ]
  },
  {
   "cell_type": "markdown",
   "id": "e0602b8c",
   "metadata": {},
   "source": [
    "### Examples"
   ]
  },
  {
   "cell_type": "code",
   "execution_count": 1,
   "id": "a9748dfa",
   "metadata": {},
   "outputs": [],
   "source": [
    "from skscope import GraspSolver, ScopeSolver\n",
    "import jax.numpy as jnp\n",
    "import numpy as np\n",
    "from sklearn.datasets import make_sparse_spd_matrix\n",
    "import cvxpy as cp\n",
    "import matplotlib.pyplot as plt\n",
    "import seaborn as sns\n",
    "import scipy.linalg as la"
   ]
  },
  {
   "cell_type": "markdown",
   "id": "849d11c4",
   "metadata": {},
   "source": [
    "First, we define the loss function $L(\\Omega)$ mentioned above. In this function, since the parameters accepted by `scope` need to be in vector form, we input a vector composed of the upper triangular part of matrix $\\Omega$ and then restore it to a matrix within the function.\n",
    "Furthermore, we use the cvxpy package to define a solver with symmetric positive definite conditions."
   ]
  },
  {
   "cell_type": "code",
   "execution_count": 2,
   "id": "f4db74e5",
   "metadata": {},
   "outputs": [],
   "source": [
    "def graphical_loss(params, sample_covariance_matrix):\n",
    "    p = sample_covariance_matrix.shape[0]\n",
    "    Omega = jnp.zeros((p, p))\n",
    "    Omega = Omega.at[np.triu_indices(p)].set(params)\n",
    "    Omega = jnp.where(Omega, Omega, Omega.T)\n",
    "    return jnp.linalg.norm(jnp.matmul(sample_covariance_matrix, Omega) - np.diag(np.ones(p)), ord='fro')\n",
    "\n",
    "\n",
    "\n",
    "def convex_solver_cvxpy(\n",
    "    loss_fn,\n",
    "    value_and_grad,\n",
    "    params,\n",
    "    optim_variable_set,\n",
    "    data,\n",
    "):\n",
    "    data = np.squeeze(np.array(data))\n",
    "    p = data.shape[1]\n",
    "    dim = int(p * (p + 1) / 2)\n",
    "    s = len(optim_variable_set)\n",
    "\n",
    "    non_opt_mark_vec = np.ones(dim, dtype=bool)\n",
    "    non_opt_mark_vec[optim_variable_set] = False\n",
    "    non_opt_indices_mat = (\n",
    "        np.triu_indices(p)[0][non_opt_mark_vec],\n",
    "        np.triu_indices(p)[1][non_opt_mark_vec],\n",
    "    )\n",
    "\n",
    "    Omega = cp.Variable((p, p), PSD=True)\n",
    "\n",
    "    constraints = [\n",
    "        Omega[non_opt_indices_mat] == np.zeros(dim - s),\n",
    "    ]\n",
    "\n",
    "    graphical_guassian_loss = cp.norm(data @ Omega - np.diag(np.ones(p)), \"fro\")\n",
    "\n",
    "    prob = cp.Problem(cp.Minimize(graphical_guassian_loss), constraints)\n",
    "    prob.solve()\n",
    "\n",
    "    return graphical_guassian_loss.value, Omega.value[np.triu_indices(p)]"
   ]
  },
  {
   "cell_type": "markdown",
   "id": "e3a81cd0",
   "metadata": {},
   "source": [
    "Below, we demonstrate the application of the loss function mentioned earlier to handle the same example as given in the Sparse Gaussian Precision Matrix documentation.\n",
    "We consider setting the sample size to be $n=150$ and the dimensionality to be $p=30$. \n",
    "\n",
    "#### Random Structure\n",
    "\n",
    "We consider a graph structure where each pair of points is connected with a fixed probability."
   ]
  },
  {
   "cell_type": "code",
   "execution_count": 3,
   "id": "15db5d1d",
   "metadata": {},
   "outputs": [],
   "source": [
    "n, p = 150, 30\n",
    "prng = np.random.RandomState(1)\n",
    "prec = make_sparse_spd_matrix(p, alpha=0.98, smallest_coef=0.3, largest_coef=0.5, random_state=prng)\n",
    "cov = np.linalg.inv(prec)\n",
    "d = np.sqrt(np.diag(cov))\n",
    "cov /= d\n",
    "cov /= d[:, np.newaxis]\n",
    "prec *= d\n",
    "prec *= d[:, np.newaxis]\n",
    "X = prng.multivariate_normal(np.zeros(p), cov, size=n)\n",
    "X -= X.mean(axis=0)\n",
    "X /= X.std(axis=0)\n",
    "\n",
    "# sample covariance and precision matrix\n",
    "cov_sample = np.cov(X.T)\n",
    "prec_sample = np.linalg.inv(cov_sample)"
   ]
  },
  {
   "cell_type": "markdown",
   "id": "586795a2",
   "metadata": {},
   "source": [
    "Next, we minimize the loss function using the `ScopeSolver` from the `scope` package to obtain an estimate of the sparse precision matrix, given the known size of the true support set. "
   ]
  },
  {
   "cell_type": "code",
   "execution_count": 4,
   "id": "22cbfe08",
   "metadata": {},
   "outputs": [],
   "source": [
    "solver = ScopeSolver(\n",
    "    dimensionality=int(p * (p + 1) / 2),\n",
    "    sparsity=np.count_nonzero(prec[np.triu_indices(p)]),\n",
    "    always_select=np.where(np.triu_indices(p)[0] == np.triu_indices(p)[1])[0],\n",
    "    numeric_solver=convex_solver_cvxpy,\n",
    ")\n",
    "\n",
    "solver.solve(\n",
    "    graphical_loss,\n",
    "    cov_sample,\n",
    "    init_params=np.eye(p)[np.triu_indices(p)],\n",
    ")\n",
    "\n",
    "prec_ = np.zeros((p, p))\n",
    "prec_[np.triu_indices(p)] = solver.params\n",
    "prec_ = np.where(\n",
    "    prec_, prec_, prec_.T\n",
    ")"
   ]
  },
  {
   "cell_type": "markdown",
   "id": "075adf74",
   "metadata": {},
   "source": [
    "Next, we calculate the accuracy of the scope estimator in selecting the support set."
   ]
  },
  {
   "cell_type": "code",
   "execution_count": 5,
   "id": "1bd191b1",
   "metadata": {},
   "outputs": [
    {
     "name": "stdout",
     "output_type": "stream",
     "text": [
      "Scope:  0.9862068965517241\n"
     ]
    }
   ],
   "source": [
    "def estimate_accuracy(actual_matrix, estimated_matrix):\n",
    "    p = actual_matrix.shape[0] \n",
    "    return (np.sum((actual_matrix != 0) == (estimated_matrix != 0)) - p) / (p ** 2 - p)\n",
    "\n",
    "print('Scope: ', estimate_accuracy(prec, prec_))"
   ]
  },
  {
   "cell_type": "markdown",
   "id": "5512f7bd",
   "metadata": {},
   "source": [
    "Below, we present the matrix heatmaps of the true precision matrix, the sample precision matrix, and the precision matrix estimated by `scope`."
   ]
  },
  {
   "cell_type": "code",
   "execution_count": 6,
   "id": "ff7e5522",
   "metadata": {
    "scrolled": false
   },
   "outputs": [
    {
     "data": {
      "image/png": "[encoded data removed]",
      "text/plain": [
       "<Figure size 1200x300 with 6 Axes>"
      ]
     },
     "metadata": {},
     "output_type": "display_data"
    }
   ],
   "source": [
    "fig, axes = plt.subplots(1, 3, figsize=(12, 3))\n",
    "\n",
    "sns.heatmap(prec, vmin=-1, vmax=1, ax=axes[0])\n",
    "axes[0].set_xticks([])\n",
    "axes[0].set_yticks([])\n",
    "axes[0].set_title('True precision')\n",
    "\n",
    "sns.heatmap(prec_sample, vmin=-1, vmax=1, ax=axes[1])\n",
    "axes[1].set_xticks([])\n",
    "axes[1].set_yticks([])\n",
    "axes[1].set_title('Sample precision')\n",
    "\n",
    "sns.heatmap(prec_, vmin=-1, vmax=1, ax=axes[2])\n",
    "axes[2].set_xticks([])\n",
    "axes[2].set_yticks([])\n",
    "axes[2].set_title('Scope precision')\n",
    "\n",
    "plt.show()"
   ]
  },
  {
   "cell_type": "markdown",
   "id": "f286ddbc",
   "metadata": {},
   "source": [
    "#### Band Structure\n",
    "\n",
    "We consider the graph structure corresponding to a random vector with some variables form a Markov chain.\n",
    "We follow the identical procedure mentioned above to construct and manipulate the sample.\n",
    "We define a function that generates a desired symmetric positive definite matrix as follow."
   ]
  },
  {
   "cell_type": "code",
   "execution_count": 7,
   "id": "8d157b99",
   "metadata": {},
   "outputs": [],
   "source": [
    "def sparse_spd_matrix(p, s, model=0, u=10, v=1):\n",
    "    # Create a zero matrix\n",
    "    matrix = np.zeros((p, p))\n",
    "\n",
    "    # Set diagonal elements\n",
    "    np.fill_diagonal(matrix, 1)\n",
    "    \n",
    "    if model == 0:\n",
    "        # Set elements at positions (i-1, i) and (i, i+1)\n",
    "        np.fill_diagonal(matrix[1:, :s], u)\n",
    "        np.fill_diagonal(matrix[:s, 1:], u)\n",
    "    elif model == 1:\n",
    "        # Set elements at positions (0, i) and (i, 0)\n",
    "        matrix[0, :s] = u\n",
    "        matrix[:s, 0] = u\n",
    "\n",
    "    # Calculate the minimum eigenvalue\n",
    "    eigenvalues = la.eigvalsh(matrix)\n",
    "    lambda_min = np.min(eigenvalues)\n",
    "\n",
    "    if lambda_min < 0:\n",
    "        # Adjust the matrix if the minimum eigenvalue is less than 0\n",
    "        adjustment = abs(lambda_min) + v\n",
    "        matrix += adjustment * np.eye(p)\n",
    "    matrix *= u\n",
    "        \n",
    "    # Check if the matrix is positive definite using Cholesky decomposition\n",
    "    try:\n",
    "        cholesky = la.cholesky(matrix)\n",
    "    except la.LinAlgError:\n",
    "        raise ValueError(\"The generated matrix is not positive definite!\")\n",
    "\n",
    "    return matrix"
   ]
  },
  {
   "cell_type": "code",
   "execution_count": 8,
   "id": "f55e7153",
   "metadata": {},
   "outputs": [],
   "source": [
    "n, p, s = 150, 30, 10\n",
    "prec = sparse_spd_matrix(p, s, model = 0)\n",
    "cov = np.linalg.inv(prec)\n",
    "d = np.sqrt(np.diag(cov))\n",
    "cov /= d\n",
    "cov /= d[:, np.newaxis]\n",
    "prec *= d\n",
    "prec *= d[:, np.newaxis]\n",
    "X = prng.multivariate_normal(np.zeros(p), cov, size=n)\n",
    "X -= X.mean(axis=0)\n",
    "X /= X.std(axis=0)\n",
    "\n",
    "# sample covariance and precision matrix\n",
    "cov_sample = np.cov(X.T)\n",
    "prec_sample = np.linalg.inv(cov_sample)"
   ]
  },
  {
   "cell_type": "code",
   "execution_count": 9,
   "id": "002b496e",
   "metadata": {},
   "outputs": [],
   "source": [
    "solver = GraspSolver(\n",
    "    dimensionality=int(p * (p + 1) / 2),\n",
    "    sparsity=np.count_nonzero(prec[np.triu_indices(p)]),\n",
    "    always_select=np.where(np.triu_indices(p)[0] == np.triu_indices(p)[1])[0],\n",
    "    numeric_solver=convex_solver_cvxpy,\n",
    ")\n",
    "\n",
    "solver.solve(\n",
    "    graphical_loss,\n",
    "    cov_sample,\n",
    "    init_params=np.eye(p)[np.triu_indices(p)],\n",
    ")\n",
    "\n",
    "prec_ = np.zeros((p, p))\n",
    "prec_[np.triu_indices(p)] = solver.params\n",
    "prec_ = np.where(\n",
    "    prec_, prec_, prec_.T\n",
    ")"
   ]
  },
  {
   "cell_type": "code",
   "execution_count": 10,
   "id": "533d0fbc",
   "metadata": {
    "scrolled": false
   },
   "outputs": [
    {
     "name": "stdout",
     "output_type": "stream",
     "text": [
      "Scope:  1.0\n"
     ]
    }
   ],
   "source": [
    "print('Scope: ', estimate_accuracy(prec, prec_))"
   ]
  },
  {
   "cell_type": "code",
   "execution_count": 11,
   "id": "ba3e3b2f",
   "metadata": {},
   "outputs": [
    {
     "data": {
      "image/png": "[encoded data removed]",
      "text/plain": [
       "<Figure size 1200x300 with 6 Axes>"
      ]
     },
     "metadata": {},
     "output_type": "display_data"
    }
   ],
   "source": [
    "fig, axes = plt.subplots(1, 3, figsize=(12, 3))\n",
    "\n",
    "sns.heatmap(prec, vmin=-2, vmax=2, ax=axes[0])\n",
    "axes[0].set_xticks([])\n",
    "axes[0].set_yticks([])\n",
    "axes[0].set_title('True precision')\n",
    "\n",
    "sns.heatmap(prec_sample, vmin=-2, vmax=2, ax=axes[1])\n",
    "axes[1].set_xticks([])\n",
    "axes[1].set_yticks([])\n",
    "axes[1].set_title('Sample precision')\n",
    "\n",
    "sns.heatmap(prec_, vmin=-2, vmax=2, ax=axes[2])\n",
    "axes[2].set_xticks([])\n",
    "axes[2].set_yticks([])\n",
    "axes[2].set_title('Scope precision')\n",
    "\n",
    "plt.show()"
   ]
  },
  {
   "cell_type": "markdown",
   "id": "f8f0b3ef",
   "metadata": {},
   "source": [
    "#### Hub Structure\n",
    "\n",
    "Next, we consider a graph structure that includes a hub node.\n",
    "We employ the identical approach as described earlier to construct and handle the sample."
   ]
  },
  {
   "cell_type": "code",
   "execution_count": 12,
   "id": "36380e40",
   "metadata": {},
   "outputs": [],
   "source": [
    "n, p, s = 150, 30, 10\n",
    "prec = sparse_spd_matrix(p, s, model = 1, u=1)\n",
    "cov = np.linalg.inv(prec)\n",
    "d = np.sqrt(np.diag(cov))\n",
    "cov /= d\n",
    "cov /= d[:, np.newaxis]\n",
    "prec *= d\n",
    "prec *= d[:, np.newaxis]\n",
    "X = prng.multivariate_normal(np.zeros(p), cov, size=n)\n",
    "X -= X.mean(axis=0)\n",
    "X /= X.std(axis=0)\n",
    "\n",
    "# sample covariance and precision matrix\n",
    "cov_sample = np.cov(X.T)\n",
    "prec_sample = np.linalg.inv(cov_sample)"
   ]
  },
  {
   "cell_type": "code",
   "execution_count": 13,
   "id": "bb6e1c0a",
   "metadata": {},
   "outputs": [],
   "source": [
    "solver = GraspSolver(\n",
    "    dimensionality=int(p * (p + 1) / 2),\n",
    "    sparsity=np.count_nonzero(prec[np.triu_indices(p)]),\n",
    "    always_select=np.where(np.triu_indices(p)[0] == np.triu_indices(p)[1])[0],\n",
    "    numeric_solver=convex_solver_cvxpy,\n",
    ")\n",
    "\n",
    "solver.solve(\n",
    "    graphical_loss,\n",
    "    cov_sample,\n",
    "    init_params=np.eye(p)[np.triu_indices(p)],\n",
    ")\n",
    "\n",
    "prec_ = np.zeros((p, p))\n",
    "prec_[np.triu_indices(p)] = solver.params\n",
    "prec_ = np.where(\n",
    "    prec_, prec_, prec_.T\n",
    ")"
   ]
  },
  {
   "cell_type": "code",
   "execution_count": 14,
   "id": "b97968ac",
   "metadata": {},
   "outputs": [
    {
     "name": "stdout",
     "output_type": "stream",
     "text": [
      "Scope:  0.9954022988505747\n"
     ]
    }
   ],
   "source": [
    "print('Scope: ', estimate_accuracy(prec, prec_))"
   ]
  },
  {
   "cell_type": "code",
   "execution_count": 15,
   "id": "14d9e8ce",
   "metadata": {
    "scrolled": true
   },
   "outputs": [
    {
     "data": {
      "image/png": "[encoded data removed]",
      "text/plain": [
       "<Figure size 1200x300 with 6 Axes>"
      ]
     },
     "metadata": {},
     "output_type": "display_data"
    }
   ],
   "source": [
    "fig, axes = plt.subplots(1, 3, figsize=(12, 3))\n",
    "\n",
    "sns.heatmap(prec, vmin=-1, vmax=1, ax=axes[0])\n",
    "axes[0].set_xticks([])\n",
    "axes[0].set_yticks([])\n",
    "axes[0].set_title('True precision')\n",
    "\n",
    "sns.heatmap(prec_sample, vmin=-1, vmax=1, ax=axes[1])\n",
    "axes[1].set_xticks([])\n",
    "axes[1].set_yticks([])\n",
    "axes[1].set_title('Sample precision')\n",
    "\n",
    "sns.heatmap(prec_, vmin=-1, vmax=1, ax=axes[2])\n",
    "axes[2].set_xticks([])\n",
    "axes[2].set_yticks([])\n",
    "axes[2].set_title('Scope precision')\n",
    "\n",
    "plt.show()"
   ]
  },
  {
   "cell_type": "markdown",
   "id": "08bb805d",
   "metadata": {},
   "source": [
    "From the matrix heatmaps of the three scenarios mentioned above, it can be observed that the scope estimator exhibits fewer erroneously selected elements when applied to this loss function."
   ]
  },
  {
   "cell_type": "markdown",
   "id": "fa458055",
   "metadata": {},
   "source": [
    "### Reference\n",
    "\n",
    "<div id=\"refer-anchor-1\"></div>\n",
    "\n",
    "- [1] Cai, T., Liu, W., & Luo, X. (2011). A constrained ℓ 1 minimization approach to sparse precision matrix estimation. Journal of the American Statistical Association, 106(494), 594-607."
   ]
  }
 ],
 "metadata": {
  "kernelspec": {
   "display_name": "Python 3 (ipykernel)",
   "language": "python",
   "name": "python3"
  },
  "language_info": {
   "codemirror_mode": {
    "name": "ipython",
    "version": 3
   },
   "file_extension": ".py",
   "mimetype": "text/x-python",
   "name": "python",
   "nbconvert_exporter": "python",
   "pygments_lexer": "ipython3",
   "version": "3.9.7"
  }
 },
 "nbformat": 4,
 "nbformat_minor": 5
}
