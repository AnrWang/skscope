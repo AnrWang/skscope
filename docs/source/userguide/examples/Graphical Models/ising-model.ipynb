{
 "cells": [
  {
   "cell_type": "markdown",
   "id": "0a809ece",
   "metadata": {},
   "source": [
    "# Ising Model"
   ]
  },
  {
   "cell_type": "markdown",
   "id": "0aa2fabf",
   "metadata": {},
   "source": [
    "The Ising model is a mathematical model used to describe statistical physics systems. It was initially proposed by Ernst Ising in 1925 [[1]](#refer-anchor-1) to study phase transition phenomena in magnetic materials with spin interactions.The Ising model finds wide applications in various fields, especially in statistical physics and computer science. Here are some examples of its practical applications:\n",
    "\n",
    "- Study of phase transitions in magnetic materials: The Ising model is used to investigate phase transition behaviors in magnetic materials, such as the magnetization process and critical temperature of ferromagnetic materials.\n",
    "\n",
    "- Sociological modeling: The Ising model can be employed to build sociological models, for example, studying the evolution of information spreading, opinion formation, and social behavior in a population.\n",
    "\n",
    "- Neuroscience: The Ising model can be used to study collective behavior in neural networks, exploring the interactions between neurons and the emergence of collective behavior.\n",
    "\n",
    "The Ising model defines a probability distribution over samples x, which are taken from the set {1, -1}^p. The distribution function can be expressed as:\n",
    "\n",
    "$$\\mathbb{P}\\left(\\mathbf{x} \\right)=\\frac{1}{\\Phi(\\boldsymbol{\\theta}^*)} \\exp \\left\\{\\frac{1}{2} \\sum_{k, l=1}^{p} \\boldsymbol{\\theta}^*_{k l} x_{k} x_{l}\\right\\}.$$\n",
    "\n",
    "Here, $\\boldsymbol{\\theta}^*$ is a $p\\times p$ matrix, and $\\Phi(\\boldsymbol{\\theta}^*)$ is a normalization constant defined as:\n",
    "\n",
    "$$\\Phi(\\boldsymbol{\\theta}^*)=\\sum\\limits_{\\mathbf{z}\\in \\{-1,1\\}^p} \\exp \\left\\{\\frac{1}{2}\\sum_{k, l=1}^{p} \\boldsymbol{\\theta}^*_{k l} \\mathbf{z}_{k} \\mathbf{z}_{l}\\right\\}.$$\n",
    "\n",
    "The distribution function assigns probabilities to different configurations of spins (samples x), based on the interaction strengths encoded in the θ* matrix. Higher interaction strengths ($\\theta^*_{kl}$) between two spins ($x_k$ and $x_l$) contribute to higher probabilities for their aligned orientations.\n",
    "The normalization constant $\\Phi(\\boldsymbol{\\theta}^*)$ ensures that the probabilities sum up to 1 over all possible configurations of spins, making it a valid probability distribution.\n",
    "This formulation allows us to model the behavior of physical systems based on the Ising model framework and provides a way to calculate the probabilities of different spin configurations given the interaction strengths represented by the θ* matrix.\n",
    "\n",
    "We can obtain sparse parameters, θ, by solving the following optimization problem:\n",
    "\n",
    "\\begin{aligned}\n",
    "& \\underset{\\boldsymbol{\\theta} \\in \\mathcal{S}_p}{\\arg \\min } f(\\boldsymbol{\\theta}):=-\\frac{1}{n} \\sum_{i=1}^n \\log \\left(\\prod_{k=1}^p \\mathbb{P}\\left(\\mathbf{x}_{i k} \\mid \\mathbf{x}_{i 1}, \\ldots, \\mathbf{x}_{i k-1}, \\mathbf{x}_{i k+1}, \\ldots, \\mathbf{x}_{i p}\\right)\\right), \\\\\n",
    "& \\text { s.t. }\\|\\boldsymbol{\\theta}\\|_0 \\leq s .\n",
    "\\end{aligned}\n",
    "\n",
    "As we have\n",
    "\n",
    "\\begin{aligned}\n",
    "\\mathbb{P}\\left(\\mathbf{x}_{i k} \\mid \\mathbf{x}_{i 1}, \\ldots, \\mathbf{x}_{i k-1}, \\mathbf{x}_{i k+1}, \\ldots, \\mathbf{x}_{i p}\\right)=&\n",
    "\\frac{\\exp\\left(\\frac12 \\sum_{l,m=1}^p\\theta_{lm}x_{il}x_{im}\\right)}{\\exp\\left(\\frac12 \\sum_{l,m=1}^p\\theta_{lm}x_{il}x_{im}\\right)+\\exp\\left(\\frac12\\left(\\theta_{kk}x_{ik}^2-2\\sum_{l\\neq k}\\theta_{kl}x_{ik}x_{il}+\\sum_{l,m\\neq k}\\theta_{lm}x_{il}x_{im}\\right)\\right)}\\\\\n",
    "=& \\frac1{1+\\exp\\left(-2\\sum_{l\\neq k}\\theta_{kl}x_{ik}x_{il}\\right)}\\\\\n",
    "=& \\frac1{1+\\exp\\left(-2x_{ik}\\sum_{l\\neq k}\\theta_{kl}x_{il}\\right)}.\n",
    "\\end{aligned}\n",
    "\n",
    "The function $f(\\boldsymbol{\\theta})$ can be written in the following form, using the given expression for the conditional probability:\n",
    "\n",
    "\\begin{aligned}\n",
    "f(\\boldsymbol{\\theta}) = -\\frac{1}{n} \\sum_{i=1}^n\\sum_{k=1}^p\\log \\left(\\frac{1}{1+\\exp\\left(-2x_{ik}\\sum_{l\\neq k}\\theta_{kl}x_{il}\\right)}\\right).\n",
    "\\end{aligned}\n",
    "\n",
    "To solve this optimization problem, let's consider using the `scope` package."
   ]
  },
  {
   "cell_type": "code",
   "execution_count": 1,
   "id": "4f07d2bb",
   "metadata": {},
   "outputs": [],
   "source": [
    "from scope import GraspSolver, ScopeSolver\n",
    "import jax.numpy as jnp\n",
    "import numpy as np\n",
    "import matplotlib.pyplot as plt\n",
    "import matplotlib.cm as cm\n",
    "import seaborn as sns\n",
    "import itertools"
   ]
  },
  {
   "cell_type": "markdown",
   "id": "39a17ed9",
   "metadata": {},
   "source": [
    "We set the sample size n = 250, dimension p = 10, and support set size s = 10. We then choose parameters θ such that it represents a sparse symmetric matrix, and each entry has an equal probability of being either 1 or -1."
   ]
  },
  {
   "cell_type": "code",
   "execution_count": 2,
   "id": "3b1961a3",
   "metadata": {
    "scrolled": true
   },
   "outputs": [],
   "source": [
    "def generate_theta(p, s):\n",
    "    \n",
    "    # Generate an array of random values\n",
    "    values = np.random.choice([-1, 1], size=s)\n",
    "    \n",
    "    # Initialize S matrix with zeros\n",
    "    S = np.zeros((p, p))\n",
    "    indices = np.triu_indices(p, k=1)\n",
    "    \n",
    "    # Randomly select s elements from the upper triangle to set to values\n",
    "    total_elements = len(indices[0])\n",
    "    selected_indices = np.random.choice(total_elements, size=s, replace=False)\n",
    "    S[indices[0][selected_indices], indices[1][selected_indices]] = values\n",
    "    \n",
    "    # Compute theta as the transpose of S plus S\n",
    "    theta = S.T + S\n",
    "\n",
    "    return theta\n",
    "\n",
    "p = 10\n",
    "s = 10\n",
    "n = 250\n",
    "\n",
    "np.random.seed(0)\n",
    "theta = generate_theta(p, s)"
   ]
  },
  {
   "cell_type": "markdown",
   "id": "fe882042",
   "metadata": {},
   "source": [
    "Below, we define a class called `IsingData`. Its `.table` is a $2^p\\times p$ matrix, with the row vectors form the set $\\{1,-1\\}^p$. The `.freq` attribute stores the frequency of occurrence for each element in the set $\\{1,-1\\}^p$ during simulation. Then, we construct a sample that belongs to the `IsingData` class."
   ]
  },
  {
   "cell_type": "code",
   "execution_count": 3,
   "id": "ec7b86ed",
   "metadata": {},
   "outputs": [],
   "source": [
    "class IsingData:\n",
    "    def __init__(self, data):\n",
    "        self.n = data.shape[0]\n",
    "        self.p = data.shape[1] - 1\n",
    "        self.table = data[:, 1:]\n",
    "        self.freq = data[:, 0]\n",
    "\n",
    "        self.index_translator = np.zeros(shape=(self.p, self.p), dtype=np.int32)\n",
    "        idx = 0\n",
    "        for i in range(self.p):\n",
    "            for j in range(i + 1, self.p):\n",
    "                self.index_translator[i, j] = idx\n",
    "                self.index_translator[j, i] = idx\n",
    "                idx += 1\n",
    "                \n",
    "def generate_samples(theta, n):\n",
    "    p = theta.shape[0]\n",
    "    z_values = np.array(np.meshgrid(*[(-1, 1)] * p)).T.reshape(-1, p)\n",
    "    exponent = np.exp(0.5 * np.sum(np.multiply(np.matmul(z_values, theta), z_values), axis=1))\n",
    "    normalization = np.sum(exponent)\n",
    "    probabilities = exponent / normalization\n",
    "\n",
    "    sampled_indices = np.random.choice(range(2 ** p), size = n, p = probabilities)\n",
    "    counts = np.zeros(2 ** p)\n",
    "    for idx in sampled_indices:\n",
    "        counts[idx] += 1\n",
    "    \n",
    "    result = np.zeros((2 ** p, p + 1))\n",
    "    result[:, 0] = counts\n",
    "    result[:, 1:] = z_values\n",
    "        \n",
    "    return IsingData(result)\n",
    "\n",
    "data = generate_samples(theta, n)"
   ]
  },
  {
   "cell_type": "markdown",
   "id": "b130bc92",
   "metadata": {},
   "source": [
    "Below, we define the loss function for the Ising model."
   ]
  },
  {
   "cell_type": "code",
   "execution_count": 4,
   "id": "ef0ea589",
   "metadata": {},
   "outputs": [],
   "source": [
    "def loss_jax(params, data):\n",
    "    tmp = -2.0 * np.matmul(data.table[:, :, np.newaxis], data.table[:, np.newaxis, :])\n",
    "    tmp[:, np.arange(data.p), np.arange(data.p)] = 0.0\n",
    "    params_mat = params[data.index_translator]\n",
    "\n",
    "    return jnp.dot(\n",
    "        data.freq,\n",
    "        jnp.sum(\n",
    "            jnp.logaddexp(\n",
    "                jnp.sum(\n",
    "                    jnp.multiply(\n",
    "                        params_mat[:, :],\n",
    "                        tmp,\n",
    "                    ),\n",
    "                    axis=2,\n",
    "                ),\n",
    "                0,\n",
    "            ),\n",
    "            axis=1,\n",
    "        ),\n",
    "    )"
   ]
  },
  {
   "cell_type": "markdown",
   "id": "d9cbbc55",
   "metadata": {},
   "source": [
    "Below, we use the `ScopeSolver` and `GraspSolver` from the `scope` package to minimize the loss function under the $L_0$ constraint. The `GraspSolver` employs the Gradient Support Pursuit (GraSP) optimization method [[2]](#refer-anchor-2)."
   ]
  },
  {
   "cell_type": "code",
   "execution_count": 5,
   "id": "b6c9aab6",
   "metadata": {},
   "outputs": [
    {
     "name": "stderr",
     "output_type": "stream",
     "text": [
      "No GPU/TPU found, falling back to CPU. (Set TF_CPP_MIN_LOG_LEVEL=0 and rerun for more info.)\n"
     ]
    }
   ],
   "source": [
    "solver = ScopeSolver(\n",
    "    dimensionality=int(p * (p - 1) / 2),\n",
    "    sparsity=np.count_nonzero(theta[np.triu_indices(p)]),\n",
    ")  \n",
    "\n",
    "solver.solve(\n",
    "    loss_jax,\n",
    "    data,\n",
    "    init_params=jnp.zeros(int(p * (p - 1) / 2)),\n",
    ")\n",
    "\n",
    "theta_scope = np.zeros((p, p))\n",
    "theta_scope[np.triu_indices(p, k=1)] = solver.params\n",
    "theta_scope = np.where(\n",
    "    theta_scope, theta_scope, theta_scope.T\n",
    ")"
   ]
  },
  {
   "cell_type": "code",
   "execution_count": 6,
   "id": "817dcb49",
   "metadata": {},
   "outputs": [],
   "source": [
    "solver = GraspSolver(\n",
    "    dimensionality=int(p * (p - 1) / 2),\n",
    "    sparsity=np.count_nonzero(theta[np.triu_indices(p)]),\n",
    ")  \n",
    "\n",
    "solver.solve(\n",
    "    loss_jax,\n",
    "    data,\n",
    "    init_params=jnp.zeros(int(p * (p - 1) / 2)),\n",
    ")\n",
    "\n",
    "theta_grasp = np.zeros((p, p))\n",
    "theta_grasp[np.triu_indices(p, k=1)] = solver.params\n",
    "theta_grasp = np.where(\n",
    "    theta_grasp, theta_grasp, theta_grasp.T\n",
    ")"
   ]
  },
  {
   "cell_type": "markdown",
   "id": "f9498307",
   "metadata": {},
   "source": [
    "Below, we calculate the difference between the estimated values and the actual values of the Scope and Grasp estimators in terms of the Frobenius norm. We then display their matrix heatmaps."
   ]
  },
  {
   "cell_type": "code",
   "execution_count": 7,
   "id": "f779c3aa",
   "metadata": {},
   "outputs": [
    {
     "name": "stdout",
     "output_type": "stream",
     "text": [
      "Scope:  0.8640962324367055\n",
      "Grasp:  6.974435943071625\n"
     ]
    }
   ],
   "source": [
    "print('Scope: ', np.linalg.norm(theta - theta_scope, ord='fro'))\n",
    "print('Grasp: ', np.linalg.norm(theta - theta_grasp, ord='fro'))"
   ]
  },
  {
   "cell_type": "code",
   "execution_count": 8,
   "id": "5874c5d9",
   "metadata": {},
   "outputs": [
    {
     "data": {
      "image/png": "[encoded data removed]",
      "text/plain": [
       "<Figure size 1200x300 with 6 Axes>"
      ]
     },
     "metadata": {},
     "output_type": "display_data"
    }
   ],
   "source": [
    "fig, axes = plt.subplots(1, 3, figsize=(12, 3))\n",
    "\n",
    "cmap = cm.plasma\n",
    "\n",
    "sns.heatmap(theta, vmin=-1, vmax=1, cmap=cmap, ax=axes[0])\n",
    "axes[0].set_xticks([])\n",
    "axes[0].set_yticks([])\n",
    "axes[0].set_title('True')\n",
    "\n",
    "sns.heatmap(theta_scope, vmin=-1, vmax=1, cmap=cmap, ax=axes[1])\n",
    "axes[1].set_xticks([])\n",
    "axes[1].set_yticks([])\n",
    "axes[1].set_title('Scope')\n",
    "\n",
    "sns.heatmap(theta_grasp, vmin=-1, vmax=1, cmap=cmap, ax=axes[2])\n",
    "axes[2].set_xticks([])\n",
    "axes[2].set_yticks([])\n",
    "axes[2].set_title('Grasp')\n",
    "\n",
    "plt.show()"
   ]
  },
  {
   "cell_type": "markdown",
   "id": "4b3a7dbf",
   "metadata": {},
   "source": [
    "### Reference\n",
    "\n",
    "<div id=\"refer-anchor-1\"></div>\n",
    "\n",
    "- [1] Ising, E. (1925). Beitrag zur Theorie des Ferromagnetismus. Z. Physik 31, 253–258.  https://doi.org/10.1007/BF02980577\n",
    "\n",
    "<div id=\"refer-anchor-2\"></div>\n",
    "\n",
    "- [2] Bahmani, S., Raj, B., & Boufounos, P. T. (2013). Greedy sparsity-constrained optimization. The Journal of Machine Learning Research, 14(1), 807-841."
   ]
  }
 ],
 "metadata": {
  "kernelspec": {
   "display_name": "scope-dev",
   "language": "python",
   "name": "scope-dev"
  },
  "language_info": {
   "codemirror_mode": {
    "name": "ipython",
    "version": 3
   },
   "file_extension": ".py",
   "mimetype": "text/x-python",
   "name": "python",
   "nbconvert_exporter": "python",
   "pygments_lexer": "ipython3",
   "version": "3.9.16"
  }
 },
 "nbformat": 4,
 "nbformat_minor": 5
}
