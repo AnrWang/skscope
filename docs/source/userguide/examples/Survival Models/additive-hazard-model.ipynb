{
 "cells": [
  {
   "attachments": {},
   "cell_type": "markdown",
   "metadata": {},
   "source": [
    "Aalen’s additive hazards model\n",
    "--------------\n",
    "\n",
    "### Introduction\n",
    "\n",
    "Aalen’s additive hazards (AAH) model [[1]](#refer-1) is a statistical model used to analyze the time-to-event data, such as the survival of patients with a certain disease or the failure time of mechanical systems. Like the Cox's proportional hazards (CoxPH) model, it studies the risk factors which affect the survival time and their risk contributions. Instead of multiplicative like the CoxPH model, the AAH model is additive. And it also offers great flexibility due to its semi-parametric form. \n",
    "\n",
    "The AAH model specifies the hazard rate $\\lambda(t)=\\underset{h\\to 0}{\\lim}\\frac{P(T\\leq t+h)}{P(T>t)}$ for the survival time $T$ associated with a $p$-vector of possibly time-varying covariates $\\mathbf{Z}(\\cdot)$, and taking the form \n",
    "$$\\lambda(t\\mid \\mathbf{Z})=\\lambda_0(t)+\\boldsymbol{\\beta}^{\\prime}\\mathbf{Z}(t),$$\n",
    "where $\\boldsymbol{\\beta}$ is $p$-vector of regression parameters and $\\lambda_0(\\cdot)$ is baseline hazard function. The characteristic of AAH model is that the influence of each covariate is separate.\n",
    "\n",
    "For many reasons not all survival time are fullly observed, we only consider the right-censoring situation here and let $C$ be the censoring time. Denote the observed time by $X=\\min\\{T,C\\}$ and the censoring indicator by $\\delta=I(T\\leq C)$. Define the observed-failure counting process $N(t)=I(X\\leq t,\\delta=1)$ which registers whether an uncensored failure has occurred by time $t$ and the corresponding at-risk indicator $Y(t)=I(X\\geq t)$. Without loss of generality, denote 1 as the terminal time of observation and there are $n$ independent data $\\{(X_i,\\delta_i,\\mathbf{Z}_i): i=1,2,\\cdots,n\\}$.\n",
    "\n",
    "The least squares-type loss function of AAH model is \n",
    "$$L_1(\\boldsymbol{\\beta})=\\frac{1}{2}\\boldsymbol{\\beta}^{\\prime}V\\boldsymbol{\\beta}-\\mathbf{b}^{\\prime}\\boldsymbol{\\beta},$$\n",
    "where $\\overline{\\mathbf{Z}}(t)=\\sum_{j=1}^n Y_j(t) \\mathbf{Z}_j(t) / \\sum_{j=1}^n Y_j(t)$, $\\mathbf{b}=\\frac{1}{n}\\sum_{i=1}^{n}\\int_0^1 \\mathbf{Z}_i(t)-\\overline{\\mathbf{Z}}(t) \\mathrm{d} N_i(t)$ and $\\mathbf{V}=\\frac{1}{n} \\sum_{i=1}^n \\int_0^1 Y_i(t)\\left\\{\\mathbf{Z}_i(t)-\\overline{\\mathbf{Z}}(t)\\right\\}^{\\otimes 2} \\mathrm{d} t$. Parameter $\\boldsymbol{\\beta}$ is estimated by minimizing the loss function."
   ]
  },
  {
   "attachments": {},
   "cell_type": "markdown",
   "metadata": {},
   "source": [
    "### Data generation\n",
    "\n",
    "The survival probability is defined as $S(t)=P(T>t)$, and the survival probability of AAH model is\n",
    "$$S(t)=\\exp\\left\\{-\\int_0^t \\lambda(s\\mid \\mathbf{Z}) d s\\right\\}=\\exp\\left\\{-\\int_0^t \\lambda_0(s)+\\boldsymbol{\\beta}^{\\prime}\\mathbf{Z}(s) d s\\right\\}.$$\n",
    "In the simulation part, for simplicity, let the baseline hazard function $\\lambda_0(t)$ be constant 1 and the covariates be time independent. Thus, the survival time can be generated as follows,\n",
    "$$T=-\\frac{\\log U}{1+\\boldsymbol{\\beta}^{\\prime}\\mathbf{Z}},$$\n",
    "where $U$ is uniform on [0,1]. And $\\mathbf{Z}$ is generated from multivariate normal distribution with zero mean."
   ]
  },
  {
   "cell_type": "code",
   "execution_count": 177,
   "metadata": {},
   "outputs": [],
   "source": [
    "# generate additive hazard model data\n",
    "import numpy as np\n",
    "import numpy.random as rd\n",
    "\n",
    "def make_ahaz_data(n, coef, c=5, rho=0.2):\n",
    "    lam = 1\n",
    "    p = coef.shape[0]\n",
    "    mu = np.zeros(p)\n",
    "    Sigma = np.power(rho, np.abs(np.linspace(1, p, p) - np.linspace(1, p, p).reshape(p, 1)))\n",
    "    x = rd.multivariate_normal(mu, Sigma, (10*n,))    # variables\n",
    "    x = x[np.matmul(x,coef)>-1,]\n",
    "    x = x[0:n,]\n",
    "\n",
    "    xcoef = np.matmul(x,coef)\n",
    "    #lam = np.maximum(1, np.ceil(np.max(-xcoef[xcoef<0])) )\n",
    "    T = -np.log(rd.uniform(0,1, (n,)))/(lam + xcoef)    # survival time\n",
    "    U = rd.uniform(0,c, (n,))           # censoring time\n",
    "    delta = (T<=U)*1           # censoring indicator\n",
    "    print(\"censoring rate:\", np.sum(1-delta)/n )\n",
    "    return x, np.minimum(T,U), delta"
   ]
  },
  {
   "attachments": {},
   "cell_type": "markdown",
   "metadata": {},
   "source": [
    "### Sparse AHH model\n",
    "\n",
    "Nowadays, high-dimensional data is becoming increasingly common in the biomedical field. When dealing with high-dimensional data, it is necessary to choose appropriate techniques to reduce dimensionality. We focus on sparsity, which means that real non-zero variables are sparse. We can estimate $\\boldsymbol{\\beta}$ by minimizing least squares-type loss under sparsity constraint:\n",
    "$$\\arg\\min_{\\beta \\in R^p}L_1(\\beta) , s.t.  || \\beta ||_0 \\leq s.$$"
   ]
  },
  {
   "attachments": {},
   "cell_type": "markdown",
   "metadata": {},
   "source": [
    "Generate 200 subjects using the method described in the above part,  each subjects has ten explanatory variables, of which only two are effective. Then, we visualize the Kaplan-Meier survival curve of 200 subjects."
   ]
  },
  {
   "cell_type": "code",
   "execution_count": 179,
   "metadata": {},
   "outputs": [
    {
     "name": "stdout",
     "output_type": "stream",
     "text": [
      "censoring rate: 0.155\n"
     ]
    },
    {
     "data": {
      "text/plain": [
       "<AxesSubplot: xlabel='timeline'>"
      ]
     },
     "execution_count": 179,
     "metadata": {},
     "output_type": "execute_result"
    },
    {
     "data": {
      "image/png": "[encoded data removed]",
      "text/plain": [
       "<Figure size 640x480 with 1 Axes>"
      ]
     },
     "metadata": {},
     "output_type": "display_data"
    }
   ],
   "source": [
    "from lifelines import KaplanMeierFitter\n",
    "\n",
    "# generate data \n",
    "np.random.seed(319)\n",
    "n, p, k = 200, 10, 2\n",
    "beta = np.zeros(p)\n",
    "beta[np.linspace(0, p - 1, k, dtype=int)] = [2 for _ in range(k)]\n",
    "x, y, delta = make_ahaz_data(n,beta,c=5)\n",
    "\n",
    "# survival probability\n",
    "kmf = KaplanMeierFitter()\n",
    "kmf.fit(y, delta, label=\"event\", alpha=0.05)\n",
    "kmf.plot()"
   ]
  },
  {
   "attachments": {},
   "cell_type": "markdown",
   "metadata": {},
   "source": [
    "Here is Python code for solving sparse AAH model, which can be done rather directly by implementing the objective function of AAH model and feed it into `ScopeSolver`.   "
   ]
  },
  {
   "cell_type": "code",
   "execution_count": 180,
   "metadata": {},
   "outputs": [
    {
     "name": "stdout",
     "output_type": "stream",
     "text": [
      "Estimated parameter: [1.93507274 0.         0.         0.         0.         0.\n",
      " 0.         0.         0.         2.13002553] objective: -91.02359008789062\n",
      "True parameter: [2. 0. 0. 0. 0. 0. 0. 0. 0. 2.] objective: -89.78891\n"
     ]
    }
   ],
   "source": [
    "import jax.numpy as jnp\n",
    "from skscope import ScopeSolver\n",
    "import pandas as pd\n",
    "\n",
    "xsort = x[np.argsort(y),:]\n",
    "ysort = y[np.argsort(y)]\n",
    "deltasort = delta[np.argsort(y)]\n",
    "ydiff = np.append(ysort[0],np.diff(ysort))\n",
    "xbar = np.empty(shape=(n,p))\n",
    "for i in range(0,n):\n",
    "    xbar[i,:] = np.mean(xsort[i:n,:],axis=0)\n",
    "b = np.matmul(deltasort, xsort-xbar)\n",
    "V = np.empty(shape=(p,p))\n",
    "for i in range(n):\n",
    "    V += ((xsort[i,:]-xbar[0:(i+1),:]).T) @ np.diag(ydiff[0:(i+1)]) @ (xsort[i,:]-xbar[0:(i+1),:])\n",
    "\n",
    "\n",
    "def ahazard_objective(params):\n",
    "    return jnp.dot(jnp.dot(V,params),params)/2 - jnp.dot(params,b)\n",
    "\n",
    "solver = ScopeSolver(p, k)\n",
    "solver.solve(ahazard_objective, jit=True)\n",
    "zeroindex = np.where(solver.get_result()[\"params\"]==0)\n",
    "\n",
    "# save the data as data.frame\n",
    "data_df = pd.DataFrame(np.hstack((x,np.append(y,delta).reshape(n,2))))\n",
    "data_df.rename(columns={p:\"time\",\n",
    "                        p+1:\"event\"}, inplace=True)\n",
    "data_df = data_df.astype({\"event\":int})\n",
    "data_df_selected = data_df.drop(columns=zeroindex[0])\n",
    "\n",
    "print(\"Estimated parameter:\", solver.get_result()[\"params\"], \"objective:\",solver.get_result()[\"value_of_objective\"])\n",
    "print(\"True parameter:\", beta, \"objective:\",ahazard_objective(beta))"
   ]
  },
  {
   "attachments": {},
   "cell_type": "markdown",
   "metadata": {},
   "source": [
    "The real variables are selected correctly and the estimated parameters are close to the real values. \n",
    "\n",
    "### Comparison: sparse & dense models\n",
    "\n",
    "The following will show a comparison of the fitting results of the AAH model before and after variable selection."
   ]
  },
  {
   "cell_type": "code",
   "execution_count": 181,
   "metadata": {},
   "outputs": [
    {
     "data": {
      "text/html": [
       "<div>\n",
       "<style scoped>\n",
       "    .dataframe tbody tr th:only-of-type {\n",
       "        vertical-align: middle;\n",
       "    }\n",
       "\n",
       "    .dataframe tbody tr th {\n",
       "        vertical-align: top;\n",
       "    }\n",
       "\n",
       "    .dataframe thead th {\n",
       "        text-align: right;\n",
       "    }\n",
       "</style>\n",
       "<table border=\"1\" class=\"dataframe\">\n",
       "  <tbody>\n",
       "    <tr>\n",
       "      <th>model</th>\n",
       "      <td>lifelines.AalenAdditiveFitter</td>\n",
       "    </tr>\n",
       "    <tr>\n",
       "      <th>duration col</th>\n",
       "      <td>'time'</td>\n",
       "    </tr>\n",
       "    <tr>\n",
       "      <th>event col</th>\n",
       "      <td>'event'</td>\n",
       "    </tr>\n",
       "    <tr>\n",
       "      <th>number of subjects</th>\n",
       "      <td>200</td>\n",
       "    </tr>\n",
       "    <tr>\n",
       "      <th>number of events observed</th>\n",
       "      <td>102</td>\n",
       "    </tr>\n",
       "    <tr>\n",
       "      <th>time fit was run</th>\n",
       "      <td>2023-06-06 03:35:10 UTC</td>\n",
       "    </tr>\n",
       "  </tbody>\n",
       "</table>\n",
       "</div><table border=\"1\" class=\"dataframe\">\n",
       "  <thead>\n",
       "    <tr style=\"text-align: right;\">\n",
       "      <th style=\"min-width: 12px;\"></th>\n",
       "      <th style=\"min-width: 12px;\">slope(coef)</th>\n",
       "      <th style=\"min-width: 12px;\">se(slope(coef))</th>\n",
       "    </tr>\n",
       "  </thead>\n",
       "  <tbody>\n",
       "    <tr>\n",
       "      <th>0</th>\n",
       "      <td>1.03</td>\n",
       "      <td>0.86</td>\n",
       "    </tr>\n",
       "    <tr>\n",
       "      <th>1</th>\n",
       "      <td>0.19</td>\n",
       "      <td>0.27</td>\n",
       "    </tr>\n",
       "    <tr>\n",
       "      <th>2</th>\n",
       "      <td>-0.27</td>\n",
       "      <td>0.27</td>\n",
       "    </tr>\n",
       "    <tr>\n",
       "      <th>3</th>\n",
       "      <td>-0.40</td>\n",
       "      <td>0.36</td>\n",
       "    </tr>\n",
       "    <tr>\n",
       "      <th>4</th>\n",
       "      <td>0.14</td>\n",
       "      <td>0.18</td>\n",
       "    </tr>\n",
       "    <tr>\n",
       "      <th>5</th>\n",
       "      <td>-0.23</td>\n",
       "      <td>0.33</td>\n",
       "    </tr>\n",
       "    <tr>\n",
       "      <th>6</th>\n",
       "      <td>-0.23</td>\n",
       "      <td>0.22</td>\n",
       "    </tr>\n",
       "    <tr>\n",
       "      <th>7</th>\n",
       "      <td>0.17</td>\n",
       "      <td>0.16</td>\n",
       "    </tr>\n",
       "    <tr>\n",
       "      <th>8</th>\n",
       "      <td>-0.39</td>\n",
       "      <td>0.33</td>\n",
       "    </tr>\n",
       "    <tr>\n",
       "      <th>9</th>\n",
       "      <td>1.21</td>\n",
       "      <td>1.01</td>\n",
       "    </tr>\n",
       "  </tbody>\n",
       "</table><br><div>\n",
       "<style scoped>\n",
       "    .dataframe tbody tr th:only-of-type {\n",
       "        vertical-align: middle;\n",
       "    }\n",
       "\n",
       "    .dataframe tbody tr th {\n",
       "        vertical-align: top;\n",
       "    }\n",
       "\n",
       "    .dataframe thead th {\n",
       "        text-align: right;\n",
       "    }\n",
       "</style>\n",
       "<table border=\"1\" class=\"dataframe\">\n",
       "  <tbody>\n",
       "    <tr>\n",
       "      <th>Concordance</th>\n",
       "      <td>0.53</td>\n",
       "    </tr>\n",
       "  </tbody>\n",
       "</table>\n",
       "</div>"
      ],
      "text/latex": [
       "\\begin{tabular}{lrr}\n",
       " & slope(coef) & se(slope(coef)) \\\\\n",
       "covariate &  &  \\\\\n",
       "0 & 1.03 & 0.86 \\\\\n",
       "1 & 0.19 & 0.27 \\\\\n",
       "2 & -0.27 & 0.27 \\\\\n",
       "3 & -0.40 & 0.36 \\\\\n",
       "4 & 0.14 & 0.18 \\\\\n",
       "5 & -0.23 & 0.33 \\\\\n",
       "6 & -0.23 & 0.22 \\\\\n",
       "7 & 0.17 & 0.16 \\\\\n",
       "8 & -0.39 & 0.33 \\\\\n",
       "9 & 1.21 & 1.01 \\\\\n",
       "\\end{tabular}\n"
      ],
      "text/plain": [
       "<lifelines.AalenAdditiveFitter: fitted with 200 total observations, 98 right-censored observations>\n",
       "             duration col = 'time'\n",
       "                event col = 'event'\n",
       "       number of subjects = 200\n",
       "number of events observed = 102\n",
       "         time fit was run = 2023-06-06 03:35:10 UTC\n",
       "\n",
       "---\n",
       "Empty DataFrame\n",
       "Columns: []\n",
       "Index: [0, 1, 2, 3, 4, 5, 6, 7, 8, 9]\n",
       "---\n",
       "Concordance = 0.53"
      ]
     },
     "metadata": {},
     "output_type": "display_data"
    }
   ],
   "source": [
    "from lifelines import AalenAdditiveFitter\n",
    "\n",
    "# model fit with all variables\n",
    "aaf = AalenAdditiveFitter(fit_intercept=False)\n",
    "aaf.fit(data_df, duration_col='time', event_col='event')\n",
    "aaf.print_summary()"
   ]
  },
  {
   "attachments": {},
   "cell_type": "markdown",
   "metadata": {},
   "source": [
    "From the summary table, the estimated coefficients of non-real variables are very small, only the coefficients of real variables are relatively large. "
   ]
  },
  {
   "cell_type": "code",
   "execution_count": 182,
   "metadata": {},
   "outputs": [
    {
     "data": {
      "text/html": [
       "<div>\n",
       "<style scoped>\n",
       "    .dataframe tbody tr th:only-of-type {\n",
       "        vertical-align: middle;\n",
       "    }\n",
       "\n",
       "    .dataframe tbody tr th {\n",
       "        vertical-align: top;\n",
       "    }\n",
       "\n",
       "    .dataframe thead th {\n",
       "        text-align: right;\n",
       "    }\n",
       "</style>\n",
       "<table border=\"1\" class=\"dataframe\">\n",
       "  <tbody>\n",
       "    <tr>\n",
       "      <th>model</th>\n",
       "      <td>lifelines.AalenAdditiveFitter</td>\n",
       "    </tr>\n",
       "    <tr>\n",
       "      <th>duration col</th>\n",
       "      <td>'time'</td>\n",
       "    </tr>\n",
       "    <tr>\n",
       "      <th>event col</th>\n",
       "      <td>'event'</td>\n",
       "    </tr>\n",
       "    <tr>\n",
       "      <th>number of subjects</th>\n",
       "      <td>200</td>\n",
       "    </tr>\n",
       "    <tr>\n",
       "      <th>number of events observed</th>\n",
       "      <td>102</td>\n",
       "    </tr>\n",
       "    <tr>\n",
       "      <th>time fit was run</th>\n",
       "      <td>2023-06-06 03:35:12 UTC</td>\n",
       "    </tr>\n",
       "  </tbody>\n",
       "</table>\n",
       "</div><table border=\"1\" class=\"dataframe\">\n",
       "  <thead>\n",
       "    <tr style=\"text-align: right;\">\n",
       "      <th style=\"min-width: 12px;\"></th>\n",
       "      <th style=\"min-width: 12px;\">slope(coef)</th>\n",
       "      <th style=\"min-width: 12px;\">se(slope(coef))</th>\n",
       "    </tr>\n",
       "  </thead>\n",
       "  <tbody>\n",
       "    <tr>\n",
       "      <th>0</th>\n",
       "      <td>1.08</td>\n",
       "      <td>0.91</td>\n",
       "    </tr>\n",
       "    <tr>\n",
       "      <th>9</th>\n",
       "      <td>1.20</td>\n",
       "      <td>1.00</td>\n",
       "    </tr>\n",
       "  </tbody>\n",
       "</table><br><div>\n",
       "<style scoped>\n",
       "    .dataframe tbody tr th:only-of-type {\n",
       "        vertical-align: middle;\n",
       "    }\n",
       "\n",
       "    .dataframe tbody tr th {\n",
       "        vertical-align: top;\n",
       "    }\n",
       "\n",
       "    .dataframe thead th {\n",
       "        text-align: right;\n",
       "    }\n",
       "</style>\n",
       "<table border=\"1\" class=\"dataframe\">\n",
       "  <tbody>\n",
       "    <tr>\n",
       "      <th>Concordance</th>\n",
       "      <td>0.56</td>\n",
       "    </tr>\n",
       "  </tbody>\n",
       "</table>\n",
       "</div>"
      ],
      "text/latex": [
       "\\begin{tabular}{lrr}\n",
       " & slope(coef) & se(slope(coef)) \\\\\n",
       "covariate &  &  \\\\\n",
       "0 & 1.08 & 0.91 \\\\\n",
       "9 & 1.20 & 1.00 \\\\\n",
       "\\end{tabular}\n"
      ],
      "text/plain": [
       "<lifelines.AalenAdditiveFitter: fitted with 200 total observations, 98 right-censored observations>\n",
       "             duration col = 'time'\n",
       "                event col = 'event'\n",
       "       number of subjects = 200\n",
       "number of events observed = 102\n",
       "         time fit was run = 2023-06-06 03:35:12 UTC\n",
       "\n",
       "---\n",
       "Empty DataFrame\n",
       "Columns: []\n",
       "Index: [0, 9]\n",
       "---\n",
       "Concordance = 0.56"
      ]
     },
     "metadata": {},
     "output_type": "display_data"
    }
   ],
   "source": [
    "# model fit with selected variables\n",
    "aaf_selected = AalenAdditiveFitter(fit_intercept=False)\n",
    "aaf_selected.fit(data_df_selected, duration_col='time', event_col='event')\n",
    "aaf_selected.print_summary()"
   ]
  },
  {
   "attachments": {},
   "cell_type": "markdown",
   "metadata": {},
   "source": [
    "The concordance score (also known as the c-index) of the fit, which is a generalization of the ROC AUC to survival data. The coefficients estimated by the ``lifeline`` library are less precise than those estimated by the ``scope``, but it is also clear that fitting with the selected variables corresponds to an increase in the concordance score. Therefore, variable selection effectively explains the model without losing too much information."
   ]
  },
  {
   "attachments": {},
   "cell_type": "markdown",
   "metadata": {},
   "source": [
    "### Reference\n",
    "\n",
    "<div id=\"refer-1\"></div>\n",
    "\n",
    "- [1] Aalen, O.O. (1989), A linear regression model for the analysis of life times. Statist. Med., 8: 907-925. https://doi.org/10.1002/sim.4780080803"
   ]
  }
 ],
 "metadata": {
  "kernelspec": {
   "display_name": "scopedev",
   "language": "python",
   "name": "python3"
  },
  "language_info": {
   "codemirror_mode": {
    "name": "ipython",
    "version": 3
   },
   "file_extension": ".py",
   "mimetype": "text/x-python",
   "name": "python",
   "nbconvert_exporter": "python",
   "pygments_lexer": "ipython3",
   "version": "3.9.15"
  },
  "orig_nbformat": 4,
  "vscode": {
   "interpreter": {
    "hash": "2e94100132c34e335c27dec6a60d632ac7632eaaaea7172d16e9a059965b0a61"
   }
  }
 },
 "nbformat": 4,
 "nbformat_minor": 2
}
